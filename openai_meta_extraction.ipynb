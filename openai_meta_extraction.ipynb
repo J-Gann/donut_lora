{
 "cells": [
  {
   "cell_type": "code",
   "execution_count": 1,
   "metadata": {},
   "outputs": [
    {
     "name": "stdout",
     "output_type": "stream",
     "text": [
      "Get:1 file:/var/cuda-repo-ubuntu2204-12-4-local  InRelease [1572 B]\n",
      "Get:2 file:/var/cudnn-local-repo-ubuntu2204-9.5.1  InRelease [1572 B]    \u001b[0m\n",
      "Get:1 file:/var/cuda-repo-ubuntu2204-12-4-local  InRelease [1572 B]            \u001b[0m\u001b[33m\n",
      "Get:2 file:/var/cudnn-local-repo-ubuntu2204-9.5.1  InRelease [1572 B]          \u001b[0m\u001b[33m\n",
      "Hit:3 http://archive.ubuntu.com/ubuntu jammy InRelease                         \u001b[0m\n",
      "Get:4 http://archive.ubuntu.com/ubuntu jammy-updates InRelease [128 kB]        \u001b[0m\n",
      "Get:5 http://archive.ubuntu.com/ubuntu jammy-backports InRelease [127 kB]      \u001b[0m\u001b[33m\n",
      "Get:6 https://deb.nodesource.com/node_20.x nodistro InRelease [12.1 kB]        \u001b[0m\u001b[33m\u001b[33m\n",
      "Get:7 http://security.ubuntu.com/ubuntu jammy-security InRelease [129 kB]      \u001b[0m\u001b[33m\n",
      "Get:8 http://archive.ubuntu.com/ubuntu jammy-updates/main amd64 Packages [2667 kB]m\u001b[33m\u001b[33m\n",
      "Get:9 http://archive.ubuntu.com/ubuntu jammy-updates/universe amd64 Packages [1451 kB]3m\n",
      "Get:11 http://archive.ubuntu.com/ubuntu jammy-updates/restricted amd64 Packages [3310 kB]\n",
      "Get:12 http://archive.ubuntu.com/ubuntu jammy-updates/multiverse amd64 Packages [51.8 kB]\n",
      "Hit:13 https://ppa.launchpadcontent.net/deadsnakes/ppa/ubuntu jammy InRelease  \n",
      "Hit:10 https://packagecloud.io/github/git-lfs/ubuntu jammy InRelease           \u001b[0m\u001b[33m\n",
      "Get:14 https://deb.nodesource.com/node_20.x nodistro/main amd64 Packages [9431 B]\n",
      "Get:15 http://security.ubuntu.com/ubuntu jammy-security/restricted amd64 Packages [3227 kB]\n",
      "Get:16 http://security.ubuntu.com/ubuntu jammy-security/multiverse amd64 Packages [44.7 kB]\n",
      "Get:17 http://security.ubuntu.com/ubuntu jammy-security/main amd64 Packages [2389 kB]\n",
      "Get:18 http://security.ubuntu.com/ubuntu jammy-security/universe amd64 Packages [1162 kB]\n",
      "Fetched 14.7 MB in 1s (11.2 MB/s)                           \u001b[0m\u001b[33m\u001b[33m\u001b[33m\u001b[33m\n",
      "Reading package lists... Done\n",
      "Building dependency tree... Done\n",
      "Reading state information... Done\n",
      "5 packages can be upgraded. Run 'apt list --upgradable' to see them.\n",
      "\u001b[33mWARNING: Running pip as the 'root' user can result in broken permissions and conflicting behaviour with the system package manager, possibly rendering your system unusable.It is recommended to use a virtual environment instead: https://pip.pypa.io/warnings/venv. Use the --root-user-action option if you know what you are doing and want to suppress this warning.\u001b[0m\u001b[33m\n",
      "\u001b[0mNote: you may need to restart the kernel to use updated packages.\n",
      "\u001b[33mWARNING: Running pip as the 'root' user can result in broken permissions and conflicting behaviour with the system package manager, possibly rendering your system unusable.It is recommended to use a virtual environment instead: https://pip.pypa.io/warnings/venv. Use the --root-user-action option if you know what you are doing and want to suppress this warning.\u001b[0m\u001b[33m\n",
      "\u001b[0mNote: you may need to restart the kernel to use updated packages.\n",
      "Reading package lists... Done\n",
      "Building dependency tree... Done\n",
      "Reading state information... Done\n",
      "The following additional packages will be installed:\n",
      "  libpoppler118 poppler-data\n",
      "Suggested packages:\n",
      "  ghostscript fonts-japanese-mincho | fonts-ipafont-mincho\n",
      "  fonts-japanese-gothic | fonts-ipafont-gothic fonts-arphic-ukai\n",
      "  fonts-arphic-uming fonts-nanum\n",
      "The following NEW packages will be installed:\n",
      "  libpoppler118 poppler-data poppler-utils\n",
      "0 upgraded, 3 newly installed, 0 to remove and 5 not upgraded.\n",
      "Need to get 3427 kB of archives.\n",
      "After this operation, 17.7 MB of additional disk space will be used.\n",
      "Get:1 http://archive.ubuntu.com/ubuntu jammy/main amd64 poppler-data all 0.4.11-1 [2171 kB]\n",
      "Get:2 http://archive.ubuntu.com/ubuntu jammy-updates/main amd64 libpoppler118 amd64 22.02.0-2ubuntu0.5 [1071 kB]\n",
      "Get:3 http://archive.ubuntu.com/ubuntu jammy-updates/main amd64 poppler-utils amd64 22.02.0-2ubuntu0.5 [186 kB]\n",
      "Fetched 3427 kB in 0s (28.5 MB/s)       \u001b[0m\u001b[33m\n",
      "\n",
      "\u001b7\u001b[0;23r\u001b8\u001b[1ASelecting previously unselected package poppler-data.\n",
      "(Reading database ... 91154 files and directories currently installed.)\n",
      "Preparing to unpack .../poppler-data_0.4.11-1_all.deb ...\n",
      "\u001b7\u001b[24;0f\u001b[42m\u001b[30mProgress: [  0%]\u001b[49m\u001b[39m [..........................................................] \u001b8\u001b7\u001b[24;0f\u001b[42m\u001b[30mProgress: [  8%]\u001b[49m\u001b[39m [####......................................................] \u001b8Unpacking poppler-data (0.4.11-1) ...\n",
      "\u001b7\u001b[24;0f\u001b[42m\u001b[30mProgress: [ 15%]\u001b[49m\u001b[39m [########..................................................] \u001b8Selecting previously unselected package libpoppler118:amd64.\n",
      "Preparing to unpack .../libpoppler118_22.02.0-2ubuntu0.5_amd64.deb ...\n",
      "\u001b7\u001b[24;0f\u001b[42m\u001b[30mProgress: [ 23%]\u001b[49m\u001b[39m [#############.............................................] \u001b8Unpacking libpoppler118:amd64 (22.02.0-2ubuntu0.5) ...\n",
      "\u001b7\u001b[24;0f\u001b[42m\u001b[30mProgress: [ 31%]\u001b[49m\u001b[39m [#################.........................................] \u001b8Selecting previously unselected package poppler-utils.\n",
      "Preparing to unpack .../poppler-utils_22.02.0-2ubuntu0.5_amd64.deb ...\n",
      "\u001b7\u001b[24;0f\u001b[42m\u001b[30mProgress: [ 38%]\u001b[49m\u001b[39m [######################....................................] \u001b8Unpacking poppler-utils (22.02.0-2ubuntu0.5) ...\n",
      "\u001b7\u001b[24;0f\u001b[42m\u001b[30mProgress: [ 46%]\u001b[49m\u001b[39m [##########################................................] \u001b8Setting up poppler-data (0.4.11-1) ...\n",
      "\u001b7\u001b[24;0f\u001b[42m\u001b[30mProgress: [ 54%]\u001b[49m\u001b[39m [###############################...........................] \u001b8\u001b7\u001b[24;0f\u001b[42m\u001b[30mProgress: [ 62%]\u001b[49m\u001b[39m [###################################.......................] \u001b8Setting up libpoppler118:amd64 (22.02.0-2ubuntu0.5) ...\n",
      "\u001b7\u001b[24;0f\u001b[42m\u001b[30mProgress: [ 69%]\u001b[49m\u001b[39m [########################################..................] \u001b8\u001b7\u001b[24;0f\u001b[42m\u001b[30mProgress: [ 77%]\u001b[49m\u001b[39m [############################################..............] \u001b8Setting up poppler-utils (22.02.0-2ubuntu0.5) ...\n",
      "\u001b7\u001b[24;0f\u001b[42m\u001b[30mProgress: [ 85%]\u001b[49m\u001b[39m [#################################################.........] \u001b8\u001b7\u001b[24;0f\u001b[42m\u001b[30mProgress: [ 92%]\u001b[49m\u001b[39m [#####################################################.....] \u001b8Processing triggers for libc-bin (2.35-0ubuntu3.8) ...\n",
      "Processing triggers for man-db (2.10.2-1) ...\n",
      "Processing triggers for fontconfig (2.13.1-4.2ubuntu5) ...\n",
      "\n",
      "\u001b7\u001b[0;24r\u001b8\u001b[1A\u001b[J\u001b[33mWARNING: Running pip as the 'root' user can result in broken permissions and conflicting behaviour with the system package manager, possibly rendering your system unusable.It is recommended to use a virtual environment instead: https://pip.pypa.io/warnings/venv. Use the --root-user-action option if you know what you are doing and want to suppress this warning.\u001b[0m\u001b[33m\n",
      "\u001b[0mNote: you may need to restart the kernel to use updated packages.\n",
      "\u001b[33mWARNING: Running pip as the 'root' user can result in broken permissions and conflicting behaviour with the system package manager, possibly rendering your system unusable.It is recommended to use a virtual environment instead: https://pip.pypa.io/warnings/venv. Use the --root-user-action option if you know what you are doing and want to suppress this warning.\u001b[0m\u001b[33m\n",
      "\u001b[0mNote: you may need to restart the kernel to use updated packages.\n",
      "Reading package lists... Done\n",
      "Building dependency tree... Done\n",
      "Reading state information... Done\n",
      "The following additional packages will be installed:\n",
      "  libarchive13 liblept5 libtesseract4 tesseract-ocr-eng tesseract-ocr-osd\n",
      "Suggested packages:\n",
      "  lrzip\n",
      "The following NEW packages will be installed:\n",
      "  libarchive13 liblept5 libtesseract4 tesseract-ocr tesseract-ocr-eng\n",
      "  tesseract-ocr-osd\n",
      "0 upgraded, 6 newly installed, 0 to remove and 5 not upgraded.\n",
      "Need to get 7600 kB of archives.\n",
      "After this operation, 22.6 MB of additional disk space will be used.\n",
      "Get:1 http://archive.ubuntu.com/ubuntu jammy-updates/main amd64 libarchive13 amd64 3.6.0-1ubuntu1.3 [369 kB]\n",
      "Get:2 http://archive.ubuntu.com/ubuntu jammy/universe amd64 liblept5 amd64 1.82.0-3build1 [1107 kB]\n",
      "Get:3 http://archive.ubuntu.com/ubuntu jammy/universe amd64 libtesseract4 amd64 4.1.1-2.1build1 [1308 kB]\n",
      "Get:4 http://archive.ubuntu.com/ubuntu jammy/universe amd64 tesseract-ocr-eng all 1:4.00~git30-7274cfa-1.1 [1591 kB]\n",
      "Get:5 http://archive.ubuntu.com/ubuntu jammy/universe amd64 tesseract-ocr-osd all 1:4.00~git30-7274cfa-1.1 [2990 kB]\n",
      "Get:6 http://archive.ubuntu.com/ubuntu jammy/universe amd64 tesseract-ocr amd64 4.1.1-2.1build1 [236 kB]\n",
      "Fetched 7600 kB in 1s (8253 kB/s)       \u001b[0m\u001b[33m\n",
      "\n",
      "\u001b7\u001b[0;23r\u001b8\u001b[1ASelecting previously unselected package libarchive13:amd64.\n",
      "(Reading database ... 91724 files and directories currently installed.)\n",
      "Preparing to unpack .../0-libarchive13_3.6.0-1ubuntu1.3_amd64.deb ...\n",
      "\u001b7\u001b[24;0f\u001b[42m\u001b[30mProgress: [  0%]\u001b[49m\u001b[39m [..........................................................] \u001b8\u001b7\u001b[24;0f\u001b[42m\u001b[30mProgress: [  4%]\u001b[49m\u001b[39m [##........................................................] \u001b8Unpacking libarchive13:amd64 (3.6.0-1ubuntu1.3) ...\n",
      "\u001b7\u001b[24;0f\u001b[42m\u001b[30mProgress: [  8%]\u001b[49m\u001b[39m [####......................................................] \u001b8Selecting previously unselected package liblept5:amd64.\n",
      "Preparing to unpack .../1-liblept5_1.82.0-3build1_amd64.deb ...\n",
      "\u001b7\u001b[24;0f\u001b[42m\u001b[30mProgress: [ 12%]\u001b[49m\u001b[39m [######....................................................] \u001b8Unpacking liblept5:amd64 (1.82.0-3build1) ...\n",
      "\u001b7\u001b[24;0f\u001b[42m\u001b[30mProgress: [ 16%]\u001b[49m\u001b[39m [#########.................................................] \u001b8Selecting previously unselected package libtesseract4:amd64.\n",
      "Preparing to unpack .../2-libtesseract4_4.1.1-2.1build1_amd64.deb ...\n",
      "\u001b7\u001b[24;0f\u001b[42m\u001b[30mProgress: [ 20%]\u001b[49m\u001b[39m [###########...............................................] \u001b8Unpacking libtesseract4:amd64 (4.1.1-2.1build1) ...\n",
      "\u001b7\u001b[24;0f\u001b[42m\u001b[30mProgress: [ 24%]\u001b[49m\u001b[39m [#############.............................................] \u001b8Selecting previously unselected package tesseract-ocr-eng.\n",
      "Preparing to unpack .../3-tesseract-ocr-eng_1%3a4.00~git30-7274cfa-1.1_all.deb ...\n",
      "\u001b7\u001b[24;0f\u001b[42m\u001b[30mProgress: [ 28%]\u001b[49m\u001b[39m [################..........................................] \u001b8Unpacking tesseract-ocr-eng (1:4.00~git30-7274cfa-1.1) ...\n",
      "\u001b7\u001b[24;0f\u001b[42m\u001b[30mProgress: [ 32%]\u001b[49m\u001b[39m [##################........................................] \u001b8Selecting previously unselected package tesseract-ocr-osd.\n",
      "Preparing to unpack .../4-tesseract-ocr-osd_1%3a4.00~git30-7274cfa-1.1_all.deb ...\n",
      "\u001b7\u001b[24;0f\u001b[42m\u001b[30mProgress: [ 36%]\u001b[49m\u001b[39m [####################......................................] \u001b8Unpacking tesseract-ocr-osd (1:4.00~git30-7274cfa-1.1) ...\n",
      "\u001b7\u001b[24;0f\u001b[42m\u001b[30mProgress: [ 40%]\u001b[49m\u001b[39m [#######################...................................] \u001b8Selecting previously unselected package tesseract-ocr.\n",
      "Preparing to unpack .../5-tesseract-ocr_4.1.1-2.1build1_amd64.deb ...\n",
      "\u001b7\u001b[24;0f\u001b[42m\u001b[30mProgress: [ 44%]\u001b[49m\u001b[39m [#########################.................................] \u001b8Unpacking tesseract-ocr (4.1.1-2.1build1) ...\n",
      "\u001b7\u001b[24;0f\u001b[42m\u001b[30mProgress: [ 48%]\u001b[49m\u001b[39m [###########################...............................] \u001b8Setting up libarchive13:amd64 (3.6.0-1ubuntu1.3) ...\n",
      "\u001b7\u001b[24;0f\u001b[42m\u001b[30mProgress: [ 52%]\u001b[49m\u001b[39m [##############################............................] \u001b8\u001b7\u001b[24;0f\u001b[42m\u001b[30mProgress: [ 56%]\u001b[49m\u001b[39m [################################..........................] \u001b8Setting up tesseract-ocr-eng (1:4.00~git30-7274cfa-1.1) ...\n",
      "\u001b7\u001b[24;0f\u001b[42m\u001b[30mProgress: [ 60%]\u001b[49m\u001b[39m [##################################........................] \u001b8\u001b7\u001b[24;0f\u001b[42m\u001b[30mProgress: [ 64%]\u001b[49m\u001b[39m [#####################################.....................] \u001b8Setting up liblept5:amd64 (1.82.0-3build1) ...\n",
      "\u001b7\u001b[24;0f\u001b[42m\u001b[30mProgress: [ 68%]\u001b[49m\u001b[39m [#######################################...................] \u001b8\u001b7\u001b[24;0f\u001b[42m\u001b[30mProgress: [ 72%]\u001b[49m\u001b[39m [#########################################.................] \u001b8Setting up libtesseract4:amd64 (4.1.1-2.1build1) ...\n",
      "\u001b7\u001b[24;0f\u001b[42m\u001b[30mProgress: [ 76%]\u001b[49m\u001b[39m [############################################..............] \u001b8\u001b7\u001b[24;0f\u001b[42m\u001b[30mProgress: [ 80%]\u001b[49m\u001b[39m [##############################################............] \u001b8Setting up tesseract-ocr-osd (1:4.00~git30-7274cfa-1.1) ...\n",
      "\u001b7\u001b[24;0f\u001b[42m\u001b[30mProgress: [ 84%]\u001b[49m\u001b[39m [################################################..........] \u001b8\u001b7\u001b[24;0f\u001b[42m\u001b[30mProgress: [ 88%]\u001b[49m\u001b[39m [###################################################.......] \u001b8Setting up tesseract-ocr (4.1.1-2.1build1) ...\n",
      "\u001b7\u001b[24;0f\u001b[42m\u001b[30mProgress: [ 92%]\u001b[49m\u001b[39m [#####################################################.....] \u001b8\u001b7\u001b[24;0f\u001b[42m\u001b[30mProgress: [ 96%]\u001b[49m\u001b[39m [#######################################################...] \u001b8Processing triggers for man-db (2.10.2-1) ...\n",
      "Processing triggers for libc-bin (2.35-0ubuntu3.8) ...\n",
      "\n",
      "\u001b7\u001b[0;24r\u001b8\u001b[1A\u001b[J\u001b[33mWARNING: Running pip as the 'root' user can result in broken permissions and conflicting behaviour with the system package manager, possibly rendering your system unusable.It is recommended to use a virtual environment instead: https://pip.pypa.io/warnings/venv. Use the --root-user-action option if you know what you are doing and want to suppress this warning.\u001b[0m\u001b[33m\n",
      "\u001b[0mNote: you may need to restart the kernel to use updated packages.\n",
      "Requirement already satisfied: huggingface_hub in /usr/local/lib/python3.11/dist-packages (0.26.1)\n",
      "Collecting huggingface_hub\n",
      "  Downloading huggingface_hub-0.26.2-py3-none-any.whl.metadata (13 kB)\n",
      "Requirement already satisfied: filelock in /usr/local/lib/python3.11/dist-packages (from huggingface_hub) (3.16.1)\n",
      "Requirement already satisfied: fsspec>=2023.5.0 in /usr/local/lib/python3.11/dist-packages (from huggingface_hub) (2023.6.0)\n",
      "Requirement already satisfied: packaging>=20.9 in /usr/local/lib/python3.11/dist-packages (from huggingface_hub) (24.1)\n",
      "Requirement already satisfied: pyyaml>=5.1 in /usr/lib/python3/dist-packages (from huggingface_hub) (5.4.1)\n",
      "Requirement already satisfied: requests in /usr/local/lib/python3.11/dist-packages (from huggingface_hub) (2.32.3)\n",
      "Requirement already satisfied: tqdm>=4.42.1 in /usr/local/lib/python3.11/dist-packages (from huggingface_hub) (4.66.1)\n",
      "Requirement already satisfied: typing-extensions>=3.7.4.3 in /usr/local/lib/python3.11/dist-packages (from huggingface_hub) (4.12.2)\n",
      "Requirement already satisfied: charset-normalizer<4,>=2 in /usr/local/lib/python3.11/dist-packages (from requests->huggingface_hub) (3.4.0)\n",
      "Requirement already satisfied: idna<4,>=2.5 in /usr/lib/python3/dist-packages (from requests->huggingface_hub) (3.3)\n",
      "Requirement already satisfied: urllib3<3,>=1.21.1 in /usr/local/lib/python3.11/dist-packages (from requests->huggingface_hub) (2.0.7)\n",
      "Requirement already satisfied: certifi>=2017.4.17 in /usr/lib/python3/dist-packages (from requests->huggingface_hub) (2020.6.20)\n",
      "Downloading huggingface_hub-0.26.2-py3-none-any.whl (447 kB)\n",
      "Installing collected packages: huggingface_hub\n",
      "  Attempting uninstall: huggingface_hub\n",
      "    Found existing installation: huggingface-hub 0.26.1\n",
      "    Uninstalling huggingface-hub-0.26.1:\n",
      "      Successfully uninstalled huggingface-hub-0.26.1\n",
      "Successfully installed huggingface_hub-0.26.2\n",
      "\u001b[33mWARNING: Running pip as the 'root' user can result in broken permissions and conflicting behaviour with the system package manager, possibly rendering your system unusable.It is recommended to use a virtual environment instead: https://pip.pypa.io/warnings/venv. Use the --root-user-action option if you know what you are doing and want to suppress this warning.\u001b[0m\u001b[33m\n",
      "\u001b[0mNote: you may need to restart the kernel to use updated packages.\n"
     ]
    }
   ],
   "source": [
    "!sudo apt update\n",
    "%pip install -q -U python-dotenv\n",
    "%pip install -q -U pdf2image\n",
    "!sudo apt install --yes poppler-utils\n",
    "%pip install -q -U openai\n",
    "%pip install -q -U pytesseract\n",
    "!sudo apt install --yes tesseract-ocr\n",
    "%pip install -q -U Unidecode\n",
    "%pip install -U huggingface_hub"
   ]
  },
  {
   "cell_type": "code",
   "execution_count": 1,
   "metadata": {
    "execution": {
     "iopub.execute_input": "2024-09-23T15:45:41.689150Z",
     "iopub.status.busy": "2024-09-23T15:45:41.688679Z",
     "iopub.status.idle": "2024-09-23T15:45:42.294717Z",
     "shell.execute_reply": "2024-09-23T15:45:42.294222Z",
     "shell.execute_reply.started": "2024-09-23T15:45:41.689128Z"
    },
    "id": "dJMeuXkUMyDW"
   },
   "outputs": [],
   "source": [
    "from dotenv import load_dotenv\n",
    "from enum import Enum\n",
    "from openai import OpenAI\n",
    "from pdf2image import convert_from_path\n",
    "from PIL import Image\n",
    "from pydantic import BaseModel\n",
    "from tqdm import tqdm\n",
    "from typing import List, Literal, Optional, Union\n",
    "from urllib.parse import urlparse\n",
    "import json\n",
    "import os\n",
    "import pytesseract\n",
    "import requests\n",
    "import tempfile\n",
    "import unicodedata\n",
    "import urllib\n",
    "import base64"
   ]
  },
  {
   "cell_type": "code",
   "execution_count": 2,
   "metadata": {
    "execution": {
     "iopub.execute_input": "2024-09-23T15:45:43.547786Z",
     "iopub.status.busy": "2024-09-23T15:45:43.547072Z",
     "iopub.status.idle": "2024-09-23T15:45:43.553289Z",
     "shell.execute_reply": "2024-09-23T15:45:43.552905Z",
     "shell.execute_reply.started": "2024-09-23T15:45:43.547754Z"
    }
   },
   "outputs": [],
   "source": [
    "load_dotenv()\n",
    "\n",
    "OPENAI_API_KEY = os.environ[\"OPENAI_API_KEY\"]\n",
    "WEIGHTS_AND_BIASES = os.environ[\"WEIGHTS_AND_BIASES\"]\n",
    "HF_TOKEN = os.environ[\"HF_TOKEN\"]"
   ]
  },
  {
   "cell_type": "code",
   "execution_count": 3,
   "metadata": {
    "execution": {
     "iopub.execute_input": "2024-09-23T15:45:44.192969Z",
     "iopub.status.busy": "2024-09-23T15:45:44.192434Z",
     "iopub.status.idle": "2024-09-23T15:45:44.195708Z",
     "shell.execute_reply": "2024-09-23T15:45:44.195199Z",
     "shell.execute_reply.started": "2024-09-23T15:45:44.192939Z"
    }
   },
   "outputs": [],
   "source": [
    "DATASET_PATH = \"./documents\"\n",
    "PDF_PATH = os.path.join(DATASET_PATH, \"german_pdf_files\")\n",
    "IMAGE_PATH = os.path.join(DATASET_PATH, \"german_img_files\")"
   ]
  },
  {
   "cell_type": "code",
   "execution_count": 4,
   "metadata": {
    "execution": {
     "iopub.execute_input": "2024-09-23T15:45:45.672504Z",
     "iopub.status.busy": "2024-09-23T15:45:45.671781Z",
     "iopub.status.idle": "2024-09-23T15:45:45.830257Z",
     "shell.execute_reply": "2024-09-23T15:45:45.829861Z",
     "shell.execute_reply.started": "2024-09-23T15:45:45.672477Z"
    }
   },
   "outputs": [
    {
     "name": "stdout",
     "output_type": "stream",
     "text": [
      "Current number of PDFs: 19902\n",
      "Current number of skipped URLs: 25275\n",
      "Current number of author extractions: 2015\n",
      "Current number of images: 4702\n",
      "Current number of metadata extractions: 4702\n"
     ]
    }
   ],
   "source": [
    "# mappings from url to file path (relative to PDF_PATH)\n",
    "# example:\n",
    "# pdf_url = \"https://www.example.com/file.pdf\"\n",
    "# pdf_path = os.path.join(PDF_PATH, mappings_pdf[pdf_url])\n",
    "with open(os.path.join(DATASET_PATH, \"pdf_mapping.json\"), \"r\", encoding=\"utf8\") as json_file:\n",
    "    mappings_pdf = json.load(json_file)\n",
    "    print(\"Current number of PDFs:\", len(mappings_pdf))\n",
    "\n",
    "# contains urls that:\n",
    "# - were not available to download\n",
    "# - were downloaded but not a valid pdf\n",
    "# - contained some other error\n",
    "with open(os.path.join(DATASET_PATH, \"skipped_urls.json\"), \"r\", encoding=\"utf8\") as f:\n",
    "    skipped_urls = json.load(f)\n",
    "    print(\"Current number of skipped URLs:\", len(skipped_urls))\n",
    "\n",
    "with open(os.path.join(DATASET_PATH, \"author_extraction.json\"), \"r\", encoding=\"utf8\") as f:\n",
    "    author_extraction = json.load(f)\n",
    "    num_author_extractions = 0\n",
    "    for url in author_extraction:\n",
    "        if author_extraction[url][\"name\"] is not None:\n",
    "            num_author_extractions += 1\n",
    "    print(\"Current number of author extractions:\", num_author_extractions)\n",
    "\n",
    "with open(os.path.join(DATASET_PATH, \"img_mapping.json\"), \"r\", encoding=\"utf8\") as json_file:\n",
    "    mappings_img = json.load(json_file)\n",
    "    print(\"Current number of images:\", len(mappings_img))\n",
    "\n",
    "with open(os.path.join(DATASET_PATH, \"extraction.json\"), \"r\", encoding=\"utf8\") as json_file:\n",
    "    extraction = json.load(json_file)\n",
    "    print(\"Current number of metadata extractions:\", len(extraction))"
   ]
  },
  {
   "cell_type": "markdown",
   "metadata": {
    "id": "YrBUkLLsLVia"
   },
   "source": [
    "# Download Scraped PDF Files\n"
   ]
  },
  {
   "cell_type": "code",
   "execution_count": 5,
   "metadata": {
    "execution": {
     "iopub.status.busy": "2024-09-23T14:33:02.225876Z",
     "iopub.status.idle": "2024-09-23T14:33:02.226028Z",
     "shell.execute_reply": "2024-09-23T14:33:02.225979Z",
     "shell.execute_reply.started": "2024-09-23T14:33:02.225979Z"
    },
    "id": "du-s1LaGLhDC"
   },
   "outputs": [
    {
     "name": "stdout",
     "output_type": "stream",
     "text": [
      "--2024-11-04 20:19:30--  https://digitalcorpora.s3.amazonaws.com/corpora/files/CC-MAIN-2021-31-PDF-UNTRUNCATED/metadata/cc-provenance-20230303.csv.gz\n",
      "Resolving digitalcorpora.s3.amazonaws.com (digitalcorpora.s3.amazonaws.com)... 52.92.207.113, 52.218.182.51, 52.92.153.201, ...\n",
      "Connecting to digitalcorpora.s3.amazonaws.com (digitalcorpora.s3.amazonaws.com)|52.92.207.113|:443... connected.\n",
      "HTTP request sent, awaiting response... 200 OK\n",
      "Length: 1293543097 (1.2G) [text/csv]\n",
      "Saving to: ‘cc-provenance-20230303.csv.gz’\n",
      "\n",
      "cc-provenance-20230 100%[===================>]   1.20G  13.4MB/s    in 94s     \n",
      "\n",
      "2024-11-04 20:21:05 (13.2 MB/s) - ‘cc-provenance-20230303.csv.gz’ saved [1293543097/1293543097]\n",
      "\n",
      "gzip: cc-provenance-20230303.csv already exists; do you wish to overwrite (y or n)? ^C\n"
     ]
    }
   ],
   "source": [
    "!wget https://digitalcorpora.s3.amazonaws.com/corpora/files/CC-MAIN-2021-31-PDF-UNTRUNCATED/metadata/cc-provenance-20230303.csv.gz\n",
    "!gunzip cc-provenance-20230303.csv.gz "
   ]
  },
  {
   "cell_type": "code",
   "execution_count": 5,
   "metadata": {
    "execution": {
     "iopub.execute_input": "2024-09-23T14:33:06.630436Z",
     "iopub.status.busy": "2024-09-23T14:33:06.629539Z",
     "iopub.status.idle": "2024-09-23T14:34:01.637522Z",
     "shell.execute_reply": "2024-09-23T14:34:01.637142Z",
     "shell.execute_reply.started": "2024-09-23T14:33:06.630378Z"
    },
    "id": "KVeT_PkrLkJm"
   },
   "outputs": [
    {
     "name": "stderr",
     "output_type": "stream",
     "text": [
      "100%|██████████| 8410703/8410703 [00:38<00:00, 220999.86it/s]\n"
     ]
    },
    {
     "data": {
      "text/plain": [
       "590954"
      ]
     },
     "execution_count": 5,
     "metadata": {},
     "output_type": "execute_result"
    }
   ],
   "source": [
    "lines = []\n",
    "with open(\"./cc-provenance-20230303.csv\") as csv_file:\n",
    "    for line in csv_file:\n",
    "        lines.append(line)\n",
    "header = lines[0]\n",
    "content = lines[1:]\n",
    "\n",
    "content = [line.split(\",\")[2] for line in content]\n",
    "\n",
    "\n",
    "# filter all german urls\n",
    "german_urls = []\n",
    "for url in tqdm(content):\n",
    "    parsed_url = urlparse(url)\n",
    "    hostname = parsed_url.hostname\n",
    "    if hostname is None:\n",
    "        continue\n",
    "    if hostname.endswith(\"de\"):\n",
    "        german_urls.append(url)\n",
    "\n",
    "len(german_urls)"
   ]
  },
  {
   "cell_type": "code",
   "execution_count": 7,
   "metadata": {},
   "outputs": [
    {
     "name": "stderr",
     "output_type": "stream",
     "text": [
      "100%|██████████| 25275/25275 [00:00<00:00, 34409.64it/s, deletions=0, current=https://simress.de/sites/default/files/Progress%20Report%20of%20Two%20SimRess%20Group%20Modelling%20Workshops.pdf]                                                                                                                                                                                                                                                                                                                                              \n"
     ]
    }
   ],
   "source": [
    "# clears up disk space by deleting files that were deemed unusable\n",
    "# skipped urls are avoided by not being downloaded in the future\n",
    "\n",
    "def delete_skipped_urls():\n",
    "    deletions = 0\n",
    "    pbar = tqdm(skipped_urls)\n",
    "    for url in pbar:\n",
    "\n",
    "        # pdf was not downloaded\n",
    "        if url not in mappings_pdf:\n",
    "            continue\n",
    "\n",
    "        pdf_path = os.path.join(PDF_PATH, mappings_pdf[url])\n",
    "        if os.path.exists(pdf_path):\n",
    "            #remove file\n",
    "            os.remove(pdf_path)\n",
    "            # remove folder if empty\n",
    "            deletions += 1\n",
    "            if not os.listdir(os.path.dirname(pdf_path)):\n",
    "                os.rmdir(os.path.dirname(pdf_path))\n",
    "\n",
    "        pbar.set_postfix({\"deletions\": deletions, \"current\": url})\n",
    "\n",
    "delete_skipped_urls()"
   ]
  },
  {
   "cell_type": "code",
   "execution_count": 9,
   "metadata": {
    "id": "G4YKNmhBNAz6"
   },
   "outputs": [
    {
     "name": "stderr",
     "output_type": "stream",
     "text": [
      "  7%|▋         | 44077/590954 [00:22<40:11, 226.80it/s, downloaded=21, errors=1, existing=2e+4, total=2e+4]  "
     ]
    },
    {
     "name": "stderr",
     "output_type": "stream",
     "text": [
      "  7%|▋         | 44077/590954 [00:25<40:11, 226.80it/s, downloaded=24, errors=2, existing=2e+4, total=2e+4]"
     ]
    }
   ],
   "source": [
    "errors = 0\n",
    "download_count = 0\n",
    "existing_urls = 0\n",
    "\n",
    "pbar = tqdm(german_urls)\n",
    "\n",
    "for url in pbar:\n",
    "\n",
    "    if url in mappings_pdf:\n",
    "        existing_urls += 1\n",
    "        continue\n",
    "\n",
    "\n",
    "    decoded_str = urllib.parse.unquote(url)\n",
    "    parsed_url = urlparse(decoded_str)\n",
    "    \n",
    "    host = parsed_url.hostname.replace(\".\", \"_\")\n",
    "    file_name = parsed_url.hostname + \"_\" + os.path.basename(parsed_url.path)\n",
    "\n",
    "    pdf_path = os.path.join(PDF_PATH, host, file_name)\n",
    "\n",
    "    if url in skipped_urls:\n",
    "        continue\n",
    "\n",
    "\n",
    "    if not file_name.endswith(\".pdf\"):\n",
    "        errors += 1\n",
    "        skipped_urls.append(url)\n",
    "        continue\n",
    "\n",
    "    try:\n",
    "        response = requests.get(url, timeout=10)\n",
    "    except:\n",
    "        errors += 1\n",
    "        skipped_urls.append(url)\n",
    "        continue\n",
    "\n",
    "    if response.status_code == 200:\n",
    "        os.makedirs(os.path.dirname(pdf_path), exist_ok=True)\n",
    "\n",
    "        with open(pdf_path, \"wb\") as file:\n",
    "            file.write(response.content)\n",
    "            mappings_pdf[url] = os.path.join(host, file_name)\n",
    "\n",
    "        download_count += 1\n",
    "\n",
    "        if download_count % 200 == 0:\n",
    "            with open(os.path.join(DATASET_PATH, \"pdf_mapping.json\"), \"w\", encoding=\"utf8\") as json_file:\n",
    "                json.dump(mappings_pdf, json_file)\n",
    "\n",
    "    else:\n",
    "        errors += 1\n",
    "        skipped_urls.append(url)\n",
    "\n",
    "    with open(os.path.join(DATASET_PATH, \"skipped_urls.json\"), \"w\", encoding=\"utf8\") as f:\n",
    "        json.dump(skipped_urls, f)\n",
    "\n",
    "    pbar.set_postfix({\"downloaded\": download_count, \"errors\": errors, \"existing\": existing_urls, \"total\": download_count + errors + existing_urls})"
   ]
  },
  {
   "cell_type": "markdown",
   "metadata": {
    "id": "gLMnu06HNZGk"
   },
   "source": [
    "# PDFs to Images\n"
   ]
  },
  {
   "cell_type": "code",
   "execution_count": 5,
   "metadata": {
    "id": "5A4TRNKDNnVb"
   },
   "outputs": [],
   "source": [
    "for url, pdf_path in tqdm(mappings_pdf.items()):\n",
    "    if url in mappings_img:\n",
    "        continue\n",
    "\n",
    "    img_path = pdf_path.replace(\".pdf\", \".jpg\")\n",
    "\n",
    "    try:\n",
    "        with tempfile.TemporaryDirectory() as path:\n",
    "            image_data = convert_from_path(\n",
    "                pdf_path, output_folder=path, fmt=\"jpeg\", first_page=1, last_page=1\n",
    "            )[0]\n",
    "    except:\n",
    "        continue\n",
    "\n",
    "    image_data.save(img_path)\n",
    "    mappings_img[url] = img_path\n",
    "            \n",
    "    with open(os.path.join(DATASET_PATH, \"img_mapping.json\"), \"w\", encoding=\"utf8\") as f:\n",
    "        json.dump(mappings_img, f)\n"
   ]
  },
  {
   "cell_type": "markdown",
   "metadata": {},
   "source": [
    "# Extract Author using URL"
   ]
  },
  {
   "cell_type": "code",
   "execution_count": 9,
   "metadata": {},
   "outputs": [],
   "source": [
    "def delete_special_chars(text):\n",
    "    return text.replace(\" \", \"\").replace(\"-\", \"\").replace(\".\", \"\").replace(\",\", \"\").replace(\"!\", \"\").replace(\"?\", \"\").replace(\"(\", \"\").replace(\")\", \"\").replace(\"'\", \"\").replace('\"', \"\").replace(\";\", \"\").replace(\":\", \"\")"
   ]
  },
  {
   "cell_type": "code",
   "execution_count": 10,
   "metadata": {},
   "outputs": [],
   "source": [
    "import pytesseract\n",
    "from PIL import Image\n",
    "from pdf2image import convert_from_path\n",
    "\n",
    "def get_text_tesseract(pdf_path):\n",
    "    images = convert_from_path(pdf_path)\n",
    "    return pytesseract.image_to_string(images[0])"
   ]
  },
  {
   "cell_type": "code",
   "execution_count": 11,
   "metadata": {},
   "outputs": [
    {
     "name": "stderr",
     "output_type": "stream",
     "text": [
      " 54%|█████▍    | 10788/19902 [00:45<01:35, 95.29it/s, matches=2015, skipped=0, hostname=gems spiesen elversberg]  "
     ]
    }
   ],
   "source": [
    "import json\n",
    "import os\n",
    "import urllib.parse\n",
    "from tqdm import tqdm\n",
    "\n",
    "\n",
    "files = list(mappings_pdf.values())\n",
    "urls = list(mappings_pdf.keys())\n",
    "\n",
    "num_matches = 0\n",
    "for res in author_extraction:\n",
    "    if author_extraction[res][\"name\"] != None:\n",
    "        num_matches += 1\n",
    "\n",
    "\n",
    "skipped = 0\n",
    "\n",
    "pbar = tqdm(enumerate(files), total=len(files))\n",
    "for idx, file in pbar:\n",
    "    file = os.path.join(\"documents\", \"german_pdf_files\", file)\n",
    "    url = urls[idx]\n",
    "\n",
    "    if url in author_extraction:\n",
    "        continue\n",
    "\n",
    "    if url in skipped_urls:\n",
    "        continue\n",
    "\n",
    "    #get document size\n",
    "    doc_size = os.path.getsize(file)\n",
    "\n",
    "    # avoid excessivly large files\n",
    "    if doc_size > 10000000:\n",
    "        skipped += 1\n",
    "        skipped_urls.append(url)\n",
    "        continue\n",
    "\n",
    "    hostname = urllib.parse.urlparse(url).netloc.replace(\"www.\", \"\").replace(\".de\", \"\").replace(\".\", \" \").replace(\"-\", \" \").replace(\"www\", \" \").strip()\n",
    "\n",
    "    pbar.set_postfix({\"matches\": num_matches, \"skipped\": skipped, \"hostname\": hostname})\n",
    "\n",
    "    try:\n",
    "        text = get_text_tesseract(file)\n",
    "    except:\n",
    "        skipped += 1\n",
    "        skipped_urls.append(url)\n",
    "        continue\n",
    "\n",
    "    lines_stripped = delete_special_chars(text)\n",
    "\n",
    "    # remove the url from the text => we dont just want to match if the url is in the document but if the name in the url naturally occurs in the text\n",
    "    # => leads to far fewer matches but more expressive samples\n",
    "    lines_stripped = lines_stripped.replace(urllib.parse.urlparse(url).netloc, \"\")\n",
    "\n",
    "    # verify that the hostname is in the document => document probably belongs to the company which owns the url\n",
    "    if \"\".join(hostname.split(\" \")) in lines_stripped:\n",
    "        author_extraction[url] = {\"name\": hostname, \"transcript\": text}\n",
    "\n",
    "        with open(os.path.join(DATASET_PATH, \"author_extraction.json\"), \"w\", encoding=\"utf8\") as f:\n",
    "            json.dump(author_extraction, f)\n",
    "\n",
    "        # tail -f names.txt\n",
    "        with open(\"names.txt\", \"a\") as f:\n",
    "            f.write(hostname + \"\\n\")\n",
    "\n",
    "        num_matches += 1\n",
    "    else:\n",
    "        author_extraction[url] = {\"name\": None, \"transcript\": text}\n",
    "\n",
    "    # save skipped urls\n",
    "    with open(os.path.join(DATASET_PATH, \"skipped_urls.json\"), \"w\", encoding=\"utf8\") as f:\n",
    "        json.dump(skipped_urls, f)\n"
   ]
  },
  {
   "cell_type": "markdown",
   "metadata": {
    "id": "4MSMxjVALdqL"
   },
   "source": [
    "# Extract Metadata from Images\n"
   ]
  },
  {
   "cell_type": "code",
   "execution_count": 6,
   "metadata": {
    "execution": {
     "iopub.execute_input": "2024-09-23T15:45:50.589708Z",
     "iopub.status.busy": "2024-09-23T15:45:50.589182Z",
     "iopub.status.idle": "2024-09-23T15:45:50.645988Z",
     "shell.execute_reply": "2024-09-23T15:45:50.645574Z",
     "shell.execute_reply.started": "2024-09-23T15:45:50.589686Z"
    }
   },
   "outputs": [],
   "source": [
    "client = OpenAI(api_key=OPENAI_API_KEY)"
   ]
  },
  {
   "cell_type": "code",
   "execution_count": 7,
   "metadata": {
    "execution": {
     "iopub.execute_input": "2024-09-23T15:45:51.076629Z",
     "iopub.status.busy": "2024-09-23T15:45:51.075914Z",
     "iopub.status.idle": "2024-09-23T15:45:51.079526Z",
     "shell.execute_reply": "2024-09-23T15:45:51.079093Z",
     "shell.execute_reply.started": "2024-09-23T15:45:51.076604Z"
    },
    "id": "v7QIxRbzgUwk"
   },
   "outputs": [],
   "source": [
    "def encode_image(image_path):\n",
    "    with open(image_path, \"rb\") as image_file:\n",
    "        return base64.b64encode(image_file.read()).decode(\"utf-8\")"
   ]
  },
  {
   "cell_type": "code",
   "execution_count": 8,
   "metadata": {
    "execution": {
     "iopub.execute_input": "2024-09-23T15:45:51.739875Z",
     "iopub.status.busy": "2024-09-23T15:45:51.739288Z",
     "iopub.status.idle": "2024-09-23T15:45:51.832695Z",
     "shell.execute_reply": "2024-09-23T15:45:51.832284Z",
     "shell.execute_reply.started": "2024-09-23T15:45:51.739853Z"
    },
    "id": "hINcLALIdtsZ"
   },
   "outputs": [],
   "source": [
    "class BaseEntity(BaseModel):\n",
    "    type: str\n",
    "    email: Optional[List[str]]\n",
    "    phone: Optional[List[str]]\n",
    "    fax: Optional[List[str]]\n",
    "    address: Optional[str]\n",
    "    website: Optional[str]\n",
    "\n",
    "\n",
    "class Person(BaseEntity):\n",
    "    type: Literal[\"person\"]\n",
    "    first_name: str\n",
    "    last_name: Optional[str]\n",
    "    role: Optional[str]\n",
    "    mobile: Optional[List[str]]\n",
    "\n",
    "\n",
    "class Government(BaseEntity):\n",
    "    type: Literal[\"government\"]\n",
    "    department: str\n",
    "    state: Optional[str]\n",
    "    district: Optional[str]\n",
    "    city: Optional[str]\n",
    "\n",
    "\n",
    "class Company(BaseEntity):\n",
    "    type: Literal[\"company\"]\n",
    "    name: str\n",
    "    sector: Optional[str]\n",
    "\n",
    "\n",
    "class Organisation(BaseEntity):\n",
    "    type: Literal[\"organization\"]\n",
    "    name: str\n",
    "    sector: Optional[str]\n",
    "\n",
    "\n",
    "class Group(BaseEntity):\n",
    "    type: Literal[\"group\"]\n",
    "    name: str\n",
    "\n",
    "\n",
    "Entity = Union[Person, Government, Company, Organisation, Group]\n",
    "\n",
    "\n",
    "class ContentType(str, Enum):\n",
    "    presentation = \"presentation\"\n",
    "    mail = \"mail\"\n",
    "    newsletter = \"newsletter\"\n",
    "    werbung = \"werbung\"\n",
    "    einladung = \"einladung\"\n",
    "    bewerbung = \"bewerbung\"\n",
    "    ankündigung = \"ankündigung\"\n",
    "    rechnung = \"rechnung\"\n",
    "    brief = \"brief\"\n",
    "    ausschreibung = \"ausschreibung\"\n",
    "    nachrichten = \"nachrichten\"\n",
    "    antrag = \"antrag\"\n",
    "    angebot = \"angebot\"\n",
    "    urkunde = \"urkunde\"\n",
    "    sonstiges = \"sonstiges\"\n",
    "\n",
    "\n",
    "class DocumentMetadata(BaseModel):\n",
    "    title: str\n",
    "    date: Optional[str]\n",
    "    content_type: ContentType\n",
    "    has_signature: bool\n",
    "    main_author: Optional[Entity]\n",
    "    other_authors: Optional[List[Entity]]\n",
    "    logo_owners: Optional[List[str]]\n",
    "    recipients: Optional[List[Entity]]"
   ]
  },
  {
   "cell_type": "code",
   "execution_count": 13,
   "metadata": {
    "colab": {
     "base_uri": "https://localhost:8080/",
     "height": 1000,
     "referenced_widgets": [
      "95069845244a4c1bb8128fe354d68e43",
      "15eb260fbe1f4f3987708a96269663c6",
      "9b4836f1b33b473cba2d72b0aa7ab55e",
      "e6316ee3b4f84851a1a7c477d266911c",
      "d3ce130b5c284a2ba2e65c3afc447318",
      "69145d688d2941ba9fae7451c87cc356",
      "2d1702c4ecba45a698d1aec9dace6f34",
      "2d4c153d5e4a4d9cbe708f73d049e709",
      "92bf2afb1a3a414fb0a2b221d3ec81a1",
      "2dbfe004063d4bfb87a9a5efc9852044",
      "f97c9395b20249949dc1634cc454eb1a"
     ]
    },
    "id": "Yhc7B0ASU_DQ",
    "outputId": "a02d73fd-175c-446e-f20e-fc0dccd4aab6"
   },
   "outputs": [],
   "source": [
    "for url in tqdm(list(mappings_img.keys())):\n",
    "\n",
    "    if url in extraction:\n",
    "        continue\n",
    "\n",
    "    file_path = mappings_img[url]\n",
    "\n",
    "    try:\n",
    "        transcript = pytesseract.image_to_string(Image.open(file_path))\n",
    "    except:\n",
    "        continue\n",
    "\n",
    "    base64_image = encode_image(file_path)\n",
    "\n",
    "    response = client.chat.completions.create(\n",
    "        model=\"gpt-4o-mini-2024-07-18\",\n",
    "        messages=[\n",
    "            {\n",
    "                \"role\": \"system\",\n",
    "                \"content\": \"You are a helpful assistant. Your task is to extract metadata from documents. Structure your answer as clear as possible and be very precise and detailed in your answer.\",\n",
    "            },\n",
    "            {\n",
    "                \"role\": \"user\",\n",
    "                \"content\": [\n",
    "                    {\n",
    "                        \"type\": \"text\",\n",
    "                        \"text\": f\"\"\"\n",
    "    Analysiere das folgende Dokument und extrahiere die wichtigsten Metadaten. Beantworte dabei die folgenden Punkte:\n",
    "\n",
    "    0. Beschreibung des Dokuments (Inhalt, Form/Format, Auffälliges/Markantes, )\n",
    "\n",
    "    1. Dokumententyp (wähle aus: Präsentation, E-Mail, Urkunde, Newsletter, Werbung, Einladung, Bewerbung, Ankündigung, Rechnung, Brief, Ausschreibung, Antrag, Sonstiges)\n",
    "\n",
    "    2. Titel des Dokuments\n",
    "\n",
    "    3. Datum des Dokuments\n",
    "\n",
    "    4. Ist ein Logo vorhanden und deutet es auf eine Autorschaft hin?\n",
    "    - Welche Firma / Person / Organisation ist Logoinhaber?\n",
    "\n",
    "    5. Ist eine Unterschrift vorhanden, wenn ja von wem?\n",
    "\n",
    "    6. Welche Entitäten (Person, Organisation, Behörde, ...) werden im Dokument genannt? In welchem Kontext werden sie genannt? Welche Rolle nehmen die Entitäten ein?\n",
    "\n",
    "    7. Welche Entitäten könnten Autoren des Dokuments sein und warum? Welche dieser Entitäten werden explizit genannt?\n",
    "\n",
    "    8. Welche Entitäten könnten Empfänger / Zielgruppe des Dokuments sein und warum? Welche dieser Entitäten werden explizit genannt?\n",
    "\n",
    "    9. Liste alle Autoren oder Herausgeber.\n",
    "        - Gib jede Entität (Person, Organisation, Behörde, ...) separat an\n",
    "        - Füge Kontaktinformationen hinzu, falls verfügbar\n",
    "        - Nenne ggf. die Verhältnisse der Entitäten zueinander\n",
    "\n",
    "    10. Liste alle Empfänger.\n",
    "        - Gib jede Entität (Person, Organisation, Behörde, ...) separat an\n",
    "        - Füge Kontaktinformationen hinzu, falls verfügbar\n",
    "        - Nenne ggf. die Verhältnisse der Entitäten zueinander\n",
    "\n",
    "    11. Weitere relevante Metadaten des Dokuments\n",
    "\n",
    "    Hier ist der Mitschrieb des zu analysierenden Dokuments:\n",
    "\n",
    "    {transcript}\n",
    "\n",
    "    Bitte antworte auf Deutsch und strukturiere deine Antwort entsprechend der obigen Punkte.\n",
    "                        \"\"\",\n",
    "                    },\n",
    "                    {\n",
    "                        \"type\": \"image_url\",\n",
    "                        \"image_url\": {\"url\": f\"data:image/jpeg;base64,{base64_image}\"},\n",
    "                    },\n",
    "                ],\n",
    "            },\n",
    "        ],\n",
    "    )\n",
    "\n",
    "    unstructured_answer = response.choices[0].message.content\n",
    "\n",
    "    completion = client.beta.chat.completions.parse(\n",
    "        model=\"gpt-4o-mini-2024-07-18\",\n",
    "        messages=[\n",
    "            {\n",
    "                \"role\": \"system\",\n",
    "                \"content\": \"Your task is to correctly format the given information. Integrate as much information as possible!\",\n",
    "            },\n",
    "            {\n",
    "                \"role\": \"user\",\n",
    "                \"content\": [\n",
    "                    {\n",
    "                        \"type\": \"text\",\n",
    "                        \"text\": f\"{unstructured_answer} \\n\\n {transcript}\",\n",
    "                    },\n",
    "                    {\n",
    "                        \"type\": \"image_url\",\n",
    "                        \"image_url\": {\"url\": f\"data:image/jpeg;base64,{base64_image}\"},\n",
    "                    },\n",
    "                ],\n",
    "            },\n",
    "        ],\n",
    "        response_format=DocumentMetadata,\n",
    "    )\n",
    "\n",
    "    res = completion.choices[0].message.parsed\n",
    "\n",
    "    res = res.dict()\n",
    "\n",
    "    extraction[url] = {\n",
    "        \"unstructured\": unstructured_answer,\n",
    "        \"transcript\": transcript,\n",
    "        \"metadata\": res,\n",
    "    }\n",
    "\n",
    "    with open(os.path.join(DATASET_PATH, \"extraction.json\"), \"w\", encoding=\"utf8\") as f:\n",
    "        json.dump(extraction, f)"
   ]
  },
  {
   "cell_type": "markdown",
   "metadata": {},
   "source": [
    "# Publishing"
   ]
  },
  {
   "cell_type": "markdown",
   "metadata": {},
   "source": [
    "#### Archive Folder on HF"
   ]
  },
  {
   "cell_type": "code",
   "execution_count": 9,
   "metadata": {},
   "outputs": [],
   "source": [
    "from huggingface_hub import login\n",
    "login(token=HF_TOKEN, new_session=True)"
   ]
  },
  {
   "cell_type": "code",
   "execution_count": null,
   "metadata": {},
   "outputs": [],
   "source": [
    "from huggingface_hub import HfApi\n",
    "from huggingface_hub.utils import disable_progress_bars\n",
    "\n",
    "api = HfApi()\n",
    "\n",
    "disable_progress_bars()\n",
    "api.upload_large_folder(\n",
    "        folder_path=\"documents\",\n",
    "        repo_id=\"sodowo/documents\",\n",
    "        repo_type=\"dataset\"\n",
    ")"
   ]
  },
  {
   "cell_type": "markdown",
   "metadata": {},
   "source": [
    "### Create HF Dataset from Extraction"
   ]
  },
  {
   "cell_type": "code",
   "execution_count": 13,
   "metadata": {},
   "outputs": [],
   "source": [
    "import shutil\n",
    "HF_DATASET_PATH = \"hf_dataset\"\n",
    "os.makedirs(HF_DATASET_PATH, exist_ok=True)\n",
    "METADATA_PATH = os.path.join(HF_DATASET_PATH, \"metadata.jsonl\")"
   ]
  },
  {
   "cell_type": "code",
   "execution_count": 14,
   "metadata": {},
   "outputs": [],
   "source": [
    "for i, (url, data) in tqdm(enumerate(extraction.items())):\n",
    "    file_path = os.path.join(IMAGE_PATH, mappings_img[url])\n",
    "    \n",
    "    #TODO: fix this\n",
    "    file_path = file_path.replace(\"./documents/german_img_files/./documents/german_pdf_files\", \"./documents/german_pdf_files\")\n",
    "\n",
    "    shutil.copyfile(file_path, os.path.join(HF_DATASET_PATH, f\"{i}.jpg\"))\n",
    "\n",
    "    with open(METADATA_PATH, \"a\", encoding=\"utf8\") as f:\n",
    "        data = {\n",
    "            \"file_name\": f\"{i}.jpg\",\n",
    "            \"additional_features\": data[\"metadata\"],\n",
    "        }\n",
    "        f.write(json.dumps(data, ensure_ascii=False) + \"\\n\")"
   ]
  },
  {
   "cell_type": "code",
   "execution_count": 15,
   "metadata": {},
   "outputs": [],
   "source": [
    "from datasets import load_dataset"
   ]
  },
  {
   "cell_type": "code",
   "execution_count": 9,
   "metadata": {},
   "outputs": [],
   "source": [
    "dataset = load_dataset(\"imagefolder\", data_dir=HF_DATASET_PATH)"
   ]
  },
  {
   "cell_type": "code",
   "execution_count": 10,
   "metadata": {},
   "outputs": [],
   "source": [
    "dataset[\"train\"][0]"
   ]
  },
  {
   "cell_type": "code",
   "execution_count": 10,
   "metadata": {},
   "outputs": [],
   "source": [
    "dataset.push_to_hub(\"sodowo/doc_meta\")"
   ]
  }
 ],
 "metadata": {
  "colab": {
   "provenance": []
  },
  "kernelspec": {
   "display_name": "Python 3 (ipykernel)",
   "language": "python",
   "name": "python3"
  },
  "widgets": {
   "application/vnd.jupyter.widget-state+json": {
    "15eb260fbe1f4f3987708a96269663c6": {
     "model_module": "@jupyter-widgets/controls",
     "model_module_version": "1.5.0",
     "model_name": "HTMLModel",
     "state": {
      "_dom_classes": [],
      "_model_module": "@jupyter-widgets/controls",
      "_model_module_version": "1.5.0",
      "_model_name": "HTMLModel",
      "_view_count": null,
      "_view_module": "@jupyter-widgets/controls",
      "_view_module_version": "1.5.0",
      "_view_name": "HTMLView",
      "description": "",
      "description_tooltip": null,
      "layout": "IPY_MODEL_69145d688d2941ba9fae7451c87cc356",
      "placeholder": "​",
      "style": "IPY_MODEL_2d1702c4ecba45a698d1aec9dace6f34",
      "value": " 92%"
     }
    },
    "2d1702c4ecba45a698d1aec9dace6f34": {
     "model_module": "@jupyter-widgets/controls",
     "model_module_version": "1.5.0",
     "model_name": "DescriptionStyleModel",
     "state": {
      "_model_module": "@jupyter-widgets/controls",
      "_model_module_version": "1.5.0",
      "_model_name": "DescriptionStyleModel",
      "_view_count": null,
      "_view_module": "@jupyter-widgets/base",
      "_view_module_version": "1.2.0",
      "_view_name": "StyleView",
      "description_width": ""
     }
    },
    "2d4c153d5e4a4d9cbe708f73d049e709": {
     "model_module": "@jupyter-widgets/base",
     "model_module_version": "1.2.0",
     "model_name": "LayoutModel",
     "state": {
      "_model_module": "@jupyter-widgets/base",
      "_model_module_version": "1.2.0",
      "_model_name": "LayoutModel",
      "_view_count": null,
      "_view_module": "@jupyter-widgets/base",
      "_view_module_version": "1.2.0",
      "_view_name": "LayoutView",
      "align_content": null,
      "align_items": null,
      "align_self": null,
      "border": null,
      "bottom": null,
      "display": null,
      "flex": null,
      "flex_flow": null,
      "grid_area": null,
      "grid_auto_columns": null,
      "grid_auto_flow": null,
      "grid_auto_rows": null,
      "grid_column": null,
      "grid_gap": null,
      "grid_row": null,
      "grid_template_areas": null,
      "grid_template_columns": null,
      "grid_template_rows": null,
      "height": null,
      "justify_content": null,
      "justify_items": null,
      "left": null,
      "margin": null,
      "max_height": null,
      "max_width": null,
      "min_height": null,
      "min_width": null,
      "object_fit": null,
      "object_position": null,
      "order": null,
      "overflow": null,
      "overflow_x": null,
      "overflow_y": null,
      "padding": null,
      "right": null,
      "top": null,
      "visibility": null,
      "width": null
     }
    },
    "2dbfe004063d4bfb87a9a5efc9852044": {
     "model_module": "@jupyter-widgets/base",
     "model_module_version": "1.2.0",
     "model_name": "LayoutModel",
     "state": {
      "_model_module": "@jupyter-widgets/base",
      "_model_module_version": "1.2.0",
      "_model_name": "LayoutModel",
      "_view_count": null,
      "_view_module": "@jupyter-widgets/base",
      "_view_module_version": "1.2.0",
      "_view_name": "LayoutView",
      "align_content": null,
      "align_items": null,
      "align_self": null,
      "border": null,
      "bottom": null,
      "display": null,
      "flex": null,
      "flex_flow": null,
      "grid_area": null,
      "grid_auto_columns": null,
      "grid_auto_flow": null,
      "grid_auto_rows": null,
      "grid_column": null,
      "grid_gap": null,
      "grid_row": null,
      "grid_template_areas": null,
      "grid_template_columns": null,
      "grid_template_rows": null,
      "height": null,
      "justify_content": null,
      "justify_items": null,
      "left": null,
      "margin": null,
      "max_height": null,
      "max_width": null,
      "min_height": null,
      "min_width": null,
      "object_fit": null,
      "object_position": null,
      "order": null,
      "overflow": null,
      "overflow_x": null,
      "overflow_y": null,
      "padding": null,
      "right": null,
      "top": null,
      "visibility": null,
      "width": null
     }
    },
    "69145d688d2941ba9fae7451c87cc356": {
     "model_module": "@jupyter-widgets/base",
     "model_module_version": "1.2.0",
     "model_name": "LayoutModel",
     "state": {
      "_model_module": "@jupyter-widgets/base",
      "_model_module_version": "1.2.0",
      "_model_name": "LayoutModel",
      "_view_count": null,
      "_view_module": "@jupyter-widgets/base",
      "_view_module_version": "1.2.0",
      "_view_name": "LayoutView",
      "align_content": null,
      "align_items": null,
      "align_self": null,
      "border": null,
      "bottom": null,
      "display": null,
      "flex": null,
      "flex_flow": null,
      "grid_area": null,
      "grid_auto_columns": null,
      "grid_auto_flow": null,
      "grid_auto_rows": null,
      "grid_column": null,
      "grid_gap": null,
      "grid_row": null,
      "grid_template_areas": null,
      "grid_template_columns": null,
      "grid_template_rows": null,
      "height": null,
      "justify_content": null,
      "justify_items": null,
      "left": null,
      "margin": null,
      "max_height": null,
      "max_width": null,
      "min_height": null,
      "min_width": null,
      "object_fit": null,
      "object_position": null,
      "order": null,
      "overflow": null,
      "overflow_x": null,
      "overflow_y": null,
      "padding": null,
      "right": null,
      "top": null,
      "visibility": null,
      "width": null
     }
    },
    "92bf2afb1a3a414fb0a2b221d3ec81a1": {
     "model_module": "@jupyter-widgets/controls",
     "model_module_version": "1.5.0",
     "model_name": "ProgressStyleModel",
     "state": {
      "_model_module": "@jupyter-widgets/controls",
      "_model_module_version": "1.5.0",
      "_model_name": "ProgressStyleModel",
      "_view_count": null,
      "_view_module": "@jupyter-widgets/base",
      "_view_module_version": "1.2.0",
      "_view_name": "StyleView",
      "bar_color": null,
      "description_width": ""
     }
    },
    "95069845244a4c1bb8128fe354d68e43": {
     "model_module": "@jupyter-widgets/controls",
     "model_module_version": "1.5.0",
     "model_name": "HBoxModel",
     "state": {
      "_dom_classes": [],
      "_model_module": "@jupyter-widgets/controls",
      "_model_module_version": "1.5.0",
      "_model_name": "HBoxModel",
      "_view_count": null,
      "_view_module": "@jupyter-widgets/controls",
      "_view_module_version": "1.5.0",
      "_view_name": "HBoxView",
      "box_style": "",
      "children": [
       "IPY_MODEL_15eb260fbe1f4f3987708a96269663c6",
       "IPY_MODEL_9b4836f1b33b473cba2d72b0aa7ab55e",
       "IPY_MODEL_e6316ee3b4f84851a1a7c477d266911c"
      ],
      "layout": "IPY_MODEL_d3ce130b5c284a2ba2e65c3afc447318"
     }
    },
    "9b4836f1b33b473cba2d72b0aa7ab55e": {
     "model_module": "@jupyter-widgets/controls",
     "model_module_version": "1.5.0",
     "model_name": "FloatProgressModel",
     "state": {
      "_dom_classes": [],
      "_model_module": "@jupyter-widgets/controls",
      "_model_module_version": "1.5.0",
      "_model_name": "FloatProgressModel",
      "_view_count": null,
      "_view_module": "@jupyter-widgets/controls",
      "_view_module_version": "1.5.0",
      "_view_name": "ProgressView",
      "bar_style": "danger",
      "description": "",
      "description_tooltip": null,
      "layout": "IPY_MODEL_2d4c153d5e4a4d9cbe708f73d049e709",
      "max": 3000,
      "min": 0,
      "orientation": "horizontal",
      "style": "IPY_MODEL_92bf2afb1a3a414fb0a2b221d3ec81a1",
      "value": 2774
     }
    },
    "d3ce130b5c284a2ba2e65c3afc447318": {
     "model_module": "@jupyter-widgets/base",
     "model_module_version": "1.2.0",
     "model_name": "LayoutModel",
     "state": {
      "_model_module": "@jupyter-widgets/base",
      "_model_module_version": "1.2.0",
      "_model_name": "LayoutModel",
      "_view_count": null,
      "_view_module": "@jupyter-widgets/base",
      "_view_module_version": "1.2.0",
      "_view_name": "LayoutView",
      "align_content": null,
      "align_items": null,
      "align_self": null,
      "border": null,
      "bottom": null,
      "display": null,
      "flex": null,
      "flex_flow": null,
      "grid_area": null,
      "grid_auto_columns": null,
      "grid_auto_flow": null,
      "grid_auto_rows": null,
      "grid_column": null,
      "grid_gap": null,
      "grid_row": null,
      "grid_template_areas": null,
      "grid_template_columns": null,
      "grid_template_rows": null,
      "height": null,
      "justify_content": null,
      "justify_items": null,
      "left": null,
      "margin": null,
      "max_height": null,
      "max_width": null,
      "min_height": null,
      "min_width": null,
      "object_fit": null,
      "object_position": null,
      "order": null,
      "overflow": null,
      "overflow_x": null,
      "overflow_y": null,
      "padding": null,
      "right": null,
      "top": null,
      "visibility": null,
      "width": null
     }
    },
    "e6316ee3b4f84851a1a7c477d266911c": {
     "model_module": "@jupyter-widgets/controls",
     "model_module_version": "1.5.0",
     "model_name": "HTMLModel",
     "state": {
      "_dom_classes": [],
      "_model_module": "@jupyter-widgets/controls",
      "_model_module_version": "1.5.0",
      "_model_name": "HTMLModel",
      "_view_count": null,
      "_view_module": "@jupyter-widgets/controls",
      "_view_module_version": "1.5.0",
      "_view_name": "HTMLView",
      "description": "",
      "description_tooltip": null,
      "layout": "IPY_MODEL_2dbfe004063d4bfb87a9a5efc9852044",
      "placeholder": "​",
      "style": "IPY_MODEL_f97c9395b20249949dc1634cc454eb1a",
      "value": " 2774/3000 [8:57:51&lt;1:15:36, 20.08s/it]"
     }
    },
    "f97c9395b20249949dc1634cc454eb1a": {
     "model_module": "@jupyter-widgets/controls",
     "model_module_version": "1.5.0",
     "model_name": "DescriptionStyleModel",
     "state": {
      "_model_module": "@jupyter-widgets/controls",
      "_model_module_version": "1.5.0",
      "_model_name": "DescriptionStyleModel",
      "_view_count": null,
      "_view_module": "@jupyter-widgets/base",
      "_view_module_version": "1.2.0",
      "_view_name": "StyleView",
      "description_width": ""
     }
    }
   }
  }
 },
 "nbformat": 4,
 "nbformat_minor": 4
}
