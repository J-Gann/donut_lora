{
 "cells": [
  {
   "cell_type": "code",
   "execution_count": 2,
   "metadata": {},
   "outputs": [
    {
     "name": "stdout",
     "output_type": "stream",
     "text": [
      "Get:1 file:/var/cuda-repo-ubuntu2204-12-0-local  InRelease [1575 B]\n",
      "Get:1 file:/var/cuda-repo-ubuntu2204-12-0-local  InRelease [1575 B]\n",
      "Hit:2 https://deb.nodesource.com/node_20.x nodistro InRelease                  \u001b[0m\u001b[33m\u001b[33m\n",
      "Hit:3 https://developer.download.nvidia.com/compute/cuda/repos/ubuntu2204/x86_64  InRelease\n",
      "Hit:4 http://archive.ubuntu.com/ubuntu jammy InRelease                         \u001b[0m\u001b[33m\n",
      "Hit:5 http://security.ubuntu.com/ubuntu jammy-security InRelease               \u001b[0m\n",
      "Hit:6 http://archive.ubuntu.com/ubuntu jammy-updates InRelease                 \u001b[0m\u001b[33m\n",
      "Hit:7 http://archive.ubuntu.com/ubuntu jammy-backports InRelease               \u001b[0m\u001b[33m\n",
      "Hit:8 https://packagecloud.io/github/git-lfs/ubuntu jammy InRelease            \u001b[0m\u001b[33m\u001b[33m\u001b[33m\u001b[33m\n",
      "Hit:9 https://ppa.launchpadcontent.net/deadsnakes/ppa/ubuntu jammy InRelease   \n",
      "Reading package lists... Done\n",
      "Building dependency tree... Done\n",
      "Reading state information... Done\n",
      "215 packages can be upgraded. Run 'apt list --upgradable' to see them.\n",
      "\u001b[1;33mW: \u001b[0mhttps://developer.download.nvidia.com/compute/cuda/repos/ubuntu2204/x86_64/InRelease: Key is stored in legacy trusted.gpg keyring (/etc/apt/trusted.gpg), see the DEPRECATION section in apt-key(8) for details.\u001b[0m\n",
      "\u001b[33mWARNING: Running pip as the 'root' user can result in broken permissions and conflicting behaviour with the system package manager. It is recommended to use a virtual environment instead: https://pip.pypa.io/warnings/venv\u001b[0m\u001b[33m\n",
      "\u001b[0mNote: you may need to restart the kernel to use updated packages.\n",
      "\u001b[33mWARNING: Running pip as the 'root' user can result in broken permissions and conflicting behaviour with the system package manager. It is recommended to use a virtual environment instead: https://pip.pypa.io/warnings/venv\u001b[0m\u001b[33m\n",
      "\u001b[0mNote: you may need to restart the kernel to use updated packages.\n",
      "Reading package lists... Done\n",
      "Building dependency tree... Done\n",
      "Reading state information... Done\n",
      "poppler-utils is already the newest version (22.02.0-2ubuntu0.5).\n",
      "0 upgraded, 0 newly installed, 0 to remove and 215 not upgraded.\n",
      "\u001b[33mWARNING: Running pip as the 'root' user can result in broken permissions and conflicting behaviour with the system package manager. It is recommended to use a virtual environment instead: https://pip.pypa.io/warnings/venv\u001b[0m\u001b[33m\n",
      "\u001b[0mNote: you may need to restart the kernel to use updated packages.\n",
      "\u001b[33mWARNING: Running pip as the 'root' user can result in broken permissions and conflicting behaviour with the system package manager. It is recommended to use a virtual environment instead: https://pip.pypa.io/warnings/venv\u001b[0m\u001b[33m\n",
      "\u001b[0mNote: you may need to restart the kernel to use updated packages.\n",
      "Reading package lists... Done\n",
      "Building dependency tree... Done\n",
      "Reading state information... Done\n",
      "tesseract-ocr is already the newest version (4.1.1-2.1build1).\n",
      "0 upgraded, 0 newly installed, 0 to remove and 215 not upgraded.\n",
      "\u001b[33mWARNING: Running pip as the 'root' user can result in broken permissions and conflicting behaviour with the system package manager. It is recommended to use a virtual environment instead: https://pip.pypa.io/warnings/venv\u001b[0m\u001b[33m\n",
      "\u001b[0mNote: you may need to restart the kernel to use updated packages.\n"
     ]
    }
   ],
   "source": [
    "!sudo apt update\n",
    "%pip install -q -U python-dotenv\n",
    "%pip install -q -U pdf2image\n",
    "!sudo apt install --yes poppler-utils\n",
    "%pip install -q -U openai\n",
    "%pip install -q -U pytesseract\n",
    "!sudo apt install --yes tesseract-ocr\n",
    "%pip install -q -U Unidecode"
   ]
  },
  {
   "cell_type": "code",
   "execution_count": 1,
   "metadata": {
    "execution": {
     "iopub.execute_input": "2024-09-23T15:45:41.689150Z",
     "iopub.status.busy": "2024-09-23T15:45:41.688679Z",
     "iopub.status.idle": "2024-09-23T15:45:42.294717Z",
     "shell.execute_reply": "2024-09-23T15:45:42.294222Z",
     "shell.execute_reply.started": "2024-09-23T15:45:41.689128Z"
    },
    "id": "dJMeuXkUMyDW"
   },
   "outputs": [],
   "source": [
    "from dotenv import load_dotenv\n",
    "from enum import Enum\n",
    "from openai import OpenAI\n",
    "from pdf2image import convert_from_bytes, convert_from_path\n",
    "from PIL import Image\n",
    "from pydantic import BaseModel\n",
    "from tqdm import tqdm\n",
    "from typing import List, Literal, Optional, Union\n",
    "from unidecode import unidecode\n",
    "from urllib.parse import urlparse, urlunparse\n",
    "import json\n",
    "import os\n",
    "import pytesseract\n",
    "import re\n",
    "import requests\n",
    "import tempfile\n",
    "import unicodedata\n",
    "import urllib\n",
    "import base64\n"
   ]
  },
  {
   "cell_type": "code",
   "execution_count": 2,
   "metadata": {
    "execution": {
     "iopub.execute_input": "2024-09-23T15:45:43.547786Z",
     "iopub.status.busy": "2024-09-23T15:45:43.547072Z",
     "iopub.status.idle": "2024-09-23T15:45:43.553289Z",
     "shell.execute_reply": "2024-09-23T15:45:43.552905Z",
     "shell.execute_reply.started": "2024-09-23T15:45:43.547754Z"
    }
   },
   "outputs": [],
   "source": [
    "load_dotenv()\n",
    "\n",
    "OPENAI_API_KEY = os.environ[\"OPENAI_API_KEY\"]\n",
    "WEIGHTS_AND_BIASES = os.environ[\"WEIGHTS_AND_BIASES\"]\n",
    "HF_TOKEN = os.environ[\"HF_TOKEN\"]"
   ]
  },
  {
   "cell_type": "code",
   "execution_count": 3,
   "metadata": {
    "execution": {
     "iopub.execute_input": "2024-09-23T15:45:44.192969Z",
     "iopub.status.busy": "2024-09-23T15:45:44.192434Z",
     "iopub.status.idle": "2024-09-23T15:45:44.195708Z",
     "shell.execute_reply": "2024-09-23T15:45:44.195199Z",
     "shell.execute_reply.started": "2024-09-23T15:45:44.192939Z"
    }
   },
   "outputs": [],
   "source": [
    "DATASET_PATH = \"./documents\"\n",
    "PDF_PATH = os.path.join(DATASET_PATH, \"german_pdf_files\")\n",
    "IMAGE_PATH = os.path.join(DATASET_PATH, \"german_img_files\")"
   ]
  },
  {
   "cell_type": "code",
   "execution_count": 4,
   "metadata": {
    "execution": {
     "iopub.execute_input": "2024-09-23T15:45:45.672504Z",
     "iopub.status.busy": "2024-09-23T15:45:45.671781Z",
     "iopub.status.idle": "2024-09-23T15:45:45.830257Z",
     "shell.execute_reply": "2024-09-23T15:45:45.829861Z",
     "shell.execute_reply.started": "2024-09-23T15:45:45.672477Z"
    }
   },
   "outputs": [
    {
     "name": "stdout",
     "output_type": "stream",
     "text": [
      "Current number of PDFs: 18685\n",
      "Current number of images: 16975\n",
      "Current number of metadata extractions: 4702\n",
      "Current number of transcripts: 12200\n"
     ]
    }
   ],
   "source": [
    "with open(os.path.join(PDF_PATH, \"mapping.json\"), \"r\", encoding=\"utf8\") as json_file:\n",
    "    mappings_pdf = json.load(json_file)\n",
    "    print(\"Current number of PDFs:\", len(mappings_pdf))\n",
    "\n",
    "\n",
    "with open(os.path.join(IMAGE_PATH, \"mapping.json\"), \"r\", encoding=\"utf8\") as json_file:\n",
    "    mappings_img = json.load(json_file)\n",
    "    print(\"Current number of images:\", len(mappings_img))\n",
    "\n",
    "with open(\n",
    "    os.path.join(DATASET_PATH, \"extraction.json\"), \"r\", encoding=\"utf8\"\n",
    ") as json_file:\n",
    "    extraction = json.load(json_file)\n",
    "    print(\"Current number of metadata extractions:\", len(extraction))\n",
    "\n",
    "with open(os.path.join(DATASET_PATH, \"transcripts.json\"), \"r\", encoding=\"utf8\") as json_file:\n",
    "    transcripts = json.load(json_file)\n",
    "    print(\"Current number of transcripts:\", len(transcripts))\n",
    "\n",
    "del mappings_img[\"https://www.geo-iburg.de/Bergaufsicht.pdf\"]"
   ]
  },
  {
   "cell_type": "markdown",
   "metadata": {
    "id": "YrBUkLLsLVia"
   },
   "source": [
    "# Download Scraped PDF Files\n"
   ]
  },
  {
   "cell_type": "code",
   "execution_count": 8,
   "metadata": {
    "execution": {
     "iopub.status.busy": "2024-09-23T14:33:02.225876Z",
     "iopub.status.idle": "2024-09-23T14:33:02.226028Z",
     "shell.execute_reply": "2024-09-23T14:33:02.225979Z",
     "shell.execute_reply.started": "2024-09-23T14:33:02.225979Z"
    },
    "id": "du-s1LaGLhDC"
   },
   "outputs": [
    {
     "name": "stdout",
     "output_type": "stream",
     "text": [
      "--2024-10-15 16:49:42--  https://digitalcorpora.s3.amazonaws.com/corpora/files/CC-MAIN-2021-31-PDF-UNTRUNCATED/metadata/cc-provenance-20230303.csv.gz\n",
      "Resolving digitalcorpora.s3.amazonaws.com (digitalcorpora.s3.amazonaws.com)... 52.218.168.195, 52.92.235.73, 52.92.185.241, ...\n",
      "Connecting to digitalcorpora.s3.amazonaws.com (digitalcorpora.s3.amazonaws.com)|52.218.168.195|:443... connected.\n",
      "HTTP request sent, awaiting response... 200 OK\n",
      "Length: 1293543097 (1.2G) [text/csv]\n",
      "Saving to: ‘cc-provenance-20230303.csv.gz’\n",
      "\n",
      "cc-provenance-20230 100%[===================>]   1.20G  14.6MB/s    in 90s     \n",
      "\n",
      "2024-10-15 16:51:13 (13.7 MB/s) - ‘cc-provenance-20230303.csv.gz’ saved [1293543097/1293543097]\n",
      "\n",
      "gzip: unrecognized option '--yes'\n",
      "Try `gzip --help' for more information.\n"
     ]
    }
   ],
   "source": [
    "!wget https://digitalcorpora.s3.amazonaws.com/corpora/files/CC-MAIN-2021-31-PDF-UNTRUNCATED/metadata/cc-provenance-20230303.csv.gz\n",
    "!gunzip cc-provenance-20230303.csv.gz "
   ]
  },
  {
   "cell_type": "code",
   "execution_count": 10,
   "metadata": {
    "execution": {
     "iopub.execute_input": "2024-09-23T14:33:06.630436Z",
     "iopub.status.busy": "2024-09-23T14:33:06.629539Z",
     "iopub.status.idle": "2024-09-23T14:34:01.637522Z",
     "shell.execute_reply": "2024-09-23T14:34:01.637142Z",
     "shell.execute_reply.started": "2024-09-23T14:33:06.630378Z"
    },
    "id": "KVeT_PkrLkJm"
   },
   "outputs": [
    {
     "name": "stderr",
     "output_type": "stream",
     "text": [
      "100%|██████████| 8410703/8410703 [00:40<00:00, 207007.45it/s]\n"
     ]
    },
    {
     "data": {
      "text/plain": [
       "590954"
      ]
     },
     "execution_count": 12,
     "metadata": {},
     "output_type": "execute_result"
    }
   ],
   "source": [
    "lines = []\n",
    "with open(\"./cc-provenance-20230303.csv\") as csv_file:\n",
    "    for line in csv_file:\n",
    "        lines.append(line)\n",
    "header = lines[0]\n",
    "content = lines[1:]\n",
    "\n",
    "content = [line.split(\",\")[2] for line in content]\n",
    "\n",
    "\n",
    "# filter all german urls\n",
    "german_urls = []\n",
    "for url in tqdm(content):\n",
    "    parsed_url = urlparse(url)\n",
    "    hostname = parsed_url.hostname\n",
    "    if hostname is None:\n",
    "        continue\n",
    "    if hostname.endswith(\"de\"):\n",
    "        german_urls.append(url)\n",
    "\n",
    "len(german_urls)"
   ]
  },
  {
   "cell_type": "code",
   "execution_count": 1,
   "metadata": {
    "id": "G4YKNmhBNAz6"
   },
   "outputs": [
    {
     "ename": "NameError",
     "evalue": "name 'tqdm' is not defined",
     "output_type": "error",
     "traceback": [
      "\u001b[0;31m---------------------------------------------------------------------------\u001b[0m",
      "\u001b[0;31mNameError\u001b[0m                                 Traceback (most recent call last)",
      "Cell \u001b[0;32mIn[1], line 3\u001b[0m\n\u001b[1;32m      1\u001b[0m download_count \u001b[38;5;241m=\u001b[39m \u001b[38;5;241m0\u001b[39m\n\u001b[0;32m----> 3\u001b[0m \u001b[38;5;28;01mfor\u001b[39;00m url \u001b[38;5;129;01min\u001b[39;00m \u001b[43mtqdm\u001b[49m(german_urls):\n\u001b[1;32m      4\u001b[0m     \u001b[38;5;28;01mif\u001b[39;00m url \u001b[38;5;129;01min\u001b[39;00m mappings_pdf:\n\u001b[1;32m      5\u001b[0m         \u001b[38;5;28;01mcontinue\u001b[39;00m\n",
      "\u001b[0;31mNameError\u001b[0m: name 'tqdm' is not defined"
     ]
    }
   ],
   "source": [
    "download_count = 0\n",
    "\n",
    "for url in tqdm(german_urls):\n",
    "    if url in mappings_pdf:\n",
    "        continue\n",
    "\n",
    "    decoded_str = urllib.parse.unquote(url)\n",
    "    parsed_url = urlparse(decoded_str)\n",
    "    file_name = parsed_url.hostname + \"_\" + os.path.basename(parsed_url.path)\n",
    "    if not file_name.endswith(\".pdf\"):\n",
    "        continue\n",
    "\n",
    "    try:\n",
    "        response = requests.get(url, timeout=10)\n",
    "    except:\n",
    "        continue\n",
    "\n",
    "    if response.status_code == 200:\n",
    "        with open(os.path.join(PDF_PATH, file_name), \"wb\") as file:\n",
    "            file.write(response.content)\n",
    "            mappings_pdf[url] = file_name\n",
    "\n",
    "        download_count += 1\n",
    "\n",
    "        # Dump mapping to JSON file every 200 downloads\n",
    "        if download_count % 200 == 0:\n",
    "            with open(os.path.join(PDF_PATH, \"mapping.json\"), \"w\") as json_file:\n",
    "                json.dump(mappings_pdf, json_file)\n",
    "\n",
    "# Final dump of mapping to JSON file\n",
    "with open(os.path.join(PDF_PATH, \"mapping.json\"), \"w\") as json_file:\n",
    "    json.dump(mappings_pdf, json_file)"
   ]
  },
  {
   "cell_type": "markdown",
   "metadata": {
    "id": "gLMnu06HNZGk"
   },
   "source": [
    "# PDFs to Images\n"
   ]
  },
  {
   "cell_type": "code",
   "execution_count": 7,
   "metadata": {
    "id": "5A4TRNKDNnVb"
   },
   "outputs": [
    {
     "name": "stderr",
     "output_type": "stream",
     "text": [
      " 15%|█▌        | 2888/18685 [00:03<00:14, 1074.53it/s]/usr/local/lib/python3.11/dist-packages/PIL/Image.py:3176: DecompressionBombWarning: Image size (104680000 pixels) exceeds limit of 89478485 pixels, could be decompression bomb DOS attack.\n",
      "  warnings.warn(\n",
      " 40%|███▉      | 7396/18685 [00:10<00:11, 1020.25it/s]"
     ]
    },
    {
     "name": "stderr",
     "output_type": "stream",
     "text": [
      " 53%|█████▎    | 9874/18685 [00:17<00:14, 626.31it/s] "
     ]
    }
   ],
   "source": [
    "for url, file_name in tqdm(mappings_pdf.items()):\n",
    "    if url in mappings_img:\n",
    "        continue\n",
    "    pdf_path = os.path.join(PDF_PATH, file_name)\n",
    "    pdf_path = unicodedata.normalize(\"NFC\", pdf_path)\n",
    "    try:\n",
    "        with tempfile.TemporaryDirectory() as path:\n",
    "            image_data = convert_from_path(\n",
    "                pdf_path, output_folder=path, fmt=\"jpeg\", first_page=1, last_page=1\n",
    "            )[0]\n",
    "            image_data.save(os.path.join(IMAGE_PATH, file_name.replace(\".pdf\", \".jpg\")))\n",
    "            mappings_img[url] = file_name.replace(\".pdf\", \".jpg\")\n",
    "            with open(os.path.join(IMAGE_PATH, \"mapping.json\"), \"w\") as f:\n",
    "                json.dump(mappings_img, f)\n",
    "    except:\n",
    "        continue"
   ]
  },
  {
   "cell_type": "markdown",
   "metadata": {},
   "source": [
    "# Transcribe Images"
   ]
  },
  {
   "cell_type": "code",
   "execution_count": 5,
   "metadata": {},
   "outputs": [
    {
     "name": "stderr",
     "output_type": "stream",
     "text": [
      " 72%|███████▏  | 12295/16974 [45:11<3:18:04,  2.54s/it]"
     ]
    },
    {
     "name": "stderr",
     "output_type": "stream",
     "text": [
      " 72%|███████▏  | 12298/16974 [45:14<1:57:47,  1.51s/it]"
     ]
    }
   ],
   "source": [
    "for url in tqdm(list(mappings_img.keys())):\n",
    "    file_name = mappings_img[url]\n",
    "\n",
    "    if url in transcripts:\n",
    "        continue\n",
    "\n",
    "    file_path = os.path.join(IMAGE_PATH, file_name)\n",
    "    try:\n",
    "        transcript = pytesseract.image_to_string(Image.open(file_path))\n",
    "        transcripts[url] = transcript\n",
    "    except:\n",
    "        continue\n",
    "\n",
    "    if len(transcripts) % 100 == 0:\n",
    "        with open(os.path.join(DATASET_PATH, \"transcripts.json\"), \"w\") as f:\n",
    "            json.dump(transcripts, f)\n"
   ]
  },
  {
   "cell_type": "markdown",
   "metadata": {},
   "source": [
    "# Extract Attribute Infomration from Images"
   ]
  },
  {
   "cell_type": "code",
   "execution_count": 65,
   "metadata": {},
   "outputs": [],
   "source": [
    "prompt = \"\"\"You are an expert data analyst specializing in document analysis and information extraction.\n",
    "            Your task is to carefully analyze a transcribed text from various types of documents (e.g., emails, letters, invoices, invitations)\n",
    "            and extract all relevant attributes describing human or legal entities (Person, Organization, Institution, etc.) of the document.\n",
    "                \n",
    "            Here are EXAMPLES of attributes you should extract.\n",
    "            This is not an exhaustive list, find more interesting attributes yourself.\n",
    "            The attributes MUST directly describe the entity and must be directly extracted from the text.\n",
    "            - Full Name (if available, separate first name and last name)\n",
    "            - Complete Address (including street, city, state/province, postal code, country)\n",
    "            - Phone Number(s) (specify if it's a landline, mobile, or fax)\n",
    "            - Email Address\n",
    "            - Any relevant identification numbers (e.g., Customer ID, Order Number, Invoice Number, License Key)\n",
    "            - Company or Organization name (if applicable)\n",
    "            - Job Title or Role (if mentioned)\n",
    "            \n",
    "            Remember, accuracy is crucial. If you're unsure about any piece of information, indicate your level of confidence or that the information is ambiguous.\n",
    "            \n",
    "            The main target of this analysis are documents that carry detailed information about entities e.g. invoices, business letters, etc.\n",
    "            Give a score from 1 to 10 how good the document fits the quality criteria, 1 being very bad and 10 being very good.\n",
    "            \n",
    "            Please analyze the following transcribed text and provide your detailed extraction:\n",
    "            \"\"\""
   ]
  },
  {
   "cell_type": "code",
   "execution_count": 62,
   "metadata": {},
   "outputs": [],
   "source": [
    "class Attribute(BaseModel):\n",
    "    key: str\n",
    "    value: str\n",
    "\n",
    "class Entity(BaseModel):\n",
    "    name: str\n",
    "    attributes: List[Attribute]\n",
    "\n",
    "class Extraction(BaseModel):\n",
    "    entities: List[Entity]\n",
    "    score: int\n",
    "    "
   ]
  },
  {
   "cell_type": "code",
   "execution_count": 66,
   "metadata": {},
   "outputs": [
    {
     "name": "stderr",
     "output_type": "stream",
     "text": [
      "100%|██████████| 1/1 [00:21<00:00, 21.23s/it]\n"
     ]
    }
   ],
   "source": [
    "from openai import OpenAI\n",
    "from llama_index.core.llms import ChatMessage\n",
    "from llama_index.core.program import FunctionCallingProgram\n",
    "from tqdm import tqdm\n",
    "\n",
    "# Initialize the OpenAI client\n",
    "client = OpenAI(api_key=OPENAI_API_KEY)\n",
    "\n",
    "attribute_list = {}\n",
    "\n",
    "for url in tqdm(list(transcripts.keys())[11:12]):\n",
    "    transcript = transcripts[url]\n",
    "\n",
    "    messages = [\n",
    "        {\"role\": \"system\", \"content\": prompt},\n",
    "        {\"role\": \"user\", \"content\": transcript}\n",
    "    ]\n",
    "\n",
    "    response = client.chat.completions.create(\n",
    "        model=\"gpt-4o-mini-2024-07-18\",\n",
    "        messages=messages\n",
    "    )\n",
    "\n",
    "    chatgpt_response = response.choices[0].message.content\n",
    "\n",
    "    prompt_template_str = \"\"\"You are an expert data analyst specializing in document analysis and information extraction.\n",
    "    Your task is to carefully analyze a transcribed text from various types of documents (e.g., emails, letters, invoices, invitations)\n",
    "    and extract all relevant attributes describing both the recipient and the sender of the document.\n",
    "    \"\"\"\n",
    "\n",
    "    completion = client.beta.chat.completions.parse(    \n",
    "        model=\"gpt-4o-mini-2024-07-18\",\n",
    "        messages=[\n",
    "            {\"role\": \"system\", \"content\": prompt_template_str},\n",
    "            {\"role\": \"user\", \"content\": chatgpt_response}\n",
    "        ],\n",
    "        response_format=Extraction,\n",
    "    )\n",
    "\n",
    "    output = completion.choices[0].message.parsed\n",
    "\n",
    "    attribute_list[url] = output.dict()\n",
    "\n",
    "with open(os.path.join(DATASET_PATH, \"attributes.json\"), \"w\") as f:\n",
    "    json.dump(attribute_list, f)"
   ]
  },
  {
   "cell_type": "code",
   "execution_count": 67,
   "metadata": {},
   "outputs": [
    {
     "data": {
      "text/plain": [
       "{'entities': [{'name': 'MSK Industrieservice',\n",
       "   'attributes': [{'key': 'Full Name', 'value': 'MSK Industrieservice'},\n",
       "    {'key': 'Company Name', 'value': 'MNA Laboratuvarlari San. Tic. Ltd, Sti'},\n",
       "    {'key': 'Complete Address',\n",
       "     'value': 'Kiciikbakalkéy Mahallesi Yenidogan Ca. No:21, Atasehir, Istanbul, Turkey'},\n",
       "    {'key': 'Notified Body Number', 'value': '2841'},\n",
       "    {'key': 'Product Classification', 'value': 'FFP2'},\n",
       "    {'key': 'Product Name', 'value': 'Komfort2o Atemschutzmaske'},\n",
       "    {'key': 'Compliance Standard', 'value': 'EN149:2001+A1:2009'},\n",
       "    {'key': 'CE Certification',\n",
       "     'value': 'CE-Kennzeichnung gem. der Verordnung (EU) 2016/425'},\n",
       "    {'key': 'Storage Conditions', 'value': 'Cold (-20 to +40°C), Dry'},\n",
       "    {'key': 'Humidity', 'value': '<80%'},\n",
       "    {'key': 'Exposure Conditions',\n",
       "     'value': 'Protection against direct UV and sunlight exposure'},\n",
       "    {'key': 'Instructions for Disposal',\n",
       "     'value': 'The masks may be contaminated with harmful substances and should be disposed of in accordance with applicable regulations.'}]}],\n",
       " 'score': 7}"
      ]
     },
     "execution_count": 67,
     "metadata": {},
     "output_type": "execute_result"
    }
   ],
   "source": [
    "url = list(attribute_list.keys())[0]\n",
    "attribute_list[url]\n"
   ]
  },
  {
   "cell_type": "code",
   "execution_count": 51,
   "metadata": {},
   "outputs": [
    {
     "data": {
      "text/plain": [
       "{'http://olympiaschnittmuster.de/pdf/nodata.pdf': None,\n",
       " 'https://dgao.de/wp-content/uploads/2021/07/W3_Laser_und_Oberflaechentechnik_dt_211020.pdf': None,\n",
       " 'https://www.posten-boerse.de/images/downloads/Filialanalyse_Neueroeffnung_Posten-Boerse_in_49401_Damme_Muehlenstrasse_31.pdf': None,\n",
       " 'https://conceptbau.de/wp-content/uploads/2021/07/MBA2_163.pdf': None,\n",
       " 'https://bkv-mrw.de/anhaenge/111072021003202.pdf': None,\n",
       " 'https://www.bildungshaus-salmuenster.de/bildungshaussalmuenster/pdf/2021-2_Veranstaltungen/Veranstaltungsraster-2021-DIN-A5-Version-Stand-Juli-2021doc.pdf': None,\n",
       " 'https://shop.strato.de/WebRoot/Store19/Shops/63268978/MediaGallery/Downloads/Muster-Widerrufsformular.pdf': None,\n",
       " 'https://hormoneundmehr.de/files/content/download/Beschwerden-Fragebogen-fuer-die-Frau.pdf': None,\n",
       " 'https://www.kulmeck.de/wp-content/uploads/2021/07/kulmeck_daily_2021_07-07.pdf': None,\n",
       " 'https://www.kanzlei-beathalter.de/pdf/fb/2003%2011%2006%20bis%2008%20Einfuehrung%20Gewerblicher%20Rechtsschutz%20DAA.pdf': None}"
      ]
     },
     "execution_count": 51,
     "metadata": {},
     "output_type": "execute_result"
    }
   ],
   "source": [
    "attribute_list"
   ]
  },
  {
   "cell_type": "code",
   "execution_count": 25,
   "metadata": {},
   "outputs": [
    {
     "data": {
      "text/plain": [
       "ParsedChatCompletion[NoneType](id='chatcmpl-AIxHkaNvelxxewFSfkmJOGb2vuPpz', choices=[ParsedChoice[NoneType](finish_reason='stop', index=0, logprobs=None, message=ParsedChatCompletionMessage[NoneType](content='Based on the provided transcribed text, here is the detailed extraction of relevant attributes for both the recipient and sender:\\n\\n### Recipient Information\\n\\n- **Full Name**: Eheleute (the name is incomplete and partially obscured, thus exact information is ambiguous)\\n  - **First Name**: Not identifiable\\n  - **Last Name**: Not identifiable\\n- **Complete Address**: Not fully specified\\n  - **Street**: Not identified\\n  - **City**: Kiel (from the context, but not explicitly stated in a complete manner)\\n  - **State/Province**: Not specified\\n  - **Postal Code**: Not specified\\n  - **Country**: Not specified (assumed to be Germany based on context)\\n- **Phone Number(s)**: None provided; the area for phone number appears obscured or omitted.\\n- **Email Address**: None provided.\\n- **Identification Numbers**: None specified.\\n- **Company or Organization name**: None provided.\\n- **Job Title or Role**: None provided.\\n\\n### Sender Information\\n\\n- **Full Name**: Geowell Erdwarme GmbH & Co. KG (the company is clearly mentioned)\\n- **Complete Address**:\\n  - **Street**: Neckarstraße 5 (note: \"Strafe\" appears to be a typographical error)\\n  - **City**: Marl\\n  - **State/Province**: Not specified\\n  - **Postal Code**: 45768\\n  - **Country**: Germany (inferred from context)\\n- **Phone Number(s)**:\\n  - **Phone Number**: 02365/201010 (unidentified if it is mobile or landline; however, it’s a clear contact number for questions)\\n- **Email Address**: info@geowell.de (this is properly specified)\\n- **Any relevant identification numbers**: None specified.\\n- **Job Title or Role**: None provided.\\n\\n### Evaluation of Document Quality\\nThis document contains significant information regarding the sender but lacks clear and identifiable information about the recipient. The recipient details are ambiguous and incomplete, which are critical for document analysis. \\n\\n### Score: 2/10 \\nThe document only partially fulfills the requirements, primarily due to a lack of identifiable recipient details. The recovery of sender information is more robust, but overall, the document performs poorly in terms of the extraction criteria.', refusal=None, role='assistant', function_call=None, tool_calls=[], parsed=None))], created=1729081160, model='gpt-4o-mini-2024-07-18', object='chat.completion', service_tier=None, system_fingerprint='fp_e2bde53e6e', usage=CompletionUsage(completion_tokens=487, prompt_tokens=1029, total_tokens=1516, completion_tokens_details=CompletionTokensDetails(audio_tokens=None, reasoning_tokens=0), prompt_tokens_details=PromptTokensDetails(audio_tokens=None, cached_tokens=0)))"
      ]
     },
     "execution_count": 25,
     "metadata": {},
     "output_type": "execute_result"
    }
   ],
   "source": [
    "completion"
   ]
  },
  {
   "cell_type": "code",
   "execution_count": 17,
   "metadata": {},
   "outputs": [
    {
     "name": "stdout",
     "output_type": "stream",
     "text": [
      "\u001b[33mWARNING: Running pip as the 'root' user can result in broken permissions and conflicting behaviour with the system package manager. It is recommended to use a virtual environment instead: https://pip.pypa.io/warnings/venv\u001b[0m\u001b[33m\n",
      "\u001b[0mNote: you may need to restart the kernel to use updated packages.\n"
     ]
    }
   ],
   "source": [
    "%pip install --quiet --upgrade llama-index-core llama-index-readers-file llama-index-llms-ollama llama-index-embeddings-huggingface llama-index-llms-openai llama-index-embeddings-openai"
   ]
  },
  {
   "cell_type": "code",
   "execution_count": 18,
   "metadata": {},
   "outputs": [],
   "source": [
    "from llama_index.llms.ollama import Ollama\n",
    "#llm = Ollama(model=\"gemma2:27b\")\n",
    "llm = Ollama(model=\"llama3.1:70b\", request_timeout=300)"
   ]
  },
  {
   "cell_type": "code",
   "execution_count": 6,
   "metadata": {},
   "outputs": [
    {
     "ename": "NameError",
     "evalue": "name 'program' is not defined",
     "output_type": "error",
     "traceback": [
      "\u001b[0;31m---------------------------------------------------------------------------\u001b[0m",
      "\u001b[0;31mNameError\u001b[0m                                 Traceback (most recent call last)",
      "Cell \u001b[0;32mIn[6], line 1\u001b[0m\n\u001b[0;32m----> 1\u001b[0m help(\u001b[43mprogram\u001b[49m)\n",
      "\u001b[0;31mNameError\u001b[0m: name 'program' is not defined"
     ]
    }
   ],
   "source": [
    "help(program)chatgpt_response"
   ]
  },
  {
   "cell_type": "code",
   "execution_count": 7,
   "metadata": {},
   "outputs": [],
   "source": []
  },
  {
   "cell_type": "code",
   "execution_count": 8,
   "metadata": {},
   "outputs": [],
   "source": [
    "from pydantic import RootModel, BaseModel\n",
    "\n",
    "\n"
   ]
  },
  {
   "cell_type": "code",
   "execution_count": 36,
   "metadata": {},
   "outputs": [
    {
     "name": "stdout",
     "output_type": "stream",
     "text": [
      "Collecting pydantic\n",
      "  Using cached pydantic-2.9.2-py3-none-any.whl.metadata (149 kB)\n",
      "Requirement already satisfied: annotated-types>=0.6.0 in /usr/local/lib/python3.11/dist-packages (from pydantic) (0.7.0)\n",
      "Requirement already satisfied: pydantic-core==2.23.4 in /usr/local/lib/python3.11/dist-packages (from pydantic) (2.23.4)\n",
      "Requirement already satisfied: typing-extensions>=4.6.1 in /usr/local/lib/python3.11/dist-packages (from pydantic) (4.12.2)\n",
      "Using cached pydantic-2.9.2-py3-none-any.whl (434 kB)\n",
      "Installing collected packages: pydantic\n",
      "\u001b[31mERROR: pip's dependency resolver does not currently take into account all the packages that are installed. This behaviour is the source of the following dependency conflicts.\n",
      "deepspeed 0.10.3 requires pydantic<2.0.0, but you have pydantic 2.9.2 which is incompatible.\u001b[0m\u001b[31m\n",
      "\u001b[0mSuccessfully installed pydantic-2.9.2\n",
      "\u001b[33mWARNING: Running pip as the 'root' user can result in broken permissions and conflicting behaviour with the system package manager. It is recommended to use a virtual environment instead: https://pip.pypa.io/warnings/venv\u001b[0m\u001b[33m\n",
      "\u001b[0mNote: you may need to restart the kernel to use updated packages.\n"
     ]
    }
   ],
   "source": [
    "%pip install -U pydantic"
   ]
  },
  {
   "cell_type": "code",
   "execution_count": 10,
   "metadata": {},
   "outputs": [
    {
     "name": "stdout",
     "output_type": "stream",
     "text": [
      "Help on class FunctionCallingProgram in module llama_index.core.program.function_program:\n",
      "\n",
      "class FunctionCallingProgram(llama_index.core.types.BasePydanticProgram)\n",
      " |  FunctionCallingProgram(output_cls: Type[~Model], llm: llama_index.core.llms.function_calling.FunctionCallingLLM, prompt: llama_index.core.prompts.base.BasePromptTemplate, tool_choice: Union[str, Dict[str, Any], NoneType] = None, allow_parallel_tool_calls: bool = False, verbose: bool = False) -> None\n",
      " |  \n",
      " |  Function Calling Program.\n",
      " |  \n",
      " |  Uses function calling LLMs to obtain a structured output.\n",
      " |  \n",
      " |  Method resolution order:\n",
      " |      FunctionCallingProgram\n",
      " |      llama_index.core.types.BasePydanticProgram\n",
      " |      llama_index.core.instrumentation.DispatcherSpanMixin\n",
      " |      abc.ABC\n",
      " |      typing.Generic\n",
      " |      builtins.object\n",
      " |  \n",
      " |  Methods defined here:\n",
      " |  \n",
      " |  __call__(self, *args: Any, llm_kwargs: Optional[Dict[str, Any]] = None, **kwargs: Any) -> pydantic.main.BaseModel\n",
      " |  \n",
      " |  __init__(self, output_cls: Type[~Model], llm: llama_index.core.llms.function_calling.FunctionCallingLLM, prompt: llama_index.core.prompts.base.BasePromptTemplate, tool_choice: Union[str, Dict[str, Any], NoneType] = None, allow_parallel_tool_calls: bool = False, verbose: bool = False) -> None\n",
      " |      Init params.\n",
      " |  \n",
      " |  async acall(self, *args: Any, llm_kwargs: Optional[Dict[str, Any]] = None, **kwargs: Any) -> pydantic.main.BaseModel\n",
      " |  \n",
      " |  async astream_call(self, *args: Any, llm_kwargs: Optional[Dict[str, Any]] = None, **kwargs: Any) -> AsyncGenerator[Union[~Model, List[~Model]], NoneType]\n",
      " |      Stream objects.\n",
      " |      \n",
      " |      Returns a generator returning partials of the same object\n",
      " |      or a list of objects until it returns.\n",
      " |  \n",
      " |  stream_call(self, *args: Any, llm_kwargs: Optional[Dict[str, Any]] = None, **kwargs: Any) -> Generator[Union[~Model, List[~Model]], NoneType, NoneType]\n",
      " |      Stream object.\n",
      " |      \n",
      " |      Returns a generator returning partials of the same object\n",
      " |      or a list of objects until it returns.\n",
      " |  \n",
      " |  ----------------------------------------------------------------------\n",
      " |  Class methods defined here:\n",
      " |  \n",
      " |  from_defaults(output_cls: Type[~Model], prompt_template_str: Optional[str] = None, prompt: Optional[llama_index.core.prompts.base.BasePromptTemplate] = None, llm: Optional[llama_index.core.llms.llm.LLM] = None, verbose: bool = False, allow_parallel_tool_calls: bool = False, tool_choice: Union[str, Dict[str, Any], NoneType] = None, **kwargs: Any) -> 'FunctionCallingProgram' from abc.ABCMeta\n",
      " |  \n",
      " |  ----------------------------------------------------------------------\n",
      " |  Readonly properties defined here:\n",
      " |  \n",
      " |  output_cls\n",
      " |  \n",
      " |  ----------------------------------------------------------------------\n",
      " |  Data descriptors defined here:\n",
      " |  \n",
      " |  prompt\n",
      " |  \n",
      " |  ----------------------------------------------------------------------\n",
      " |  Data and other attributes defined here:\n",
      " |  \n",
      " |  __abstractmethods__ = frozenset()\n",
      " |  \n",
      " |  __annotations__ = {}\n",
      " |  \n",
      " |  __orig_bases__ = (llama_index.core.types.BasePydanticProgram[pydantic....\n",
      " |  \n",
      " |  __parameters__ = ()\n",
      " |  \n",
      " |  ----------------------------------------------------------------------\n",
      " |  Class methods inherited from llama_index.core.instrumentation.DispatcherSpanMixin:\n",
      " |  \n",
      " |  __init_subclass__(**kwargs: Any) -> None from abc.ABCMeta\n",
      " |      This method is called when a class is subclassed.\n",
      " |      \n",
      " |      The default implementation does nothing. It may be\n",
      " |      overridden to extend subclasses.\n",
      " |  \n",
      " |  ----------------------------------------------------------------------\n",
      " |  Data descriptors inherited from llama_index.core.instrumentation.DispatcherSpanMixin:\n",
      " |  \n",
      " |  __dict__\n",
      " |      dictionary for instance variables\n",
      " |  \n",
      " |  __weakref__\n",
      " |      list of weak references to the object\n",
      " |  \n",
      " |  ----------------------------------------------------------------------\n",
      " |  Class methods inherited from typing.Generic:\n",
      " |  \n",
      " |  __class_getitem__(params) from abc.ABCMeta\n",
      " |      Parameterizes a generic class.\n",
      " |      \n",
      " |      At least, parameterizing a generic class is the *main* thing this method\n",
      " |      does. For example, for some generic class `Foo`, this is called when we\n",
      " |      do `Foo[int]` - there, with `cls=Foo` and `params=int`.\n",
      " |      \n",
      " |      However, note that this method is also called when defining generic\n",
      " |      classes in the first place with `class Foo(Generic[T]): ...`.\n",
      "\n"
     ]
    }
   ],
   "source": [
    "help(FunctionCallingProgram)"
   ]
  },
  {
   "cell_type": "code",
   "execution_count": 19,
   "metadata": {},
   "outputs": [
    {
     "name": "stderr",
     "output_type": "stream",
     "text": [
      "  0%|          | 0/1 [00:38<?, ?it/s]"
     ]
    },
    {
     "name": "stdout",
     "output_type": "stream",
     "text": [
      "7 validation errors for Extraction\n",
      "sender_attributes.0\n",
      "  Input should be a valid dictionary or instance of Attribute [type=model_type, input_value='Adresse: Neckarstrafe 5, 45768 Marl', input_type=str]\n",
      "    For further information visit https://errors.pydantic.dev/2.9/v/model_type\n",
      "sender_attributes.1\n",
      "  Input should be a valid dictionary or instance of Attribute [type=model_type, input_value='Telefonnummer: 02365/201010', input_type=str]\n",
      "    For further information visit https://errors.pydantic.dev/2.9/v/model_type\n",
      "sender_attributes.2\n",
      "  Input should be a valid dictionary or instance of Attribute [type=model_type, input_value='Email: info@geowell.de', input_type=str]\n",
      "    For further information visit https://errors.pydantic.dev/2.9/v/model_type\n",
      "recipient_attributes.0\n",
      "  Input should be a valid dictionary or instance of Attribute [type=model_type, input_value='Ansprechpartner: ', input_type=str]\n",
      "    For further information visit https://errors.pydantic.dev/2.9/v/model_type\n",
      "recipient_attributes.1\n",
      "  Input should be a valid dictionary or instance of Attribute [type=model_type, input_value='Adresse des Bauvorhabens: Strafe:', input_type=str]\n",
      "    For further information visit https://errors.pydantic.dev/2.9/v/model_type\n",
      "recipient_attributes.2\n",
      "  Input should be a valid dictionary or instance of Attribute [type=model_type, input_value='Bauherr / Antragsteller:...eeeeeeeteeeeeeseeeneees', input_type=str]\n",
      "    For further information visit https://errors.pydantic.dev/2.9/v/model_type\n",
      "recipient_attributes.3\n",
      "  Input should be a valid dictionary or instance of Attribute [type=model_type, input_value='SwLe §##o§ Kiel', input_type=str]\n",
      "    For further information visit https://errors.pydantic.dev/2.9/v/model_type\n"
     ]
    },
    {
     "name": "stderr",
     "output_type": "stream",
     "text": [
      "\n"
     ]
    }
   ],
   "source": [
    "#client = OpenAI(api_key=OPENAI_API_KEY)\n",
    "from llama_index.core.llms import ChatMessage\n",
    "from llama_index.core.program import FunctionCallingProgram\n",
    "from llama_index.llms.openai import OpenAI\n",
    "\n",
    "for url in tqdm(list(transcripts.keys())[2001:2002]):\n",
    "    transcript = transcripts[url]\n",
    "\n",
    "    messages = [ChatMessage(role=\"system\", content=prompt), ChatMessage(role=\"user\", content=transcript)]\n",
    "\n",
    "    response = llm.chat(messages)\n",
    "\n",
    "    #print(response)\n",
    "\n",
    "    prompt_template_str = \"\"\"You are an expert data analyst specializing in document analysis and information extraction.\n",
    "    Your task is to carefully analyze a transcribed text from various types of documents (e.g., emails, letters, invoices, invitations)\n",
    "    and extract all relevant attributes describing both the recipient and the sender of the document.\n",
    "    Here is the transcribed text:\n",
    "    {transcript}\n",
    "    \"\"\"\n",
    "\n",
    "\n",
    "    program = FunctionCallingProgram.from_defaults(\n",
    "        output_cls=Extraction,\n",
    "        prompt_template_str=prompt_template_str,\n",
    "        llm=llm\n",
    "    )\n",
    "\n",
    "    output = program(transcript=transcript)\n",
    "\n",
    "    print(output)\n",
    "\n",
    "    break\n"
   ]
  },
  {
   "cell_type": "markdown",
   "metadata": {
    "id": "4MSMxjVALdqL"
   },
   "source": [
    "# Extract Metadata from Images\n"
   ]
  },
  {
   "cell_type": "code",
   "execution_count": 8,
   "metadata": {
    "execution": {
     "iopub.execute_input": "2024-09-23T15:45:50.589708Z",
     "iopub.status.busy": "2024-09-23T15:45:50.589182Z",
     "iopub.status.idle": "2024-09-23T15:45:50.645988Z",
     "shell.execute_reply": "2024-09-23T15:45:50.645574Z",
     "shell.execute_reply.started": "2024-09-23T15:45:50.589686Z"
    }
   },
   "outputs": [],
   "source": [
    "client = OpenAI(api_key=OPENAI_API_KEY)"
   ]
  },
  {
   "cell_type": "code",
   "execution_count": 9,
   "metadata": {
    "execution": {
     "iopub.execute_input": "2024-09-23T15:45:51.076629Z",
     "iopub.status.busy": "2024-09-23T15:45:51.075914Z",
     "iopub.status.idle": "2024-09-23T15:45:51.079526Z",
     "shell.execute_reply": "2024-09-23T15:45:51.079093Z",
     "shell.execute_reply.started": "2024-09-23T15:45:51.076604Z"
    },
    "id": "v7QIxRbzgUwk"
   },
   "outputs": [],
   "source": [
    "def encode_image(image_path):\n",
    "    with open(image_path, \"rb\") as image_file:\n",
    "        return base64.b64encode(image_file.read()).decode(\"utf-8\")"
   ]
  },
  {
   "cell_type": "code",
   "execution_count": 10,
   "metadata": {
    "execution": {
     "iopub.execute_input": "2024-09-23T15:45:51.739875Z",
     "iopub.status.busy": "2024-09-23T15:45:51.739288Z",
     "iopub.status.idle": "2024-09-23T15:45:51.832695Z",
     "shell.execute_reply": "2024-09-23T15:45:51.832284Z",
     "shell.execute_reply.started": "2024-09-23T15:45:51.739853Z"
    },
    "id": "hINcLALIdtsZ"
   },
   "outputs": [],
   "source": [
    "class BaseEntity(BaseModel):\n",
    "    type: str\n",
    "    email: Optional[List[str]]\n",
    "    phone: Optional[List[str]]\n",
    "    fax: Optional[List[str]]\n",
    "    address: Optional[str]\n",
    "    website: Optional[str]\n",
    "\n",
    "\n",
    "class Person(BaseEntity):\n",
    "    type: Literal[\"person\"]\n",
    "    first_name: str\n",
    "    last_name: Optional[str]\n",
    "    role: Optional[str]\n",
    "    mobile: Optional[List[str]]\n",
    "\n",
    "\n",
    "class Government(BaseEntity):\n",
    "    type: Literal[\"government\"]\n",
    "    department: str\n",
    "    state: Optional[str]\n",
    "    district: Optional[str]\n",
    "    city: Optional[str]\n",
    "\n",
    "\n",
    "class Company(BaseEntity):\n",
    "    type: Literal[\"company\"]\n",
    "    name: str\n",
    "    sector: Optional[str]\n",
    "\n",
    "\n",
    "class Organisation(BaseEntity):\n",
    "    type: Literal[\"organization\"]\n",
    "    name: str\n",
    "    sector: Optional[str]\n",
    "\n",
    "\n",
    "class Group(BaseEntity):\n",
    "    type: Literal[\"group\"]\n",
    "    name: str\n",
    "\n",
    "\n",
    "Entity = Union[Person, Government, Company, Organisation, Group]\n",
    "\n",
    "\n",
    "class ContentType(str, Enum):\n",
    "    presentation = \"presentation\"\n",
    "    mail = \"mail\"\n",
    "    newsletter = \"newsletter\"\n",
    "    werbung = \"werbung\"\n",
    "    einladung = \"einladung\"\n",
    "    bewerbung = \"bewerbung\"\n",
    "    ankündigung = \"ankündigung\"\n",
    "    rechnung = \"rechnung\"\n",
    "    brief = \"brief\"\n",
    "    ausschreibung = \"ausschreibung\"\n",
    "    nachrichten = \"nachrichten\"\n",
    "    antrag = \"antrag\"\n",
    "    angebot = \"angebot\"\n",
    "    urkunde = \"urkunde\"\n",
    "    sonstiges = \"sonstiges\"\n",
    "\n",
    "\n",
    "class DocumentMetadata(BaseModel):\n",
    "    title: str\n",
    "    date: Optional[str]\n",
    "    content_type: ContentType\n",
    "    has_signature: bool\n",
    "    main_author: Optional[Entity]\n",
    "    other_authors: Optional[List[Entity]]\n",
    "    logo_owners: Optional[List[str]]\n",
    "    recipients: Optional[List[Entity]]"
   ]
  },
  {
   "cell_type": "code",
   "execution_count": null,
   "metadata": {
    "colab": {
     "base_uri": "https://localhost:8080/",
     "height": 1000,
     "referenced_widgets": [
      "95069845244a4c1bb8128fe354d68e43",
      "15eb260fbe1f4f3987708a96269663c6",
      "9b4836f1b33b473cba2d72b0aa7ab55e",
      "e6316ee3b4f84851a1a7c477d266911c",
      "d3ce130b5c284a2ba2e65c3afc447318",
      "69145d688d2941ba9fae7451c87cc356",
      "2d1702c4ecba45a698d1aec9dace6f34",
      "2d4c153d5e4a4d9cbe708f73d049e709",
      "92bf2afb1a3a414fb0a2b221d3ec81a1",
      "2dbfe004063d4bfb87a9a5efc9852044",
      "f97c9395b20249949dc1634cc454eb1a"
     ]
    },
    "id": "Yhc7B0ASU_DQ",
    "outputId": "a02d73fd-175c-446e-f20e-fc0dccd4aab6"
   },
   "outputs": [],
   "source": [
    "for url in tqdm(list(mappings_img.keys())):\n",
    "\n",
    "    if url in extraction:\n",
    "        continue\n",
    "\n",
    "    file_name = mappings_img[url]\n",
    "\n",
    "    file_path = os.path.join(IMAGE_PATH, file_name)\n",
    "\n",
    "    try:\n",
    "        transcript = pytesseract.image_to_string(Image.open(file_path))\n",
    "    except:\n",
    "        continue\n",
    "\n",
    "    base64_image = encode_image(file_path)\n",
    "\n",
    "    response = client.chat.completions.create(\n",
    "        model=\"gpt-4o-mini-2024-07-18\",\n",
    "        messages=[\n",
    "            {\n",
    "                \"role\": \"system\",\n",
    "                \"content\": \"You are a helpful assistant. Your task is to extract metadata from documents. Structure your answer as clear as possible and be very precise and detailed in your answer.\",\n",
    "            },\n",
    "            {\n",
    "                \"role\": \"user\",\n",
    "                \"content\": [\n",
    "                    {\n",
    "                        \"type\": \"text\",\n",
    "                        \"text\": f\"\"\"\n",
    "    Analysiere das folgende Dokument und extrahiere die wichtigsten Metadaten. Beantworte dabei die folgenden Punkte:\n",
    "\n",
    "    0. Beschreibung des Dokuments (Inhalt, Form/Format, Auffälliges/Markantes, )\n",
    "\n",
    "    1. Dokumententyp (wähle aus: Präsentation, E-Mail, Urkunde, Newsletter, Werbung, Einladung, Bewerbung, Ankündigung, Rechnung, Brief, Ausschreibung, Antrag, Sonstiges)\n",
    "\n",
    "    2. Titel des Dokuments\n",
    "\n",
    "    3. Datum des Dokuments\n",
    "\n",
    "    4. Ist ein Logo vorhanden und deutet es auf eine Autorschaft hin?\n",
    "    - Welche Firma / Person / Organisation ist Logoinhaber?\n",
    "\n",
    "    5. Ist eine Unterschrift vorhanden, wenn ja von wem?\n",
    "\n",
    "    6. Welche Entitäten (Person, Organisation, Behörde, ...) werden im Dokument genannt? In welchem Kontext werden sie genannt? Welche Rolle nehmen die Entitäten ein?\n",
    "\n",
    "    7. Welche Entitäten könnten Autoren des Dokuments sein und warum? Welche dieser Entitäten werden explizit genannt?\n",
    "\n",
    "    8. Welche Entitäten könnten Empfänger / Zielgruppe des Dokuments sein und warum? Welche dieser Entitäten werden explizit genannt?\n",
    "\n",
    "    9. Liste alle Autoren oder Herausgeber.\n",
    "        - Gib jede Entität (Person, Organisation, Behörde, ...) separat an\n",
    "        - Füge Kontaktinformationen hinzu, falls verfügbar\n",
    "        - Nenne ggf. die Verhältnisse der Entitäten zueinander\n",
    "\n",
    "    10. Liste alle Empfänger.\n",
    "        - Gib jede Entität (Person, Organisation, Behörde, ...) separat an\n",
    "        - Füge Kontaktinformationen hinzu, falls verfügbar\n",
    "        - Nenne ggf. die Verhältnisse der Entitäten zueinander\n",
    "\n",
    "    11. Weitere relevante Metadaten des Dokuments\n",
    "\n",
    "    Hier ist der Mitschrieb des zu analysierenden Dokuments:\n",
    "\n",
    "    {transcript}\n",
    "\n",
    "    Bitte antworte auf Deutsch und strukturiere deine Antwort entsprechend der obigen Punkte.\n",
    "                        \"\"\",\n",
    "                    },\n",
    "                    {\n",
    "                        \"type\": \"image_url\",\n",
    "                        \"image_url\": {\"url\": f\"data:image/jpeg;base64,{base64_image}\"},\n",
    "                    },\n",
    "                ],\n",
    "            },\n",
    "        ],\n",
    "    )\n",
    "\n",
    "    unstructured_answer = response.choices[0].message.content\n",
    "\n",
    "    completion = client.beta.chat.completions.parse(\n",
    "        model=\"gpt-4o-mini-2024-07-18\",\n",
    "        messages=[\n",
    "            {\n",
    "                \"role\": \"system\",\n",
    "                \"content\": \"Your task is to correctly format the given information. Integrate as much information as possible!\",\n",
    "            },\n",
    "            {\n",
    "                \"role\": \"user\",\n",
    "                \"content\": [\n",
    "                    {\n",
    "                        \"type\": \"text\",\n",
    "                        \"text\": f\"{unstructured_answer} \\n\\n {transcript}\",\n",
    "                    },\n",
    "                    {\n",
    "                        \"type\": \"image_url\",\n",
    "                        \"image_url\": {\"url\": f\"data:image/jpeg;base64,{base64_image}\"},\n",
    "                    },\n",
    "                ],\n",
    "            },\n",
    "        ],\n",
    "        response_format=DocumentMetadata,\n",
    "    )\n",
    "\n",
    "    res = completion.choices[0].message.parsed\n",
    "\n",
    "    res = res.dict()\n",
    "\n",
    "    extraction[url] = {\n",
    "        \"unstructured\": unstructured_answer,\n",
    "        \"transcript\": transcript,\n",
    "        \"metadata\": res,\n",
    "    }\n",
    "\n",
    "    with open(os.path.join(DATASET_PATH, \"extraction.json\"), \"w\", encoding=\"utf8\") as f:\n",
    "        json.dump(extraction, f)"
   ]
  },
  {
   "cell_type": "markdown",
   "metadata": {},
   "source": [
    "# Experiments"
   ]
  },
  {
   "cell_type": "markdown",
   "metadata": {},
   "source": [
    "### Create Dataset from Extraction"
   ]
  },
  {
   "cell_type": "code",
   "execution_count": 7,
   "metadata": {},
   "outputs": [],
   "source": [
    "import shutil\n",
    "HF_DATASET_PATH = os.path.join(DATASET_PATH, \"hf_dataset\")\n",
    "os.makedirs(HF_DATASET_PATH, exist_ok=True)\n",
    "\n",
    "METADATA_PATH = os.path.join(HF_DATASET_PATH, \"metadata.jsonl\")"
   ]
  },
  {
   "cell_type": "code",
   "execution_count": 17,
   "metadata": {},
   "outputs": [
    {
     "name": "stderr",
     "output_type": "stream",
     "text": [
      "4702it [00:15, 306.51it/s]\n"
     ]
    }
   ],
   "source": [
    "for i, (url, data) in tqdm(enumerate(extraction.items())):\n",
    "    file_name = mappings_img[url]\n",
    "    file_path = unicodedata.normalize(\"NFC\", os.path.join(IMAGE_PATH, file_name))\n",
    "\n",
    "    shutil.copyfile(file_path, os.path.join(HF_DATASET_PATH, f\"{i}.jpg\"))\n",
    "\n",
    "    with open(METADATA_PATH, \"a\", encoding=\"utf8\") as f:\n",
    "        data = {\n",
    "            \"file_name\": f\"{i}.jpg\",\n",
    "            \"additional_features\": data[\"metadata\"],\n",
    "        }\n",
    "        f.write(json.dumps(data, ensure_ascii=False) + \"\\n\")\n",
    "\n"
   ]
  },
  {
   "cell_type": "code",
   "execution_count": 15,
   "metadata": {},
   "outputs": [
    {
     "name": "stdout",
     "output_type": "stream",
     "text": [
      "Token will not been saved to git credential helper. Pass `add_to_git_credential=True` if you want to set the git credential as well.\n",
      "Token is valid (permission: write).\n",
      "Your token has been saved to /root/.cache/huggingface/token\n",
      "Login successful\n"
     ]
    }
   ],
   "source": [
    "from datasets import load_dataset\n",
    "from huggingface_hub import login\n",
    "login(token=HF_TOKEN, new_session=True)"
   ]
  },
  {
   "cell_type": "code",
   "execution_count": 8,
   "metadata": {},
   "outputs": [
    {
     "data": {
      "application/vnd.jupyter.widget-view+json": {
       "model_id": "3b30e37beb11470ab60b920911fd5aad",
       "version_major": 2,
       "version_minor": 0
      },
      "text/plain": [
       "Resolving data files:   0%|          | 0/4703 [00:00<?, ?it/s]"
      ]
     },
     "metadata": {},
     "output_type": "display_data"
    }
   ],
   "source": [
    "dataset = load_dataset(\"imagefolder\", data_dir=HF_DATASET_PATH)"
   ]
  },
  {
   "cell_type": "code",
   "execution_count": 20,
   "metadata": {},
   "outputs": [
    {
     "data": {
      "text/plain": [
       "{'image': <PIL.JpegImagePlugin.JpegImageFile image mode=RGB size=1969x1386>,\n",
       " 'additional_features': {'title': 'Entschuldigung',\n",
       "  'date': None,\n",
       "  'content_type': 'sonstiges',\n",
       "  'has_signature': False,\n",
       "  'main_author': {'type': 'company',\n",
       "   'email': None,\n",
       "   'phone': None,\n",
       "   'fax': None,\n",
       "   'address': None,\n",
       "   'website': None,\n",
       "   'first_name': None,\n",
       "   'last_name': None,\n",
       "   'role': None,\n",
       "   'mobile': None,\n",
       "   'name': 'OLYMPIA Schnittmusterverlag',\n",
       "   'sector': None,\n",
       "   'department': None,\n",
       "   'state': None,\n",
       "   'district': None,\n",
       "   'city': None},\n",
       "  'other_authors': None,\n",
       "  'logo_owners': ['OLYMPIA Schnittmusterverlag'],\n",
       "  'recipients': None}}"
      ]
     },
     "execution_count": 20,
     "metadata": {},
     "output_type": "execute_result"
    }
   ],
   "source": [
    "dataset[\"train\"][0]"
   ]
  },
  {
   "cell_type": "code",
   "execution_count": 9,
   "metadata": {},
   "outputs": [
    {
     "data": {
      "application/vnd.jupyter.widget-view+json": {
       "model_id": "4912e3d33d00458c8f6d9ef5e117d272",
       "version_major": 2,
       "version_minor": 0
      },
      "text/plain": [
       "Map:   0%|          | 0/1176 [00:00<?, ? examples/s]"
      ]
     },
     "metadata": {},
     "output_type": "display_data"
    },
    {
     "data": {
      "application/vnd.jupyter.widget-view+json": {
       "model_id": "d0007762f4fc45c9ae34a74d606ab75e",
       "version_major": 2,
       "version_minor": 0
      },
      "text/plain": [
       "Pushing dataset shards to the dataset hub:   0%|          | 0/4 [00:00<?, ?it/s]"
      ]
     },
     "metadata": {},
     "output_type": "display_data"
    },
    {
     "data": {
      "application/vnd.jupyter.widget-view+json": {
       "model_id": "8e860c20668a44879ab4c13a611f9a44",
       "version_major": 2,
       "version_minor": 0
      },
      "text/plain": [
       "Creating parquet from Arrow format:   0%|          | 0/12 [00:00<?, ?ba/s]"
      ]
     },
     "metadata": {},
     "output_type": "display_data"
    },
    {
     "data": {
      "application/vnd.jupyter.widget-view+json": {
       "model_id": "cc64ca73b2e94174997569d351183398",
       "version_major": 2,
       "version_minor": 0
      },
      "text/plain": [
       "Map:   0%|          | 0/1176 [00:00<?, ? examples/s]"
      ]
     },
     "metadata": {},
     "output_type": "display_data"
    },
    {
     "data": {
      "application/vnd.jupyter.widget-view+json": {
       "model_id": "10b81f97f50642a58553eca51876296f",
       "version_major": 2,
       "version_minor": 0
      },
      "text/plain": [
       "Creating parquet from Arrow format:   0%|          | 0/12 [00:00<?, ?ba/s]"
      ]
     },
     "metadata": {},
     "output_type": "display_data"
    },
    {
     "data": {
      "application/vnd.jupyter.widget-view+json": {
       "model_id": "4b28e7e5184048149f5b70d619e67cf1",
       "version_major": 2,
       "version_minor": 0
      },
      "text/plain": [
       "Map:   0%|          | 0/1175 [00:00<?, ? examples/s]"
      ]
     },
     "metadata": {},
     "output_type": "display_data"
    },
    {
     "data": {
      "application/vnd.jupyter.widget-view+json": {
       "model_id": "b31d89feb42647519803ec906d262337",
       "version_major": 2,
       "version_minor": 0
      },
      "text/plain": [
       "Creating parquet from Arrow format:   0%|          | 0/12 [00:00<?, ?ba/s]"
      ]
     },
     "metadata": {},
     "output_type": "display_data"
    },
    {
     "data": {
      "application/vnd.jupyter.widget-view+json": {
       "model_id": "058729bd16ae4ce28cf2d9a97efb3b5b",
       "version_major": 2,
       "version_minor": 0
      },
      "text/plain": [
       "Map:   0%|          | 0/1175 [00:00<?, ? examples/s]"
      ]
     },
     "metadata": {},
     "output_type": "display_data"
    },
    {
     "data": {
      "application/vnd.jupyter.widget-view+json": {
       "model_id": "7432a52a22f04738839e71aa819feaf2",
       "version_major": 2,
       "version_minor": 0
      },
      "text/plain": [
       "Creating parquet from Arrow format:   0%|          | 0/12 [00:00<?, ?ba/s]"
      ]
     },
     "metadata": {},
     "output_type": "display_data"
    }
   ],
   "source": [
    "dataset.push_to_hub(\"sodowo/doc_meta\")"
   ]
  },
  {
   "cell_type": "markdown",
   "metadata": {},
   "source": [
    "### Create Donut Dataset"
   ]
  },
  {
   "cell_type": "code",
   "execution_count": 6,
   "metadata": {},
   "outputs": [],
   "source": [
    "new_special_tokens = []  # new tokens which will be added to the tokenizer\n",
    "task_start_token = \"<s>\"  # start of task token\n",
    "eos_token = \"</s>\"  # eos token of tokenizer\n",
    "\n",
    "\n",
    "def json2token(\n",
    "    obj, update_special_tokens_for_json_key: bool = True, sort_json_key: bool = True\n",
    "):\n",
    "    \"\"\"\n",
    "    Convert an ordered JSON object into a token sequence\n",
    "    \"\"\"\n",
    "    if type(obj) == dict:\n",
    "        if len(obj) == 1 and \"text_sequence\" in obj:\n",
    "            return obj[\"text_sequence\"]\n",
    "        else:\n",
    "            output = \"\"\n",
    "            if sort_json_key:\n",
    "                keys = sorted(obj.keys(), reverse=True)\n",
    "            else:\n",
    "                keys = obj.keys()\n",
    "            for k in keys:\n",
    "                if update_special_tokens_for_json_key:\n",
    "                    (\n",
    "                        new_special_tokens.append(rf\"<s_{k}>\")\n",
    "                        if rf\"<s_{k}>\" not in new_special_tokens\n",
    "                        else None\n",
    "                    )\n",
    "                    (\n",
    "                        new_special_tokens.append(rf\"</s_{k}>\")\n",
    "                        if rf\"</s_{k}>\" not in new_special_tokens\n",
    "                        else None\n",
    "                    )\n",
    "                output += (\n",
    "                    rf\"<s_{k}>\"\n",
    "                    + json2token(\n",
    "                        obj[k], update_special_tokens_for_json_key, sort_json_key\n",
    "                    )\n",
    "                    + rf\"</s_{k}>\"\n",
    "                )\n",
    "            return output\n",
    "    elif type(obj) == list:\n",
    "        return r\"<sep/>\".join(\n",
    "            [\n",
    "                json2token(item, update_special_tokens_for_json_key, sort_json_key)\n",
    "                for item in obj\n",
    "            ]\n",
    "        )\n",
    "    else:\n",
    "        # excluded special tokens for now\n",
    "        obj = str(obj)\n",
    "        if f\"<{obj}/>\" in new_special_tokens:\n",
    "            obj = f\"<{obj}/>\"  # for categorical special tokens\n",
    "        return obj"
   ]
  },
  {
   "cell_type": "code",
   "execution_count": 7,
   "metadata": {},
   "outputs": [],
   "source": [
    "def filter_metadata(meta):\n",
    "    if meta[\"main_author\"] == None:\n",
    "        return True\n",
    "    if meta[\"recipients\"] == None:\n",
    "        return True\n",
    "    if meta[\"date\"] == None:\n",
    "        return True\n",
    "    if meta[\"logo_owners\"] == None:\n",
    "        return True\n",
    "    if meta[\"other_authors\"] == None:\n",
    "        return True"
   ]
  },
  {
   "cell_type": "code",
   "execution_count": 20,
   "metadata": {},
   "outputs": [
    {
     "name": "stderr",
     "output_type": "stream",
     "text": [
      "Could not find image processor class in the image processor config or the model config. Loading based on pattern matching with the model's feature extractor configuration.\n",
      "/usr/local/lib/python3.11/dist-packages/transformers/models/donut/processing_donut.py:189: FutureWarning: `feature_extractor` is deprecated and will be removed in v5. Use `image_processor` instead.\n",
      "  warnings.warn(\n",
      " 69%|██████▊   | 3222/4702 [1:15:44<34:47,  1.41s/it]  \n"
     ]
    },
    {
     "ename": "KeyboardInterrupt",
     "evalue": "",
     "output_type": "error",
     "traceback": [
      "\u001b[0;31m---------------------------------------------------------------------------\u001b[0m",
      "\u001b[0;31mKeyboardInterrupt\u001b[0m                         Traceback (most recent call last)",
      "Cell \u001b[0;32mIn[20], line 73\u001b[0m\n\u001b[1;32m     70\u001b[0m \u001b[38;5;66;03m# TODO: Use tensordict?\u001b[39;00m\n\u001b[1;32m     72\u001b[0m \u001b[38;5;28;01mwith\u001b[39;00m \u001b[38;5;28mopen\u001b[39m(item_path, \u001b[38;5;124m\"\u001b[39m\u001b[38;5;124mw\u001b[39m\u001b[38;5;124m\"\u001b[39m) \u001b[38;5;28;01mas\u001b[39;00m f:\n\u001b[0;32m---> 73\u001b[0m     \u001b[43mjson\u001b[49m\u001b[38;5;241;43m.\u001b[39;49m\u001b[43mdump\u001b[49m\u001b[43m(\u001b[49m\u001b[43m{\u001b[49m\n\u001b[1;32m     74\u001b[0m \u001b[43m        \u001b[49m\u001b[38;5;124;43m\"\u001b[39;49m\u001b[38;5;124;43mpixel_values\u001b[39;49m\u001b[38;5;124;43m\"\u001b[39;49m\u001b[43m:\u001b[49m\u001b[43m \u001b[49m\u001b[43mpixel_values\u001b[49m\u001b[38;5;241;43m.\u001b[39;49m\u001b[43mto\u001b[49m\u001b[43m(\u001b[49m\u001b[43mtorch\u001b[49m\u001b[38;5;241;43m.\u001b[39;49m\u001b[43mfloat16\u001b[49m\u001b[43m)\u001b[49m\u001b[38;5;241;43m.\u001b[39;49m\u001b[43mtolist\u001b[49m\u001b[43m(\u001b[49m\u001b[43m)\u001b[49m\u001b[43m,\u001b[49m\n\u001b[1;32m     75\u001b[0m \u001b[43m        \u001b[49m\u001b[38;5;124;43m\"\u001b[39;49m\u001b[38;5;124;43mmetadata\u001b[39;49m\u001b[38;5;124;43m\"\u001b[39;49m\u001b[43m:\u001b[49m\u001b[43m \u001b[49m\u001b[43mmetadata_target\u001b[49m\u001b[38;5;241;43m.\u001b[39;49m\u001b[43mto\u001b[49m\u001b[43m(\u001b[49m\u001b[43mtorch\u001b[49m\u001b[38;5;241;43m.\u001b[39;49m\u001b[43mint16\u001b[49m\u001b[43m)\u001b[49m\u001b[38;5;241;43m.\u001b[39;49m\u001b[43mtolist\u001b[49m\u001b[43m(\u001b[49m\u001b[43m)\u001b[49m\n\u001b[1;32m     76\u001b[0m \u001b[43m    \u001b[49m\u001b[43m}\u001b[49m\u001b[43m,\u001b[49m\u001b[43m \u001b[49m\u001b[43mf\u001b[49m\u001b[43m)\u001b[49m\n",
      "File \u001b[0;32m/usr/lib/python3.11/json/__init__.py:180\u001b[0m, in \u001b[0;36mdump\u001b[0;34m(obj, fp, skipkeys, ensure_ascii, check_circular, allow_nan, cls, indent, separators, default, sort_keys, **kw)\u001b[0m\n\u001b[1;32m    177\u001b[0m \u001b[38;5;66;03m# could accelerate with writelines in some versions of Python, at\u001b[39;00m\n\u001b[1;32m    178\u001b[0m \u001b[38;5;66;03m# a debuggability cost\u001b[39;00m\n\u001b[1;32m    179\u001b[0m \u001b[38;5;28;01mfor\u001b[39;00m chunk \u001b[38;5;129;01min\u001b[39;00m iterable:\n\u001b[0;32m--> 180\u001b[0m     fp\u001b[38;5;241m.\u001b[39mwrite(chunk)\n",
      "\u001b[0;31mKeyboardInterrupt\u001b[0m: "
     ]
    }
   ],
   "source": [
    "from transformers import DonutProcessor\n",
    "import torchvision as tv\n",
    "import torch\n",
    "import torchvision.transforms as transforms\n",
    "import gc\n",
    "from datasets import Dataset\n",
    "import os\n",
    "import json\n",
    "\n",
    "task_start_token = \"<s>\"\n",
    "eos_token = \"</s>\"\n",
    "processor = DonutProcessor.from_pretrained(\"naver-clova-ix/donut-base\")\n",
    "processor.tokenizer.add_special_tokens(\n",
    "    {\"additional_special_tokens\": [task_start_token, eos_token]}\n",
    ")\n",
    "\n",
    "# Reduce the image size\n",
    "new_size = [1080, 1920]  # Half of the original size\n",
    "processor.feature_extractor.size = new_size\n",
    "\n",
    "# Define image transformations\n",
    "transform = transforms.Compose([\n",
    "    transforms.Resize(new_size),\n",
    "    transforms.ToTensor(),\n",
    "    transforms.Normalize(mean=[0.485, 0.456, 0.406], std=[0.229, 0.224, 0.225])\n",
    "])\n",
    "\n",
    "# Create output directory\n",
    "HF_DATASET_PATH_DONUT = os.path.join(DATASET_PATH, \"hf_dataset_donut\")\n",
    "os.makedirs(HF_DATASET_PATH_DONUT, exist_ok=True)\n",
    "\n",
    "dataset_info = []\n",
    "\n",
    "for i, (url, data) in tqdm(enumerate(extraction.items()), total=len(extraction)):\n",
    "    item_path = os.path.join(HF_DATASET_PATH_DONUT, f\"{i}.json\")\n",
    "    #if os.path.exists(item_path):\n",
    "    #    continue\n",
    "\n",
    "    file_name = mappings_img[url]\n",
    "    file_path = unicodedata.normalize(\"NFC\", os.path.join(IMAGE_PATH, file_name))\n",
    "\n",
    "    metadata = data[\"metadata\"]\n",
    "\n",
    "    if filter_metadata(metadata):\n",
    "        continue\n",
    "\n",
    "    metadata = task_start_token + json2token(metadata) + eos_token\n",
    "\n",
    "    input_ids_metadata = (\n",
    "        processor.tokenizer(\n",
    "            metadata,\n",
    "            add_special_tokens=False,\n",
    "            return_tensors=\"pt\",\n",
    "            truncation=True,\n",
    "            padding=\"max_length\",\n",
    "            max_length=1000,\n",
    "        )[\"input_ids\"]\n",
    "        .squeeze(0)\n",
    "    )\n",
    "    \n",
    "    metadata_target = input_ids_metadata.clone()\n",
    "    metadata_target[metadata_target == processor.tokenizer.pad_token_id] = -100\n",
    "\n",
    "    # Load and transform the image\n",
    "    image = tv.io.read_image(unicodedata.normalize(\"NFC\", file_path))\n",
    "    image = transforms.ToPILImage()(image)\n",
    "    pixel_values = transform(image)\n",
    "\n",
    "\n",
    "    # TODO: Use tensordict?\n",
    "\n",
    "    with open(item_path, \"w\") as f:\n",
    "        json.dump({\n",
    "            \"pixel_values\": pixel_values.to(torch.float16).tolist(),\n",
    "            \"metadata\": metadata_target.to(torch.int16).tolist()\n",
    "        }, f)\n"
   ]
  },
  {
   "cell_type": "code",
   "execution_count": 21,
   "metadata": {},
   "outputs": [
    {
     "data": {
      "application/vnd.jupyter.widget-view+json": {
       "model_id": "761d8f96ef0340989dc7175db7da2ef1",
       "version_major": 2,
       "version_minor": 0
      },
      "text/plain": [
       "Resolving data files:   0%|          | 0/971 [00:00<?, ?it/s]"
      ]
     },
     "metadata": {},
     "output_type": "display_data"
    },
    {
     "data": {
      "application/vnd.jupyter.widget-view+json": {
       "model_id": "3b3fe47dae314a86b4e2dfce269480f5",
       "version_major": 2,
       "version_minor": 0
      },
      "text/plain": [
       "Downloading data files:   0%|          | 0/1 [00:00<?, ?it/s]"
      ]
     },
     "metadata": {},
     "output_type": "display_data"
    },
    {
     "data": {
      "application/vnd.jupyter.widget-view+json": {
       "model_id": "7fdcd8ddb0434569b7edb1ac5aafc121",
       "version_major": 2,
       "version_minor": 0
      },
      "text/plain": [
       "Extracting data files:   0%|          | 0/1 [00:00<?, ?it/s]"
      ]
     },
     "metadata": {},
     "output_type": "display_data"
    },
    {
     "data": {
      "application/vnd.jupyter.widget-view+json": {
       "model_id": "9cc322ef81c243dc9f7f0e048ac57910",
       "version_major": 2,
       "version_minor": 0
      },
      "text/plain": [
       "Generating train split: 0 examples [00:00, ? examples/s]"
      ]
     },
     "metadata": {},
     "output_type": "display_data"
    },
    {
     "ename": "KeyboardInterrupt",
     "evalue": "",
     "output_type": "error",
     "traceback": [
      "\u001b[0;31m---------------------------------------------------------------------------\u001b[0m",
      "\u001b[0;31mKeyboardInterrupt\u001b[0m                         Traceback (most recent call last)",
      "Cell \u001b[0;32mIn[21], line 4\u001b[0m\n\u001b[1;32m      1\u001b[0m \u001b[38;5;28;01mfrom\u001b[39;00m \u001b[38;5;21;01mdatasets\u001b[39;00m \u001b[38;5;28;01mimport\u001b[39;00m load_dataset\n\u001b[1;32m      2\u001b[0m HF_DATASET_PATH_DONUT \u001b[38;5;241m=\u001b[39m os\u001b[38;5;241m.\u001b[39mpath\u001b[38;5;241m.\u001b[39mjoin(DATASET_PATH, \u001b[38;5;124m\"\u001b[39m\u001b[38;5;124mhf_dataset_donut\u001b[39m\u001b[38;5;124m\"\u001b[39m)\n\u001b[0;32m----> 4\u001b[0m dataset \u001b[38;5;241m=\u001b[39m \u001b[43mload_dataset\u001b[49m\u001b[43m(\u001b[49m\u001b[43mHF_DATASET_PATH_DONUT\u001b[49m\u001b[43m)\u001b[49m\n\u001b[1;32m      5\u001b[0m dataset \u001b[38;5;241m=\u001b[39m dataset\u001b[38;5;241m.\u001b[39mwith_format(\u001b[38;5;124m\"\u001b[39m\u001b[38;5;124mtorch\u001b[39m\u001b[38;5;124m\"\u001b[39m)\n\u001b[1;32m      6\u001b[0m dataset[\u001b[38;5;124m\"\u001b[39m\u001b[38;5;124mtrain\u001b[39m\u001b[38;5;124m\"\u001b[39m][\u001b[38;5;241m0\u001b[39m]\n",
      "File \u001b[0;32m/usr/local/lib/python3.11/dist-packages/datasets/load.py:2153\u001b[0m, in \u001b[0;36mload_dataset\u001b[0;34m(path, name, data_dir, data_files, split, cache_dir, features, download_config, download_mode, verification_mode, ignore_verifications, keep_in_memory, save_infos, revision, token, use_auth_token, task, streaming, num_proc, storage_options, **config_kwargs)\u001b[0m\n\u001b[1;32m   2150\u001b[0m try_from_hf_gcs \u001b[38;5;241m=\u001b[39m path \u001b[38;5;129;01mnot\u001b[39;00m \u001b[38;5;129;01min\u001b[39;00m _PACKAGED_DATASETS_MODULES\n\u001b[1;32m   2152\u001b[0m \u001b[38;5;66;03m# Download and prepare data\u001b[39;00m\n\u001b[0;32m-> 2153\u001b[0m \u001b[43mbuilder_instance\u001b[49m\u001b[38;5;241;43m.\u001b[39;49m\u001b[43mdownload_and_prepare\u001b[49m\u001b[43m(\u001b[49m\n\u001b[1;32m   2154\u001b[0m \u001b[43m    \u001b[49m\u001b[43mdownload_config\u001b[49m\u001b[38;5;241;43m=\u001b[39;49m\u001b[43mdownload_config\u001b[49m\u001b[43m,\u001b[49m\n\u001b[1;32m   2155\u001b[0m \u001b[43m    \u001b[49m\u001b[43mdownload_mode\u001b[49m\u001b[38;5;241;43m=\u001b[39;49m\u001b[43mdownload_mode\u001b[49m\u001b[43m,\u001b[49m\n\u001b[1;32m   2156\u001b[0m \u001b[43m    \u001b[49m\u001b[43mverification_mode\u001b[49m\u001b[38;5;241;43m=\u001b[39;49m\u001b[43mverification_mode\u001b[49m\u001b[43m,\u001b[49m\n\u001b[1;32m   2157\u001b[0m \u001b[43m    \u001b[49m\u001b[43mtry_from_hf_gcs\u001b[49m\u001b[38;5;241;43m=\u001b[39;49m\u001b[43mtry_from_hf_gcs\u001b[49m\u001b[43m,\u001b[49m\n\u001b[1;32m   2158\u001b[0m \u001b[43m    \u001b[49m\u001b[43mnum_proc\u001b[49m\u001b[38;5;241;43m=\u001b[39;49m\u001b[43mnum_proc\u001b[49m\u001b[43m,\u001b[49m\n\u001b[1;32m   2159\u001b[0m \u001b[43m    \u001b[49m\u001b[43mstorage_options\u001b[49m\u001b[38;5;241;43m=\u001b[39;49m\u001b[43mstorage_options\u001b[49m\u001b[43m,\u001b[49m\n\u001b[1;32m   2160\u001b[0m \u001b[43m\u001b[49m\u001b[43m)\u001b[49m\n\u001b[1;32m   2162\u001b[0m \u001b[38;5;66;03m# Build dataset for splits\u001b[39;00m\n\u001b[1;32m   2163\u001b[0m keep_in_memory \u001b[38;5;241m=\u001b[39m (\n\u001b[1;32m   2164\u001b[0m     keep_in_memory \u001b[38;5;28;01mif\u001b[39;00m keep_in_memory \u001b[38;5;129;01mis\u001b[39;00m \u001b[38;5;129;01mnot\u001b[39;00m \u001b[38;5;28;01mNone\u001b[39;00m \u001b[38;5;28;01melse\u001b[39;00m is_small_dataset(builder_instance\u001b[38;5;241m.\u001b[39minfo\u001b[38;5;241m.\u001b[39mdataset_size)\n\u001b[1;32m   2165\u001b[0m )\n",
      "File \u001b[0;32m/usr/local/lib/python3.11/dist-packages/datasets/builder.py:954\u001b[0m, in \u001b[0;36mDatasetBuilder.download_and_prepare\u001b[0;34m(self, output_dir, download_config, download_mode, verification_mode, ignore_verifications, try_from_hf_gcs, dl_manager, base_path, use_auth_token, file_format, max_shard_size, num_proc, storage_options, **download_and_prepare_kwargs)\u001b[0m\n\u001b[1;32m    952\u001b[0m     \u001b[38;5;28;01mif\u001b[39;00m num_proc \u001b[38;5;129;01mis\u001b[39;00m \u001b[38;5;129;01mnot\u001b[39;00m \u001b[38;5;28;01mNone\u001b[39;00m:\n\u001b[1;32m    953\u001b[0m         prepare_split_kwargs[\u001b[38;5;124m\"\u001b[39m\u001b[38;5;124mnum_proc\u001b[39m\u001b[38;5;124m\"\u001b[39m] \u001b[38;5;241m=\u001b[39m num_proc\n\u001b[0;32m--> 954\u001b[0m     \u001b[38;5;28;43mself\u001b[39;49m\u001b[38;5;241;43m.\u001b[39;49m\u001b[43m_download_and_prepare\u001b[49m\u001b[43m(\u001b[49m\n\u001b[1;32m    955\u001b[0m \u001b[43m        \u001b[49m\u001b[43mdl_manager\u001b[49m\u001b[38;5;241;43m=\u001b[39;49m\u001b[43mdl_manager\u001b[49m\u001b[43m,\u001b[49m\n\u001b[1;32m    956\u001b[0m \u001b[43m        \u001b[49m\u001b[43mverification_mode\u001b[49m\u001b[38;5;241;43m=\u001b[39;49m\u001b[43mverification_mode\u001b[49m\u001b[43m,\u001b[49m\n\u001b[1;32m    957\u001b[0m \u001b[43m        \u001b[49m\u001b[38;5;241;43m*\u001b[39;49m\u001b[38;5;241;43m*\u001b[39;49m\u001b[43mprepare_split_kwargs\u001b[49m\u001b[43m,\u001b[49m\n\u001b[1;32m    958\u001b[0m \u001b[43m        \u001b[49m\u001b[38;5;241;43m*\u001b[39;49m\u001b[38;5;241;43m*\u001b[39;49m\u001b[43mdownload_and_prepare_kwargs\u001b[49m\u001b[43m,\u001b[49m\n\u001b[1;32m    959\u001b[0m \u001b[43m    \u001b[49m\u001b[43m)\u001b[49m\n\u001b[1;32m    960\u001b[0m \u001b[38;5;66;03m# Sync info\u001b[39;00m\n\u001b[1;32m    961\u001b[0m \u001b[38;5;28mself\u001b[39m\u001b[38;5;241m.\u001b[39minfo\u001b[38;5;241m.\u001b[39mdataset_size \u001b[38;5;241m=\u001b[39m \u001b[38;5;28msum\u001b[39m(split\u001b[38;5;241m.\u001b[39mnum_bytes \u001b[38;5;28;01mfor\u001b[39;00m split \u001b[38;5;129;01min\u001b[39;00m \u001b[38;5;28mself\u001b[39m\u001b[38;5;241m.\u001b[39minfo\u001b[38;5;241m.\u001b[39msplits\u001b[38;5;241m.\u001b[39mvalues())\n",
      "File \u001b[0;32m/usr/local/lib/python3.11/dist-packages/datasets/builder.py:1049\u001b[0m, in \u001b[0;36mDatasetBuilder._download_and_prepare\u001b[0;34m(self, dl_manager, verification_mode, **prepare_split_kwargs)\u001b[0m\n\u001b[1;32m   1045\u001b[0m split_dict\u001b[38;5;241m.\u001b[39madd(split_generator\u001b[38;5;241m.\u001b[39msplit_info)\n\u001b[1;32m   1047\u001b[0m \u001b[38;5;28;01mtry\u001b[39;00m:\n\u001b[1;32m   1048\u001b[0m     \u001b[38;5;66;03m# Prepare split will record examples associated to the split\u001b[39;00m\n\u001b[0;32m-> 1049\u001b[0m     \u001b[38;5;28;43mself\u001b[39;49m\u001b[38;5;241;43m.\u001b[39;49m\u001b[43m_prepare_split\u001b[49m\u001b[43m(\u001b[49m\u001b[43msplit_generator\u001b[49m\u001b[43m,\u001b[49m\u001b[43m \u001b[49m\u001b[38;5;241;43m*\u001b[39;49m\u001b[38;5;241;43m*\u001b[39;49m\u001b[43mprepare_split_kwargs\u001b[49m\u001b[43m)\u001b[49m\n\u001b[1;32m   1050\u001b[0m \u001b[38;5;28;01mexcept\u001b[39;00m \u001b[38;5;167;01mOSError\u001b[39;00m \u001b[38;5;28;01mas\u001b[39;00m e:\n\u001b[1;32m   1051\u001b[0m     \u001b[38;5;28;01mraise\u001b[39;00m \u001b[38;5;167;01mOSError\u001b[39;00m(\n\u001b[1;32m   1052\u001b[0m         \u001b[38;5;124m\"\u001b[39m\u001b[38;5;124mCannot find data file. \u001b[39m\u001b[38;5;124m\"\u001b[39m\n\u001b[1;32m   1053\u001b[0m         \u001b[38;5;241m+\u001b[39m (\u001b[38;5;28mself\u001b[39m\u001b[38;5;241m.\u001b[39mmanual_download_instructions \u001b[38;5;129;01mor\u001b[39;00m \u001b[38;5;124m\"\u001b[39m\u001b[38;5;124m\"\u001b[39m)\n\u001b[1;32m   1054\u001b[0m         \u001b[38;5;241m+\u001b[39m \u001b[38;5;124m\"\u001b[39m\u001b[38;5;130;01m\\n\u001b[39;00m\u001b[38;5;124mOriginal error:\u001b[39m\u001b[38;5;130;01m\\n\u001b[39;00m\u001b[38;5;124m\"\u001b[39m\n\u001b[1;32m   1055\u001b[0m         \u001b[38;5;241m+\u001b[39m \u001b[38;5;28mstr\u001b[39m(e)\n\u001b[1;32m   1056\u001b[0m     ) \u001b[38;5;28;01mfrom\u001b[39;00m \u001b[38;5;28;01mNone\u001b[39;00m\n",
      "File \u001b[0;32m/usr/local/lib/python3.11/dist-packages/datasets/builder.py:1813\u001b[0m, in \u001b[0;36mArrowBasedBuilder._prepare_split\u001b[0;34m(self, split_generator, file_format, num_proc, max_shard_size)\u001b[0m\n\u001b[1;32m   1811\u001b[0m job_id \u001b[38;5;241m=\u001b[39m \u001b[38;5;241m0\u001b[39m\n\u001b[1;32m   1812\u001b[0m \u001b[38;5;28;01mwith\u001b[39;00m pbar:\n\u001b[0;32m-> 1813\u001b[0m \u001b[43m    \u001b[49m\u001b[38;5;28;43;01mfor\u001b[39;49;00m\u001b[43m \u001b[49m\u001b[43mjob_id\u001b[49m\u001b[43m,\u001b[49m\u001b[43m \u001b[49m\u001b[43mdone\u001b[49m\u001b[43m,\u001b[49m\u001b[43m \u001b[49m\u001b[43mcontent\u001b[49m\u001b[43m \u001b[49m\u001b[38;5;129;43;01min\u001b[39;49;00m\u001b[43m \u001b[49m\u001b[38;5;28;43mself\u001b[39;49m\u001b[38;5;241;43m.\u001b[39;49m\u001b[43m_prepare_split_single\u001b[49m\u001b[43m(\u001b[49m\n\u001b[1;32m   1814\u001b[0m \u001b[43m        \u001b[49m\u001b[43mgen_kwargs\u001b[49m\u001b[38;5;241;43m=\u001b[39;49m\u001b[43mgen_kwargs\u001b[49m\u001b[43m,\u001b[49m\u001b[43m \u001b[49m\u001b[43mjob_id\u001b[49m\u001b[38;5;241;43m=\u001b[39;49m\u001b[43mjob_id\u001b[49m\u001b[43m,\u001b[49m\u001b[43m \u001b[49m\u001b[38;5;241;43m*\u001b[39;49m\u001b[38;5;241;43m*\u001b[39;49m\u001b[43m_prepare_split_args\u001b[49m\n\u001b[1;32m   1815\u001b[0m \u001b[43m    \u001b[49m\u001b[43m)\u001b[49m\u001b[43m:\u001b[49m\n\u001b[1;32m   1816\u001b[0m \u001b[43m        \u001b[49m\u001b[38;5;28;43;01mif\u001b[39;49;00m\u001b[43m \u001b[49m\u001b[43mdone\u001b[49m\u001b[43m:\u001b[49m\n\u001b[1;32m   1817\u001b[0m \u001b[43m            \u001b[49m\u001b[43mresult\u001b[49m\u001b[43m \u001b[49m\u001b[38;5;241;43m=\u001b[39;49m\u001b[43m \u001b[49m\u001b[43mcontent\u001b[49m\n",
      "File \u001b[0;32m/usr/local/lib/python3.11/dist-packages/datasets/builder.py:1925\u001b[0m, in \u001b[0;36mArrowBasedBuilder._prepare_split_single\u001b[0;34m(self, gen_kwargs, fpath, file_format, max_shard_size, job_id)\u001b[0m\n\u001b[1;32m   1923\u001b[0m \u001b[38;5;28;01mtry\u001b[39;00m:\n\u001b[1;32m   1924\u001b[0m     _time \u001b[38;5;241m=\u001b[39m time\u001b[38;5;241m.\u001b[39mtime()\n\u001b[0;32m-> 1925\u001b[0m \u001b[43m    \u001b[49m\u001b[38;5;28;43;01mfor\u001b[39;49;00m\u001b[43m \u001b[49m\u001b[43m_\u001b[49m\u001b[43m,\u001b[49m\u001b[43m \u001b[49m\u001b[43mtable\u001b[49m\u001b[43m \u001b[49m\u001b[38;5;129;43;01min\u001b[39;49;00m\u001b[43m \u001b[49m\u001b[43mgenerator\u001b[49m\u001b[43m:\u001b[49m\n\u001b[1;32m   1926\u001b[0m \u001b[43m        \u001b[49m\u001b[38;5;28;43;01mif\u001b[39;49;00m\u001b[43m \u001b[49m\u001b[43mmax_shard_size\u001b[49m\u001b[43m \u001b[49m\u001b[38;5;129;43;01mis\u001b[39;49;00m\u001b[43m \u001b[49m\u001b[38;5;129;43;01mnot\u001b[39;49;00m\u001b[43m \u001b[49m\u001b[38;5;28;43;01mNone\u001b[39;49;00m\u001b[43m \u001b[49m\u001b[38;5;129;43;01mand\u001b[39;49;00m\u001b[43m \u001b[49m\u001b[43mwriter\u001b[49m\u001b[38;5;241;43m.\u001b[39;49m\u001b[43m_num_bytes\u001b[49m\u001b[43m \u001b[49m\u001b[38;5;241;43m>\u001b[39;49m\u001b[43m \u001b[49m\u001b[43mmax_shard_size\u001b[49m\u001b[43m:\u001b[49m\n\u001b[1;32m   1927\u001b[0m \u001b[43m            \u001b[49m\u001b[43mnum_examples\u001b[49m\u001b[43m,\u001b[49m\u001b[43m \u001b[49m\u001b[43mnum_bytes\u001b[49m\u001b[43m \u001b[49m\u001b[38;5;241;43m=\u001b[39;49m\u001b[43m \u001b[49m\u001b[43mwriter\u001b[49m\u001b[38;5;241;43m.\u001b[39;49m\u001b[43mfinalize\u001b[49m\u001b[43m(\u001b[49m\u001b[43m)\u001b[49m\n",
      "File \u001b[0;32m/usr/local/lib/python3.11/dist-packages/datasets/packaged_modules/json/json.py:122\u001b[0m, in \u001b[0;36mJson._generate_tables\u001b[0;34m(self, files)\u001b[0m\n\u001b[1;32m    119\u001b[0m \u001b[38;5;28;01mwhile\u001b[39;00m \u001b[38;5;28;01mTrue\u001b[39;00m:\n\u001b[1;32m    120\u001b[0m     \u001b[38;5;28;01mtry\u001b[39;00m:\n\u001b[1;32m    121\u001b[0m         pa_table \u001b[38;5;241m=\u001b[39m paj\u001b[38;5;241m.\u001b[39mread_json(\n\u001b[0;32m--> 122\u001b[0m             \u001b[43mio\u001b[49m\u001b[38;5;241;43m.\u001b[39;49m\u001b[43mBytesIO\u001b[49m\u001b[43m(\u001b[49m\u001b[43mbatch\u001b[49m\u001b[43m)\u001b[49m, read_options\u001b[38;5;241m=\u001b[39mpaj\u001b[38;5;241m.\u001b[39mReadOptions(block_size\u001b[38;5;241m=\u001b[39mblock_size)\n\u001b[1;32m    123\u001b[0m         )\n\u001b[1;32m    124\u001b[0m         \u001b[38;5;28;01mbreak\u001b[39;00m\n\u001b[1;32m    125\u001b[0m     \u001b[38;5;28;01mexcept\u001b[39;00m (pa\u001b[38;5;241m.\u001b[39mArrowInvalid, pa\u001b[38;5;241m.\u001b[39mArrowNotImplementedError) \u001b[38;5;28;01mas\u001b[39;00m e:\n",
      "\u001b[0;31mKeyboardInterrupt\u001b[0m: "
     ]
    }
   ],
   "source": [
    "from datasets import load_dataset\n",
    "HF_DATASET_PATH_DONUT = os.path.join(DATASET_PATH, \"hf_dataset_donut\")\n",
    "\n",
    "dataset = load_dataset(HF_DATASET_PATH_DONUT)\n",
    "dataset = dataset.with_format(\"torch\")\n",
    "dataset[\"train\"][0]"
   ]
  },
  {
   "cell_type": "code",
   "execution_count": null,
   "metadata": {},
   "outputs": [],
   "source": [
    "#import numpy as np\n",
    "#from datasets import Dataset, load_from_disk\n",
    "#from torch.utils.data import DataLoader\n",
    "#data = np.randomdata dddddddddeffe.rand(10_000)\n",
    "#Dataset.from_dict({\"data\": data}).save_to_disk(\"my_dataset\")\n",
    "#ds = load_from_disk(\"my_dataset\").with_format(\"torch\")\n",
    "#dataloader = DataLoader(ds, batch_size=32, num_workers=4)"
   ]
  },
  {
   "cell_type": "code",
   "execution_count": 39,
   "metadata": {},
   "outputs": [
    {
     "data": {
      "application/vnd.jupyter.widget-view+json": {
       "model_id": "9459fad970034e4e8aeaa2b7b3253480",
       "version_major": 2,
       "version_minor": 0
      },
      "text/plain": [
       "Pushing dataset shards to the dataset hub:   0%|          | 0/2 [00:00<?, ?it/s]"
      ]
     },
     "metadata": {},
     "output_type": "display_data"
    },
    {
     "data": {
      "application/vnd.jupyter.widget-view+json": {
       "model_id": "4d20d93587dd4c53a47f901d01450604",
       "version_major": 2,
       "version_minor": 0
      },
      "text/plain": [
       "Creating parquet from Arrow format:   0%|          | 0/1 [00:00<?, ?ba/s]"
      ]
     },
     "metadata": {},
     "output_type": "display_data"
    },
    {
     "data": {
      "application/vnd.jupyter.widget-view+json": {
       "model_id": "e62b0bc6fe87414b92dcdfd4b08c69a6",
       "version_major": 2,
       "version_minor": 0
      },
      "text/plain": [
       "Creating parquet from Arrow format:   0%|          | 0/1 [00:00<?, ?ba/s]"
      ]
     },
     "metadata": {},
     "output_type": "display_data"
    }
   ],
   "source": [
    "ds.push_to_hub(\"sodowo/doc_meta_donut\")"
   ]
  },
  {
   "cell_type": "code",
   "execution_count": 41,
   "metadata": {},
   "outputs": [
    {
     "data": {
      "application/vnd.jupyter.widget-view+json": {
       "model_id": "d5772a00952d4916b0ff7c7c7d39d296",
       "version_major": 2,
       "version_minor": 0
      },
      "text/plain": [
       "Downloading readme:   0%|          | 0.00/569 [00:00<?, ?B/s]"
      ]
     },
     "metadata": {},
     "output_type": "display_data"
    },
    {
     "data": {
      "application/vnd.jupyter.widget-view+json": {
       "model_id": "4e98790c37384b70a09a40c5f4e12a7c",
       "version_major": 2,
       "version_minor": 0
      },
      "text/plain": [
       "Downloading data files:   0%|          | 0/1 [00:00<?, ?it/s]"
      ]
     },
     "metadata": {},
     "output_type": "display_data"
    },
    {
     "data": {
      "application/vnd.jupyter.widget-view+json": {
       "model_id": "fe64b62a22174d32b20423c6a53c5f5c",
       "version_major": 2,
       "version_minor": 0
      },
      "text/plain": [
       "Downloading data:   0%|          | 0.00/40.9M [00:00<?, ?B/s]"
      ]
     },
     "metadata": {},
     "output_type": "display_data"
    },
    {
     "data": {
      "application/vnd.jupyter.widget-view+json": {
       "model_id": "745dbc9f62d14678a823d7439a6f8b7c",
       "version_major": 2,
       "version_minor": 0
      },
      "text/plain": [
       "Downloading data:   0%|          | 0.00/21.6M [00:00<?, ?B/s]"
      ]
     },
     "metadata": {},
     "output_type": "display_data"
    },
    {
     "data": {
      "application/vnd.jupyter.widget-view+json": {
       "model_id": "986c34d0d1b148a686c4e19582375021",
       "version_major": 2,
       "version_minor": 0
      },
      "text/plain": [
       "Extracting data files:   0%|          | 0/1 [00:00<?, ?it/s]"
      ]
     },
     "metadata": {},
     "output_type": "display_data"
    },
    {
     "data": {
      "application/vnd.jupyter.widget-view+json": {
       "model_id": "ed8f62fe2eb54c128e38230a5a7a1691",
       "version_major": 2,
       "version_minor": 0
      },
      "text/plain": [
       "Generating train split:   0%|          | 0/10 [00:00<?, ? examples/s]"
      ]
     },
     "metadata": {},
     "output_type": "display_data"
    },
    {
     "name": "stderr",
     "output_type": "stream",
     "text": [
      "/usr/local/lib/python3.11/dist-packages/datasets/table.py:1421: FutureWarning: promote has been superseded by promote_options='default'.\n",
      "  table = cls._concat_blocks(blocks, axis=0)\n"
     ]
    }
   ],
   "source": [
    "dataset = load_dataset(\"sodowo/doc_meta_donut\")\n"
   ]
  },
  {
   "cell_type": "code",
   "execution_count": 45,
   "metadata": {},
   "outputs": [
    {
     "data": {
      "text/plain": [
       "{'data': {'metadata': tensor([    0, 41040, 46192, 41403, 44365, 34791, 37899, 35652, 14949,  9835,\n",
       "          46192, 49422, 20220,  4989, 34805, 47534, 40598, 46192, 41403, 44365,\n",
       "          50454, 46192, 41403,  1575, 33951, 19718, 46192, 50454, 46192, 41403,\n",
       "           9839,  2807, 34791, 43059, 53538, 40598, 46192, 41403,  9839,  2807,\n",
       "          50454, 46192, 41403, 43306, 34791, 36147, 40598, 46192, 41403, 43306,\n",
       "          50454, 46192, 41403, 43464,  7897, 34791, 49990, 24400, 22964, 34893,\n",
       "          49827, 34689,  1059,  9745, 36482, 18253, 40598, 46192, 41403, 43464,\n",
       "           7897, 50454, 46192, 41403, 34436, 34791, 28268, 18942, 34173, 22081,\n",
       "          39696, 45143, 34518, 40598, 46192, 41403, 34436, 50454, 46192, 41403,\n",
       "          54042, 34791, 28268, 18942, 34173, 22081, 39696, 45143, 34518, 40598,\n",
       "          46192, 41403, 54042, 50454, 46192, 41403, 21667, 41403,  4131, 34791,\n",
       "          34395, 41088, 40598, 46192, 41403, 21667, 41403,  4131, 50454, 46192,\n",
       "          41403,  8461, 34621, 41403,  4131, 34791, 52137, 34513, 40598, 46192,\n",
       "          41403,  8461, 34621, 41403,  4131, 50454, 46192, 41403, 55245, 34791,\n",
       "          43059, 53538, 40598, 46192, 41403, 55245, 50454, 46192, 41403,  5051,\n",
       "          23220, 34791, 34661, 41088, 55175, 56981, 17367, 38844, 40392, 39539,\n",
       "           2835, 40598, 46192, 41403,  5051, 23220, 50454, 46192, 41403, 49557,\n",
       "          49491, 46192, 46192, 34791, 38136, 37998, 55724, 39539,  1314, 35815,\n",
       "          42378,  6187, 27842,  4327, 18215, 23514, 40227, 40598, 46192, 41403,\n",
       "          49557, 49491, 46192, 46192, 34791, 57522, 41040, 46192, 41403,  9839,\n",
       "           2807, 34791, 43059, 53538, 40598, 46192, 41403,  9839,  2807, 50454,\n",
       "          46192, 41403, 43306, 34791, 36147, 40598, 46192, 41403, 43306, 50454,\n",
       "          46192, 41403, 43464,  7897, 34791, 49990, 24400, 22964, 34893, 46518,\n",
       "          40870, 40598, 46192, 41403, 43464,  7897, 50454, 46192, 41403, 34436,\n",
       "          34791, 53063, 50934,  3931, 43308,  4180, 40598, 46192, 41403, 34436,\n",
       "          50454, 46192, 41403, 54042, 34791, 43059, 53538, 40598, 46192, 41403,\n",
       "          54042, 50454, 46192, 41403, 21667, 41403,  4131, 34791, 27449, 38857,\n",
       "          40598, 46192, 41403, 21667, 41403,  4131, 50454, 46192, 41403,  8461,\n",
       "          34621, 41403,  4131, 34791, 43195, 15091, 40598, 46192, 41403,  8461,\n",
       "          34621, 41403,  4131, 50454, 46192, 41403, 55245, 34791, 43059, 53538,\n",
       "          40598, 46192, 41403, 55245, 50454, 46192, 41403,  5051, 23220, 34791,\n",
       "          43059, 53538, 40598, 46192, 41403,  5051, 23220, 50454, 46192, 41403,\n",
       "          49557, 49491, 46192, 46192, 34791, 43059, 53538, 40598, 46192, 41403,\n",
       "          49557, 49491, 46192, 46192, 34791, 57522, 41040, 46192, 41403,  9839,\n",
       "           2807, 34791, 43059, 53538, 40598, 46192, 41403,  9839,  2807, 50454,\n",
       "          46192, 41403, 43306, 34791, 36147, 40598, 46192, 41403, 43306, 50454,\n",
       "          46192, 41403, 43464,  7897, 34791, 49990, 24400, 22964, 34893, 34689,\n",
       "          40769, 38886, 39905, 53213, 42433, 40598, 46192, 41403, 43464,  7897,\n",
       "          50454, 46192, 41403, 34436, 34791, 53063, 50934,  3931, 49966,  4959,\n",
       "          40598, 46192, 41403, 34436, 50454, 46192, 41403, 54042, 34791, 43059,\n",
       "          53538, 40598, 46192, 41403, 54042, 50454, 46192, 41403, 21667, 41403,\n",
       "           4131, 34791, 48800, 22153, 40598, 46192, 41403, 21667, 41403,  4131,\n",
       "          50454, 46192, 41403,  8461, 34621, 41403,  4131, 34791, 36878,  9745,\n",
       "          52165,  7510, 49827, 15811, 40598, 46192, 41403,  8461, 34621, 41403,\n",
       "           4131, 50454, 46192, 41403, 55245, 34791, 43059, 53538, 40598, 46192,\n",
       "          41403, 55245, 50454, 46192, 41403,  5051, 23220, 34791,  1784, 39539,\n",
       "          18318, 44566, 56981, 17367, 38844, 40392, 39539,  2835, 40598, 46192,\n",
       "          41403,  5051, 23220, 50454, 46192, 41403, 49557, 49491, 46192, 46192,\n",
       "          34791, 17640, 36719,  9745, 55724, 39539, 45849, 34796, 35815, 38873,\n",
       "           3951,  8189, 40769, 38886, 39905, 53213, 42433, 40598, 46192, 41403,\n",
       "          49557, 49491, 46192, 46192, 50454, 47106, 46192, 41403,  1575, 33951,\n",
       "          19718, 46192, 50454, 46192, 41403, 35816, 55774, 41403, 55316, 55629,\n",
       "          33950, 50454, 46192, 41403,  9839,  2807, 34791, 13517, 39539, 39656,\n",
       "          35353, 52165, 25947, 39539, 35047, 52165, 50708, 57140, 37379, 39539,\n",
       "           2835, 40598, 46192, 41403,  9839,  2807, 50454, 46192, 41403, 43306,\n",
       "          34791, 44066, 27336, 40598, 46192, 41403, 43306, 50454, 46192, 41403,\n",
       "          18829, 19752, 34791, 11933, 37379, 40598, 46192, 41403, 18829, 19752,\n",
       "          50454, 46192, 41403, 34436, 34791, 53063,  9028, 19227,  4180, 38921,\n",
       "          12527, 40598, 46192, 41403, 34436, 50454, 46192, 41403,  4131, 34791,\n",
       "          46318, 40586, 41462, 41652, 18253, 52165, 40100, 18215, 40598, 46192,\n",
       "          41403,  4131, 50454, 46192, 41403, 55245, 34791, 53063,  9028, 35934,\n",
       "          12381, 13556, 18610, 48472, 40598, 46192, 41403, 55245, 50454, 46192,\n",
       "          41403,  5051, 23220, 34791, 46626, 52165, 39656, 35353, 52165, 25947,\n",
       "          56981, 16191, 52165, 34073, 39539,  2835, 40598, 46192, 41403,  5051,\n",
       "          23220, 50454, 46192, 41403, 49557, 49491, 46192, 46192, 34791, 47709,\n",
       "          22707, 16191, 55724, 39539, 44028, 35815, 11689,  4682, 41972, 41744,\n",
       "          18215, 52165, 49990, 36278, 53213, 42433, 40598, 46192, 41403, 49557,\n",
       "          49491, 46192, 46192, 50454, 47106, 46192, 41403, 35816, 55774, 41403,\n",
       "          55316, 55629, 33950, 50454, 46192, 41403, 33224, 41403,     4,    56,\n",
       "          45936, 50454, 46192, 41403,  9839,  2807, 34791, 13517, 39539, 39656,\n",
       "          35353, 52165, 25947, 39539, 35047, 52165, 50708, 57140, 37379, 39539,\n",
       "           2835, 40598, 46192, 41403,  9839,  2807, 50454, 46192, 41403, 43306,\n",
       "          34791, 44066, 27336, 40598, 46192, 41403, 43306, 50454, 46192, 41403,\n",
       "          18829, 19752, 34791, 11933, 37379, 40598, 46192, 41403, 18829, 19752,\n",
       "          50454, 46192, 41403, 34436, 34791, 53063,  9028, 19227,  4180, 38921,\n",
       "          12527, 40598, 46192, 41403, 34436, 50454, 46192, 41403,  4131, 34791,\n",
       "          45202, 37482, 12276, 37379, 25515, 43919, 34620, 39539, 53669, 39539,\n",
       "          40598, 46192, 41403,  4131, 50454, 46192, 41403, 55245, 34791, 53063,\n",
       "           9028, 35934, 12381, 13556, 18610, 48472, 40598, 46192, 41403, 55245,\n",
       "          50454, 46192, 41403,  5051, 23220, 34791, 46626, 52165, 39656, 35353,\n",
       "          52165, 25947, 56981, 16191, 52165, 34073, 39539,  2835, 40598, 46192,\n",
       "          41403,  5051, 23220, 50454, 46192, 41403, 49557, 49491, 46192, 46192,\n",
       "          34791, 47709, 22707, 16191, 55724, 39539, 44028, 35815, 11689,  4682,\n",
       "          41972, 41744, 18215, 52165, 49990, 36278, 53213, 42433, 40598, 46192,\n",
       "          41403, 49557, 49491, 46192, 46192, 50454, 47106, 46192, 41403, 33224,\n",
       "          41403,     4,    56, 45936, 50454, 46192, 41403, 34615, 41403, 54273,\n",
       "          40657, 34791, 45202, 37482, 12276, 37379, 25515, 43919, 34620, 39539,\n",
       "          53669, 39539, 40598, 46192, 41403, 34615, 41403, 54273, 40657, 50454,\n",
       "          46192, 41403,  1465, 41403, 36317,     4, 48170, 34791, 17459,  4992,\n",
       "          40598, 46192, 41403,  1465, 41403, 36317,     4, 48170, 50454, 46192,\n",
       "          41403, 17164, 34791, 12965, 36262, 40598, 46192, 41403, 17164, 50454,\n",
       "          46192, 41403, 49009, 41403, 43306, 34791, 15812, 49667, 46192, 40598,\n",
       "          46192, 41403, 49009, 41403, 43306, 34791,     2,  -100,  -100,  -100,\n",
       "           -100,  -100,  -100,  -100,  -100,  -100,  -100,  -100,  -100,  -100,\n",
       "           -100,  -100,  -100,  -100,  -100,  -100,  -100,  -100,  -100,  -100,\n",
       "           -100,  -100,  -100,  -100,  -100,  -100,  -100,  -100,  -100,  -100,\n",
       "           -100,  -100,  -100,  -100,  -100,  -100,  -100,  -100,  -100,  -100,\n",
       "           -100,  -100,  -100,  -100,  -100,  -100,  -100,  -100,  -100,  -100,\n",
       "           -100,  -100,  -100,  -100,  -100,  -100,  -100,  -100,  -100,  -100,\n",
       "           -100,  -100,  -100,  -100,  -100,  -100,  -100,  -100,  -100,  -100]),\n",
       "  'pixel_values': tensor([[[-1., -1., -1.,  ..., -1., -1., -1.],\n",
       "           [-1., -1., -1.,  ..., -1., -1., -1.],\n",
       "           [-1., -1., -1.,  ..., -1., -1., -1.],\n",
       "           ...,\n",
       "           [-1., -1., -1.,  ..., -1., -1., -1.],\n",
       "           [-1., -1., -1.,  ..., -1., -1., -1.],\n",
       "           [-1., -1., -1.,  ..., -1., -1., -1.]],\n",
       "  \n",
       "          [[-1., -1., -1.,  ..., -1., -1., -1.],\n",
       "           [-1., -1., -1.,  ..., -1., -1., -1.],\n",
       "           [-1., -1., -1.,  ..., -1., -1., -1.],\n",
       "           ...,\n",
       "           [-1., -1., -1.,  ..., -1., -1., -1.],\n",
       "           [-1., -1., -1.,  ..., -1., -1., -1.],\n",
       "           [-1., -1., -1.,  ..., -1., -1., -1.]],\n",
       "  \n",
       "          [[-1., -1., -1.,  ..., -1., -1., -1.],\n",
       "           [-1., -1., -1.,  ..., -1., -1., -1.],\n",
       "           [-1., -1., -1.,  ..., -1., -1., -1.],\n",
       "           ...,\n",
       "           [-1., -1., -1.,  ..., -1., -1., -1.],\n",
       "           [-1., -1., -1.,  ..., -1., -1., -1.],\n",
       "           [-1., -1., -1.,  ..., -1., -1., -1.]]])}}"
      ]
     },
     "execution_count": 45,
     "metadata": {},
     "output_type": "execute_result"
    }
   ],
   "source": [
    "dataset = dataset.with_format(\"torch\")\n",
    "dataset[\"train\"][0]"
   ]
  },
  {
   "cell_type": "markdown",
   "metadata": {
    "id": "zZUCVJSAjB3z"
   },
   "source": [
    "# Examples"
   ]
  },
  {
   "cell_type": "code",
   "execution_count": 20,
   "metadata": {
    "colab": {
     "base_uri": "https://localhost:8080/",
     "height": 1000
    },
    "id": "ptrmsIONa56z",
    "outputId": "1884c0e4-19e2-4a85-e812-7219db7401d9"
   },
   "outputs": [
    {
     "name": "stdout",
     "output_type": "stream",
     "text": [
      "url: http://olympiaschnittmuster.de/pdf/nodata.pdf\n",
      "\n",
      "\n",
      "EXTRACTION:\n",
      "{\n",
      "    \"title\": \"Entschuldigung\",\n",
      "    \"date\": null,\n",
      "    \"content_type\": \"sonstiges\",\n",
      "    \"has_signature\": false,\n",
      "    \"main_author\": {\n",
      "        \"type\": \"company\",\n",
      "        \"email\": null,\n",
      "        \"phone\": null,\n",
      "        \"fax\": null,\n",
      "        \"address\": null,\n",
      "        \"website\": null,\n",
      "        \"name\": \"OLYMPIA Schnittmusterverlag\",\n",
      "        \"sector\": null\n",
      "    },\n",
      "    \"other_authors\": null,\n",
      "    \"logo_owners\": [\n",
      "        \"OLYMPIA Schnittmusterverlag\"\n",
      "    ],\n",
      "    \"recipients\": null\n",
      "}\n"
     ]
    },
    {
     "data": {
      "image/jpeg": "[encoded data removed]",
      "text/plain": [
       "<IPython.core.display.Image object>"
      ]
     },
     "execution_count": 20,
     "metadata": {},
     "output_type": "execute_result"
    }
   ],
   "source": [
    "url = list(extraction.keys())[0]\n",
    "print(\"url:\", url)\n",
    "print(\"\\n\")\n",
    "print(\"EXTRACTION:\")\n",
    "res = extraction[url][\"metadata\"]\n",
    "print(json.dumps(res, indent=4, ensure_ascii=False))\n",
    "from IPython.display import Image\n",
    "\n",
    "file_name = mappings_img[url]\n",
    "file_path = os.path.join(IMAGE_PATH, file_name)\n",
    "Image(filename=file_path)"
   ]
  }
 ],
 "metadata": {
  "colab": {
   "provenance": []
  },
  "kernelspec": {
   "display_name": "Python 3 (ipykernel)",
   "language": "python",
   "name": "python3"
  },
  "language_info": {
   "codemirror_mode": {
    "name": "ipython",
    "version": 3
   },
   "file_extension": ".py",
   "mimetype": "text/x-python",
   "name": "python",
   "nbconvert_exporter": "python",
   "pygments_lexer": "ipython3",
   "version": "3.11.7"
  },
  "widgets": {
   "application/vnd.jupyter.widget-state+json": {
    "15eb260fbe1f4f3987708a96269663c6": {
     "model_module": "@jupyter-widgets/controls",
     "model_module_version": "1.5.0",
     "model_name": "HTMLModel",
     "state": {
      "_dom_classes": [],
      "_model_module": "@jupyter-widgets/controls",
      "_model_module_version": "1.5.0",
      "_model_name": "HTMLModel",
      "_view_count": null,
      "_view_module": "@jupyter-widgets/controls",
      "_view_module_version": "1.5.0",
      "_view_name": "HTMLView",
      "description": "",
      "description_tooltip": null,
      "layout": "IPY_MODEL_69145d688d2941ba9fae7451c87cc356",
      "placeholder": "​",
      "style": "IPY_MODEL_2d1702c4ecba45a698d1aec9dace6f34",
      "value": " 92%"
     }
    },
    "2d1702c4ecba45a698d1aec9dace6f34": {
     "model_module": "@jupyter-widgets/controls",
     "model_module_version": "1.5.0",
     "model_name": "DescriptionStyleModel",
     "state": {
      "_model_module": "@jupyter-widgets/controls",
      "_model_module_version": "1.5.0",
      "_model_name": "DescriptionStyleModel",
      "_view_count": null,
      "_view_module": "@jupyter-widgets/base",
      "_view_module_version": "1.2.0",
      "_view_name": "StyleView",
      "description_width": ""
     }
    },
    "2d4c153d5e4a4d9cbe708f73d049e709": {
     "model_module": "@jupyter-widgets/base",
     "model_module_version": "1.2.0",
     "model_name": "LayoutModel",
     "state": {
      "_model_module": "@jupyter-widgets/base",
      "_model_module_version": "1.2.0",
      "_model_name": "LayoutModel",
      "_view_count": null,
      "_view_module": "@jupyter-widgets/base",
      "_view_module_version": "1.2.0",
      "_view_name": "LayoutView",
      "align_content": null,
      "align_items": null,
      "align_self": null,
      "border": null,
      "bottom": null,
      "display": null,
      "flex": null,
      "flex_flow": null,
      "grid_area": null,
      "grid_auto_columns": null,
      "grid_auto_flow": null,
      "grid_auto_rows": null,
      "grid_column": null,
      "grid_gap": null,
      "grid_row": null,
      "grid_template_areas": null,
      "grid_template_columns": null,
      "grid_template_rows": null,
      "height": null,
      "justify_content": null,
      "justify_items": null,
      "left": null,
      "margin": null,
      "max_height": null,
      "max_width": null,
      "min_height": null,
      "min_width": null,
      "object_fit": null,
      "object_position": null,
      "order": null,
      "overflow": null,
      "overflow_x": null,
      "overflow_y": null,
      "padding": null,
      "right": null,
      "top": null,
      "visibility": null,
      "width": null
     }
    },
    "2dbfe004063d4bfb87a9a5efc9852044": {
     "model_module": "@jupyter-widgets/base",
     "model_module_version": "1.2.0",
     "model_name": "LayoutModel",
     "state": {
      "_model_module": "@jupyter-widgets/base",
      "_model_module_version": "1.2.0",
      "_model_name": "LayoutModel",
      "_view_count": null,
      "_view_module": "@jupyter-widgets/base",
      "_view_module_version": "1.2.0",
      "_view_name": "LayoutView",
      "align_content": null,
      "align_items": null,
      "align_self": null,
      "border": null,
      "bottom": null,
      "display": null,
      "flex": null,
      "flex_flow": null,
      "grid_area": null,
      "grid_auto_columns": null,
      "grid_auto_flow": null,
      "grid_auto_rows": null,
      "grid_column": null,
      "grid_gap": null,
      "grid_row": null,
      "grid_template_areas": null,
      "grid_template_columns": null,
      "grid_template_rows": null,
      "height": null,
      "justify_content": null,
      "justify_items": null,
      "left": null,
      "margin": null,
      "max_height": null,
      "max_width": null,
      "min_height": null,
      "min_width": null,
      "object_fit": null,
      "object_position": null,
      "order": null,
      "overflow": null,
      "overflow_x": null,
      "overflow_y": null,
      "padding": null,
      "right": null,
      "top": null,
      "visibility": null,
      "width": null
     }
    },
    "69145d688d2941ba9fae7451c87cc356": {
     "model_module": "@jupyter-widgets/base",
     "model_module_version": "1.2.0",
     "model_name": "LayoutModel",
     "state": {
      "_model_module": "@jupyter-widgets/base",
      "_model_module_version": "1.2.0",
      "_model_name": "LayoutModel",
      "_view_count": null,
      "_view_module": "@jupyter-widgets/base",
      "_view_module_version": "1.2.0",
      "_view_name": "LayoutView",
      "align_content": null,
      "align_items": null,
      "align_self": null,
      "border": null,
      "bottom": null,
      "display": null,
      "flex": null,
      "flex_flow": null,
      "grid_area": null,
      "grid_auto_columns": null,
      "grid_auto_flow": null,
      "grid_auto_rows": null,
      "grid_column": null,
      "grid_gap": null,
      "grid_row": null,
      "grid_template_areas": null,
      "grid_template_columns": null,
      "grid_template_rows": null,
      "height": null,
      "justify_content": null,
      "justify_items": null,
      "left": null,
      "margin": null,
      "max_height": null,
      "max_width": null,
      "min_height": null,
      "min_width": null,
      "object_fit": null,
      "object_position": null,
      "order": null,
      "overflow": null,
      "overflow_x": null,
      "overflow_y": null,
      "padding": null,
      "right": null,
      "top": null,
      "visibility": null,
      "width": null
     }
    },
    "92bf2afb1a3a414fb0a2b221d3ec81a1": {
     "model_module": "@jupyter-widgets/controls",
     "model_module_version": "1.5.0",
     "model_name": "ProgressStyleModel",
     "state": {
      "_model_module": "@jupyter-widgets/controls",
      "_model_module_version": "1.5.0",
      "_model_name": "ProgressStyleModel",
      "_view_count": null,
      "_view_module": "@jupyter-widgets/base",
      "_view_module_version": "1.2.0",
      "_view_name": "StyleView",
      "bar_color": null,
      "description_width": ""
     }
    },
    "95069845244a4c1bb8128fe354d68e43": {
     "model_module": "@jupyter-widgets/controls",
     "model_module_version": "1.5.0",
     "model_name": "HBoxModel",
     "state": {
      "_dom_classes": [],
      "_model_module": "@jupyter-widgets/controls",
      "_model_module_version": "1.5.0",
      "_model_name": "HBoxModel",
      "_view_count": null,
      "_view_module": "@jupyter-widgets/controls",
      "_view_module_version": "1.5.0",
      "_view_name": "HBoxView",
      "box_style": "",
      "children": [
       "IPY_MODEL_15eb260fbe1f4f3987708a96269663c6",
       "IPY_MODEL_9b4836f1b33b473cba2d72b0aa7ab55e",
       "IPY_MODEL_e6316ee3b4f84851a1a7c477d266911c"
      ],
      "layout": "IPY_MODEL_d3ce130b5c284a2ba2e65c3afc447318"
     }
    },
    "9b4836f1b33b473cba2d72b0aa7ab55e": {
     "model_module": "@jupyter-widgets/controls",
     "model_module_version": "1.5.0",
     "model_name": "FloatProgressModel",
     "state": {
      "_dom_classes": [],
      "_model_module": "@jupyter-widgets/controls",
      "_model_module_version": "1.5.0",
      "_model_name": "FloatProgressModel",
      "_view_count": null,
      "_view_module": "@jupyter-widgets/controls",
      "_view_module_version": "1.5.0",
      "_view_name": "ProgressView",
      "bar_style": "danger",
      "description": "",
      "description_tooltip": null,
      "layout": "IPY_MODEL_2d4c153d5e4a4d9cbe708f73d049e709",
      "max": 3000,
      "min": 0,
      "orientation": "horizontal",
      "style": "IPY_MODEL_92bf2afb1a3a414fb0a2b221d3ec81a1",
      "value": 2774
     }
    },
    "d3ce130b5c284a2ba2e65c3afc447318": {
     "model_module": "@jupyter-widgets/base",
     "model_module_version": "1.2.0",
     "model_name": "LayoutModel",
     "state": {
      "_model_module": "@jupyter-widgets/base",
      "_model_module_version": "1.2.0",
      "_model_name": "LayoutModel",
      "_view_count": null,
      "_view_module": "@jupyter-widgets/base",
      "_view_module_version": "1.2.0",
      "_view_name": "LayoutView",
      "align_content": null,
      "align_items": null,
      "align_self": null,
      "border": null,
      "bottom": null,
      "display": null,
      "flex": null,
      "flex_flow": null,
      "grid_area": null,
      "grid_auto_columns": null,
      "grid_auto_flow": null,
      "grid_auto_rows": null,
      "grid_column": null,
      "grid_gap": null,
      "grid_row": null,
      "grid_template_areas": null,
      "grid_template_columns": null,
      "grid_template_rows": null,
      "height": null,
      "justify_content": null,
      "justify_items": null,
      "left": null,
      "margin": null,
      "max_height": null,
      "max_width": null,
      "min_height": null,
      "min_width": null,
      "object_fit": null,
      "object_position": null,
      "order": null,
      "overflow": null,
      "overflow_x": null,
      "overflow_y": null,
      "padding": null,
      "right": null,
      "top": null,
      "visibility": null,
      "width": null
     }
    },
    "e6316ee3b4f84851a1a7c477d266911c": {
     "model_module": "@jupyter-widgets/controls",
     "model_module_version": "1.5.0",
     "model_name": "HTMLModel",
     "state": {
      "_dom_classes": [],
      "_model_module": "@jupyter-widgets/controls",
      "_model_module_version": "1.5.0",
      "_model_name": "HTMLModel",
      "_view_count": null,
      "_view_module": "@jupyter-widgets/controls",
      "_view_module_version": "1.5.0",
      "_view_name": "HTMLView",
      "description": "",
      "description_tooltip": null,
      "layout": "IPY_MODEL_2dbfe004063d4bfb87a9a5efc9852044",
      "placeholder": "​",
      "style": "IPY_MODEL_f97c9395b20249949dc1634cc454eb1a",
      "value": " 2774/3000 [8:57:51&lt;1:15:36, 20.08s/it]"
     }
    },
    "f97c9395b20249949dc1634cc454eb1a": {
     "model_module": "@jupyter-widgets/controls",
     "model_module_version": "1.5.0",
     "model_name": "DescriptionStyleModel",
     "state": {
      "_model_module": "@jupyter-widgets/controls",
      "_model_module_version": "1.5.0",
      "_model_name": "DescriptionStyleModel",
      "_view_count": null,
      "_view_module": "@jupyter-widgets/base",
      "_view_module_version": "1.2.0",
      "_view_name": "StyleView",
      "description_width": ""
     }
    }
   }
  }
 },
 "nbformat": 4,
 "nbformat_minor": 4
}
