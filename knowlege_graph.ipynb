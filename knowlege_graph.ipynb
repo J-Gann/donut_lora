{
 "cells": [
  {
   "cell_type": "code",
   "execution_count": 6,
   "metadata": {},
   "outputs": [
    {
     "name": "stdout",
     "output_type": "stream",
     "text": [
      "Requirement already satisfied: nest-asyncio in /usr/local/lib/python3.11/dist-packages (1.6.0)\n",
      "\u001b[33mWARNING: Running pip as the 'root' user can result in broken permissions and conflicting behaviour with the system package manager. It is recommended to use a virtual environment instead: https://pip.pypa.io/warnings/venv\u001b[0m\u001b[33m\n",
      "\u001b[0m"
     ]
    }
   ],
   "source": [
    "import nest_asyncio\n",
    "nest_asyncio.apply()"
   ]
  },
  {
   "cell_type": "code",
   "execution_count": 1,
   "metadata": {},
   "outputs": [
    {
     "data": {
      "text/plain": [
       "4702"
      ]
     },
     "execution_count": 1,
     "metadata": {},
     "output_type": "execute_result"
    }
   ],
   "source": [
    "import json\n",
    "\n",
    "with open(\"documents/extraction.json\", \"r\") as f:\n",
    "    extraction = json.load(f)\n",
    "\n",
    "len(extraction)"
   ]
  },
  {
   "cell_type": "code",
   "execution_count": 94,
   "metadata": {},
   "outputs": [
    {
     "name": "stderr",
     "output_type": "stream",
     "text": [
      "huggingface/tokenizers: The current process just got forked, after parallelism has already been used. Disabling parallelism to avoid deadlocks...\n",
      "To disable this warning, you can either:\n",
      "\t- Avoid using `tokenizers` before the fork if possible\n",
      "\t- Explicitly set the environment variable TOKENIZERS_PARALLELISM=(true | false)\n"
     ]
    },
    {
     "name": "stdout",
     "output_type": "stream",
     "text": [
      "\u001b[33mWARNING: Running pip as the 'root' user can result in broken permissions and conflicting behaviour with the system package manager. It is recommended to use a virtual environment instead: https://pip.pypa.io/warnings/venv\u001b[0m\u001b[33m\n",
      "\u001b[0mNote: you may need to restart the kernel to use updated packages.\n"
     ]
    }
   ],
   "source": [
    "%pip install --quiet llama-index-core llama-index-readers-file llama-index-llms-ollama llama-index-embeddings-huggingface llama-index-llms-openai llama-index-embeddings-openai"
   ]
  },
  {
   "cell_type": "code",
   "execution_count": 3,
   "metadata": {},
   "outputs": [],
   "source": [
    "from llama_index.core.schema import Document\n",
    "\n",
    "documents = [Document(text=list(extraction.values())[i][\"transcript\"]) for i in range(len(extraction))]\n"
   ]
  },
  {
   "cell_type": "code",
   "execution_count": 100,
   "metadata": {},
   "outputs": [],
   "source": [
    "from llama_index.llms.openai import OpenAI\n",
    "\n",
    "llm = OpenAI(model=\"gpt-4o\", api_key=os.getenv(\"OPENAI_API_KEY\"))"
   ]
  },
  {
   "cell_type": "code",
   "execution_count": 114,
   "metadata": {},
   "outputs": [],
   "source": [
    "_documents = documents[2000:2001]\n",
    "\n",
    "\n",
    "for doc in _documents:\n",
    "    doc.text = llm.complete(\"Your task is to extract structured information from the following text. Extract all entities (Person, Companies, Organizations) and all their attributes (e.g. age, nationality, position, customer-number, identifiers etc.). Focus on simple key-value pairs. \"+doc.text).text\n"
   ]
  },
  {
   "cell_type": "code",
   "execution_count": 96,
   "metadata": {},
   "outputs": [],
   "source": [
    "#from llama_index.embeddings.huggingface import HuggingFaceEmbedding\n",
    "#\n",
    "#embed_model = HuggingFaceEmbedding(\"T-Systems-onsite/cross-en-de-roberta-sentence-transformer\")\n",
    "\n",
    "\n",
    "from llama_index.embeddings.openai import OpenAIEmbedding\n",
    "embed_model = OpenAIEmbedding(model=\"text-embedding-3-small\")\n"
   ]
  },
  {
   "cell_type": "code",
   "execution_count": 27,
   "metadata": {},
   "outputs": [
    {
     "name": "stdout",
     "output_type": "stream",
     "text": [
      "\u001b[33mWARNING: Running pip as the 'root' user can result in broken permissions and conflicting behaviour with the system package manager. It is recommended to use a virtual environment instead: https://pip.pypa.io/warnings/venv\u001b[0m\u001b[33m\n",
      "\u001b[0mNote: you may need to restart the kernel to use updated packages.\n"
     ]
    }
   ],
   "source": [
    "%pip install --quiet python-dotenv"
   ]
  },
  {
   "cell_type": "code",
   "execution_count": 28,
   "metadata": {},
   "outputs": [
    {
     "data": {
      "text/plain": [
       "True"
      ]
     },
     "execution_count": 28,
     "metadata": {},
     "output_type": "execute_result"
    }
   ],
   "source": [
    "from dotenv import load_dotenv\n",
    "\n",
    "load_dotenv()"
   ]
  },
  {
   "cell_type": "code",
   "execution_count": 118,
   "metadata": {},
   "outputs": [],
   "source": [
    "from llama_index.core.indices.property_graph import SchemaLLMPathExtractor\n",
    "\n",
    "from llama_index.core import PropertyGraphIndex\n",
    "from typing import Literal\n",
    "\n",
    "\n",
    "import os\n",
    "\n",
    "\n",
    "entities = Literal[\"PERSON\", \"COMPANY\", \"ORGANIZATION\", \"VALUE\"]\n",
    "\n",
    "\n",
    "kg_extractor = SchemaLLMPathExtractor(\n",
    "  llm=llm, \n",
    "  possible_entities=entities, \n",
    "  #possible_relations=relations, \n",
    "  #kg_validation_schema=schema,\n",
    "  strict=False,  # if false, allows values outside of spec\n",
    ")\n",
    "\n",
    "index = PropertyGraphIndex.from_documents(\n",
    "    _documents,\n",
    "    kg_extractors=[kg_extractor],\n",
    "    embed_model=embed_model,\n",
    ")\n",
    "\n",
    "# insert additional documents / nodes\n",
    "# index.insert(document)\n",
    "# index.insert_nodes(nodes)"
   ]
  },
  {
   "cell_type": "code",
   "execution_count": 43,
   "metadata": {},
   "outputs": [
    {
     "name": "stderr",
     "output_type": "stream",
     "text": [
      "huggingface/tokenizers: The current process just got forked, after parallelism has already been used. Disabling parallelism to avoid deadlocks...\n",
      "To disable this warning, you can either:\n",
      "\t- Avoid using `tokenizers` before the fork if possible\n",
      "\t- Explicitly set the environment variable TOKENIZERS_PARALLELISM=(true | false)\n"
     ]
    },
    {
     "name": "stdout",
     "output_type": "stream",
     "text": [
      "\u001b[33mWARNING: Running pip as the 'root' user can result in broken permissions and conflicting behaviour with the system package manager. It is recommended to use a virtual environment instead: https://pip.pypa.io/warnings/venv\u001b[0m\u001b[33m\n",
      "\u001b[0mNote: you may need to restart the kernel to use updated packages.\n"
     ]
    }
   ],
   "source": [
    "%pip install --quiet pyvis"
   ]
  },
  {
   "cell_type": "code",
   "execution_count": 116,
   "metadata": {},
   "outputs": [
    {
     "data": {
      "text/plain": [
       "{('Attachments',\n",
       "  'DESCRIBES',\n",
       "  'Information sheet on dealing with symptoms of illness (04.06.2021)'),\n",
       " ('Attachments',\n",
       "  'DESCRIBES',\n",
       "  'Overview of RHP Schule (valid from 07.06.2021)'),\n",
       " ('Attachments', 'DESCRIBES', 'RHP Schule (04.06.2021)'),\n",
       " ('Attachments',\n",
       "  'DESCRIBES',\n",
       "  'Word template  Corona-Selbsttest-Ausweis  (DIN-A4 and pocket format)'),\n",
       " ('Date of Document', 'DESCRIBES', '04.06.2021'),\n",
       " ('Frau Schulleiterin', 'DESCRIBES', 'School Principal (female)'),\n",
       " ('Herr Schulleiter', 'DESCRIBES', 'School Principal (male)'),\n",
       " ('Reference Number', 'DESCRIBES', 'ZS.4-BS4363.0/839'),\n",
       " ('Subject',\n",
       "  'DESCRIBES',\n",
       "  'Covid-19 protective measures in schools in Bavaria')}"
      ]
     },
     "execution_count": 116,
     "metadata": {},
     "output_type": "execute_result"
    }
   ],
   "source": [
    "graph_dict = index.property_graph_store.to_dict()\n",
    "\n",
    "graph_dict[\"triplets\"]"
   ]
  },
  {
   "cell_type": "code",
   "execution_count": null,
   "metadata": {},
   "outputs": [],
   "source": [
    "%pip --quiet install yfiles_jupyter_graphs"
   ]
  },
  {
   "cell_type": "code",
   "execution_count": 119,
   "metadata": {},
   "outputs": [
    {
     "data": {
      "application/vnd.jupyter.widget-view+json": {
       "model_id": "c59346fd5a0e4f1884b973e82ced7b8c",
       "version_major": 2,
       "version_minor": 0
      },
      "text/plain": [
       "GraphWidget(layout=Layout(height='650px', width='100%'))"
      ]
     },
     "metadata": {},
     "output_type": "display_data"
    },
    {
     "name": "stderr",
     "output_type": "stream",
     "text": [
      "No such comm: c59346fd5a0e4f1884b973e82ced7b8c\n"
     ]
    }
   ],
   "source": [
    "index.property_graph_store.show_jupyter_graph()"
   ]
  }
 ],
 "metadata": {
  "kernelspec": {
   "display_name": "Python 3 (ipykernel)",
   "language": "python",
   "name": "python3"
  },
  "language_info": {
   "codemirror_mode": {
    "name": "ipython",
    "version": 3
   },
   "file_extension": ".py",
   "mimetype": "text/x-python",
   "name": "python",
   "nbconvert_exporter": "python",
   "pygments_lexer": "ipython3",
   "version": "3.11.7"
  }
 },
 "nbformat": 4,
 "nbformat_minor": 2
}
